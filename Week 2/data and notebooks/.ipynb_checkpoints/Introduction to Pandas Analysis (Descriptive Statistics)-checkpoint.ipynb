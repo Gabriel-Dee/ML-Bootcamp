{
 "cells": [
  {
   "cell_type": "markdown",
   "metadata": {},
   "source": [
    "# Introduction to Pandas Analysis"
   ]
  },
  {
   "cell_type": "code",
   "execution_count": null,
   "metadata": {
    "ExecuteTime": {
     "end_time": "2023-08-07T07:28:21.808339Z",
     "start_time": "2023-08-07T07:28:21.805472Z"
    }
   },
   "outputs": [],
   "source": [
    "import pandas as pd\n",
    "import numpy as np"
   ]
  },
  {
   "cell_type": "markdown",
   "metadata": {},
   "source": [
    "# Train dataset analysis"
   ]
  },
  {
   "cell_type": "code",
   "execution_count": null,
   "metadata": {
    "ExecuteTime": {
     "end_time": "2023-08-07T07:28:21.869766Z",
     "start_time": "2023-08-07T07:28:21.811130Z"
    }
   },
   "outputs": [],
   "source": [
    "df = pd.read_csv('Train.csv')\n",
    "df.head()"
   ]
  },
  {
   "cell_type": "markdown",
   "metadata": {},
   "source": [
    "### Statistical Summary for Train Dataset"
   ]
  },
  {
   "cell_type": "code",
   "execution_count": null,
   "metadata": {
    "ExecuteTime": {
     "end_time": "2023-08-07T07:28:21.882782Z",
     "start_time": "2023-08-07T07:28:21.871577Z"
    }
   },
   "outputs": [],
   "source": [
    "df.describe()"
   ]
  },
  {
   "cell_type": "markdown",
   "metadata": {},
   "source": [
    "### How many rows and how many columns in the dataframe?"
   ]
  },
  {
   "cell_type": "code",
   "execution_count": null,
   "metadata": {
    "ExecuteTime": {
     "end_time": "2023-08-07T07:28:21.887172Z",
     "start_time": "2023-08-07T07:28:21.884546Z"
    }
   },
   "outputs": [],
   "source": [
    "print(f'Number of rows and columns : {df.shape}')\n",
    "print(f'Number of rows : {df.shape[0]}')\n",
    "print(f'Number of columns : {df.shape[1]}')\n",
    "print('alternatively for getting number of rows, pick any column and use size')\n",
    "print(f'Number of rows : {df.bank_account.size}')\n",
    "print('*********************************************')\n",
    "print(f'There are {df.shape[0]} rows and {df.shape[1]} columns')"
   ]
  },
  {
   "cell_type": "markdown",
   "metadata": {},
   "source": [
    "### Get info about dataframe"
   ]
  },
  {
   "cell_type": "code",
   "execution_count": null,
   "metadata": {
    "ExecuteTime": {
     "end_time": "2023-08-07T07:28:21.918967Z",
     "start_time": "2023-08-07T07:28:21.888464Z"
    }
   },
   "outputs": [],
   "source": [
    "#number of rows and columns, name of columns, index,columns names and their data types\n",
    "print(df.info()) "
   ]
  },
  {
   "cell_type": "markdown",
   "metadata": {},
   "source": [
    "### How many null values in each column?"
   ]
  },
  {
   "cell_type": "code",
   "execution_count": null,
   "metadata": {
    "ExecuteTime": {
     "end_time": "2023-08-07T07:28:21.946625Z",
     "start_time": "2023-08-07T07:28:21.919950Z"
    }
   },
   "outputs": [],
   "source": [
    "print(f'Number of NAN values in each column: \\n {df.isna().sum()}')"
   ]
  },
  {
   "cell_type": "markdown",
   "metadata": {},
   "source": [
    "### List the first 5 records for the Dataset"
   ]
  },
  {
   "cell_type": "code",
   "execution_count": null,
   "metadata": {
    "ExecuteTime": {
     "end_time": "2023-08-07T07:28:21.954086Z",
     "start_time": "2023-08-07T07:28:21.947777Z"
    }
   },
   "outputs": [],
   "source": [
    "print('The first 5 records for Train dataset are:\\n ')\n",
    "df.head() "
   ]
  },
  {
   "cell_type": "markdown",
   "metadata": {},
   "source": [
    "### Count number of respondents with and without cellphone access  were presented excluding NaN in descending order by default - utilize value_counts()"
   ]
  },
  {
   "cell_type": "code",
   "execution_count": null,
   "metadata": {
    "ExecuteTime": {
     "end_time": "2023-08-07T07:28:21.959825Z",
     "start_time": "2023-08-07T07:28:21.956363Z"
    }
   },
   "outputs": [],
   "source": [
    "print(df.cellphone_access.value_counts(dropna=True))           # in descending order"
   ]
  },
  {
   "cell_type": "markdown",
   "metadata": {},
   "source": [
    "### How many respondents were Male and/or Female"
   ]
  },
  {
   "cell_type": "code",
   "execution_count": null,
   "metadata": {
    "ExecuteTime": {
     "end_time": "2023-08-07T07:28:21.968543Z",
     "start_time": "2023-08-07T07:28:21.961232Z"
    }
   },
   "outputs": [],
   "source": [
    "print(df.gender_of_respondent.value_counts(ascending=True))\n",
    "print('*****************Alternatively**************')\n",
    "print(f'There are {df.gender_of_respondent.value_counts(ascending=True)[0]} male and {df.gender_of_respondent.value_counts(ascending=True)[1]} female')"
   ]
  },
  {
   "cell_type": "markdown",
   "metadata": {},
   "source": [
    "### Sorting Column in Ascending and Descending order"
   ]
  },
  {
   "cell_type": "code",
   "execution_count": null,
   "metadata": {
    "ExecuteTime": {
     "end_time": "2023-08-07T07:28:21.992731Z",
     "start_time": "2023-08-07T07:28:21.969854Z"
    }
   },
   "outputs": [],
   "source": [
    "print(df.country.sort_values())\n",
    "print('********************************')\n",
    "print('country in descending order')\n",
    "print(df.country.sort_values(ascending=False))"
   ]
  },
  {
   "cell_type": "markdown",
   "metadata": {},
   "source": [
    "### display all columns in sorted order of country and then relationship with head. In each column can specify ascending or descending"
   ]
  },
  {
   "cell_type": "code",
   "execution_count": null,
   "metadata": {
    "ExecuteTime": {
     "end_time": "2023-08-07T07:28:22.010361Z",
     "start_time": "2023-08-07T07:28:21.993805Z"
    }
   },
   "outputs": [],
   "source": [
    "#sort in more than one column and show all records\n",
    "df.sort_values(by=['country','relationship_with_head'],ascending=[True,False])"
   ]
  },
  {
   "cell_type": "code",
   "execution_count": null,
   "metadata": {},
   "outputs": [],
   "source": []
  }
 ],
 "metadata": {
  "hide_input": false,
  "kernelspec": {
   "display_name": "Python 3",
   "language": "python",
   "name": "python3"
  },
  "language_info": {
   "codemirror_mode": {
    "name": "ipython",
    "version": 3
   },
   "file_extension": ".py",
   "mimetype": "text/x-python",
   "name": "python",
   "nbconvert_exporter": "python",
   "pygments_lexer": "ipython3",
   "version": "3.8.8"
  },
  "toc": {
   "base_numbering": 1,
   "nav_menu": {},
   "number_sections": true,
   "sideBar": true,
   "skip_h1_title": false,
   "title_cell": "Table of Contents",
   "title_sidebar": "Contents",
   "toc_cell": false,
   "toc_position": {},
   "toc_section_display": true,
   "toc_window_display": false
  }
 },
 "nbformat": 4,
 "nbformat_minor": 2
}
