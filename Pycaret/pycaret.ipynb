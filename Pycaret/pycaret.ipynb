{
 "cells": [
  {
   "cell_type": "markdown",
   "id": "12a60d64-98b0-48a3-8413-3b594034cf74",
   "metadata": {},
   "source": [
    "# Pycaret - https://pycaret.gitbook.io/docs/"
   ]
  },
  {
   "cell_type": "markdown",
   "id": "3e2568b9-acdd-4276-8135-fc6156614161",
   "metadata": {},
   "source": [
    "PyCaret\n",
    "It was developed with the intention of spending less time coding and more time analyzing data. It is an end-to-end model management tool that assists us in automating machine learning processes.\n",
    "\n",
    "PyCaret automates feature engineering, imputation of missing values, tuning of hyperparameters, and even deployment.\n",
    "\n",
    "PyCaret allows us to perform normalization, scaling, feature selection using Principal Component Analysis (PCA), outlier removal, and numerous other functions as part of the data preparation process.\n",
    "\n",
    "In the training phase, we can add and remove models, specify time constraints, compare different models, and plot various graphs, such as ROC curves.\n",
    "\n",
    "The model can be deployed on AWS, Google Cloud Platform (GCP), or Microsoft Azure. It is also possible to save the transformation pipeline and a trained model object as pickle files and retrieve them at any time."
   ]
  },
  {
   "cell_type": "markdown",
   "id": "56e7c652-7dc6-4978-b2c6-9f6257776d9f",
   "metadata": {},
   "source": [
    "Preparing the data:"
   ]
  },
  {
   "cell_type": "code",
   "execution_count": null,
   "id": "ab7ad15e-e8d3-44ce-a9e4-89c57c67d630",
   "metadata": {},
   "outputs": [],
   "source": [
    "from pycaret.classification import *"
   ]
  },
  {
   "cell_type": "code",
   "execution_count": 1,
   "id": "4f5b160d-1881-47d8-9b12-a6b248beefff",
   "metadata": {},
   "outputs": [
    {
     "ename": "SyntaxError",
     "evalue": "unmatched ')' (154526075.py, line 4)",
     "output_type": "error",
     "traceback": [
      "\u001b[0;36m  Cell \u001b[0;32mIn[1], line 4\u001b[0;36m\u001b[0m\n\u001b[0;31m    normalize_method='zscore'))\u001b[0m\n\u001b[0m                              ^\u001b[0m\n\u001b[0;31mSyntaxError\u001b[0m\u001b[0;31m:\u001b[0m unmatched ')'\n"
     ]
    }
   ],
   "source": [
    "#Loading the data, defining the target varaible and performing normalizing \n",
    "#the data using z-score\n",
    "clf = setup(data = data, target = 'Species' ,normalize=True,\n",
    "             normalize_method='zscore'))"
   ]
  },
  {
   "cell_type": "markdown",
   "id": "08368196-b3d4-49cd-9082-e59db3a415ce",
   "metadata": {},
   "source": [
    "Finding the best model:"
   ]
  },
  {
   "cell_type": "code",
   "execution_count": null,
   "id": "17a1bd84-62eb-4598-aad2-12713150e94c",
   "metadata": {},
   "outputs": [],
   "source": [
    "# compare models\n",
    "compare_models()"
   ]
  },
  {
   "cell_type": "code",
   "execution_count": null,
   "id": "6c33083b-44ba-4a1f-92a9-c65d20197391",
   "metadata": {},
   "outputs": [],
   "source": []
  }
 ],
 "metadata": {
  "kernelspec": {
   "display_name": "Python 3 (ipykernel)",
   "language": "python",
   "name": "python3"
  },
  "language_info": {
   "codemirror_mode": {
    "name": "ipython",
    "version": 3
   },
   "file_extension": ".py",
   "mimetype": "text/x-python",
   "name": "python",
   "nbconvert_exporter": "python",
   "pygments_lexer": "ipython3",
   "version": "3.11.3"
  }
 },
 "nbformat": 4,
 "nbformat_minor": 5
}
