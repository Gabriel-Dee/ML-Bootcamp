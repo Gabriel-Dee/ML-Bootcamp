{
 "cells": [
  {
   "cell_type": "markdown",
   "metadata": {},
   "source": [
    "## Chapter 05 User Defined Functions And Modules"
   ]
  },
  {
   "cell_type": "markdown",
   "metadata": {},
   "source": [
    "### Functions"
   ]
  },
  {
   "cell_type": "markdown",
   "metadata": {},
   "source": [
    "#### chp05ex01 - Defining and calling a function"
   ]
  },
  {
   "cell_type": "code",
   "execution_count": 2,
   "metadata": {},
   "outputs": [
    {
     "name": "stdout",
     "output_type": "stream",
     "text": [
      "Hello world!\n"
     ]
    }
   ],
   "source": [
    "def displayHelloWorld():\n",
    "    print('Hello world!')\n",
    "\n",
    "#call a function\n",
    "displayHelloWorld()"
   ]
  },
  {
   "cell_type": "markdown",
   "metadata": {},
   "source": [
    "#### chp05ex02 - Passing parameters to a function"
   ]
  },
  {
   "cell_type": "code",
   "execution_count": 3,
   "metadata": {},
   "outputs": [
    {
     "name": "stdout",
     "output_type": "stream",
     "text": [
      "13 + 34.5 = 47.5\n",
      "25 + 50 = 75\n"
     ]
    },
    {
     "name": "stdin",
     "output_type": "stream",
     "text": [
      "Enter first number  77\n",
      "Enter second number  89\n"
     ]
    },
    {
     "name": "stdout",
     "output_type": "stream",
     "text": [
      "77.0 + 89.0 = 166.0\n"
     ]
    }
   ],
   "source": [
    "def sumTwoNumbers(num1,num2):\n",
    "    print(f'{num1} + {num2} = {num1+num2}')\n",
    "    \n",
    "\n",
    "sumTwoNumbers(13,34.5)\n",
    "sumTwoNumbers(25,50)\n",
    "number1=float(input('Enter first number '))\n",
    "number2=float(input('Enter second number '))\n",
    "sumTwoNumbers(number1,number2) # assuming number1 and number2 are float values"
   ]
  },
  {
   "cell_type": "markdown",
   "metadata": {},
   "source": [
    "#### chp05ex03 - Return a value from a function"
   ]
  },
  {
   "cell_type": "code",
   "execution_count": 4,
   "metadata": {},
   "outputs": [
    {
     "name": "stdin",
     "output_type": "stream",
     "text": [
      "Enter String:  Gabriel\n"
     ]
    },
    {
     "name": "stdout",
     "output_type": "stream",
     "text": [
      "Entered string is: Gabriel\n",
      "There are 3 vowels in the entered string\n"
     ]
    }
   ],
   "source": [
    "def numVowels(str):\n",
    "    vowelStr='aeiou'\n",
    "    count = 0\n",
    "    for char in str.lower():\n",
    "        if char in vowelStr:\n",
    "            count += 1\n",
    "    return count\n",
    "\n",
    "\n",
    "inStr=input('Enter String: ')\n",
    "print(f'Entered string is: {inStr}')\n",
    "print(f'There are {numVowels(inStr)} vowels in the entered string') # display returned value"
   ]
  },
  {
   "cell_type": "markdown",
   "metadata": {},
   "source": [
    "#### chp05ex04 - Returned value assigned to a variable"
   ]
  },
  {
   "cell_type": "code",
   "execution_count": 5,
   "metadata": {},
   "outputs": [
    {
     "name": "stdin",
     "output_type": "stream",
     "text": [
      "Enter String:  Gabriel D Minzemalulu is a good boy\n"
     ]
    },
    {
     "name": "stdout",
     "output_type": "stream",
     "text": [
      "Entered string is: Gabriel D Minzemalulu is a good boy\n",
      "There are 13 vowels in the entered string\n"
     ]
    }
   ],
   "source": [
    "def numVowels(str):\n",
    "    vowelStr='aeiou'\n",
    "    str = str.lower()\n",
    "    count = 0\n",
    "    for char in str:\n",
    "        if char in vowelStr:\n",
    "            count += 1\n",
    "    return count\n",
    "\n",
    "\n",
    "inStr=input(\"Enter String: \")\n",
    "vowelsNum=numVowels(inStr)   # assign returned value to a variable\n",
    "print(f'Entered string is: {inStr}')\n",
    "print(f'There are {vowelsNum} vowels in the entered string') #display variable value"
   ]
  },
  {
   "cell_type": "markdown",
   "metadata": {},
   "source": [
    "#### chp05ex05 - Passing list, tuple, dictionary, etc as argument"
   ]
  },
  {
   "cell_type": "code",
   "execution_count": 6,
   "metadata": {},
   "outputs": [
    {
     "name": "stdout",
     "output_type": "stream",
     "text": [
      "Tanzania Kenya Uganda Rwanda Burundi "
     ]
    }
   ],
   "source": [
    "def listAsArg(countries):\n",
    "    for country in countries:\n",
    "        print(country,end=' ')\n",
    "\n",
    "countriesNames = ['Tanzania', 'Kenya', 'Uganda', 'Rwanda', 'Burundi']\n",
    "listAsArg(countriesNames)"
   ]
  },
  {
   "cell_type": "markdown",
   "metadata": {},
   "source": [
    "#### chp05ex06  - Predicate function - returning a Boolean value"
   ]
  },
  {
   "cell_type": "code",
   "execution_count": 7,
   "metadata": {},
   "outputs": [
    {
     "name": "stdin",
     "output_type": "stream",
     "text": [
      "Enter Number Greater than zero  7\n"
     ]
    },
    {
     "name": "stdout",
     "output_type": "stream",
     "text": [
      "7 is an odd number\n"
     ]
    }
   ],
   "source": [
    "def isOdd(num):\n",
    "    if num % 2 == 1:\n",
    "        return True\n",
    "    else:\n",
    "        return False\n",
    "\n",
    "while True:\n",
    "    number=int(input('Enter Number Greater than zero '))\n",
    "    if number<=0:\n",
    "        print('Number should be positive, try again')\n",
    "    else: break\n",
    "        \n",
    "if isOdd(number):\n",
    "    print(f'{number} is an odd number')\n",
    "else:\n",
    "    print(f'{number} is NOT an odd number')"
   ]
  },
  {
   "cell_type": "markdown",
   "metadata": {},
   "source": [
    "#### chp05ex07 - Calling a function a number of times"
   ]
  },
  {
   "cell_type": "code",
   "execution_count": 8,
   "metadata": {},
   "outputs": [
    {
     "name": "stdin",
     "output_type": "stream",
     "text": [
      "Enter value on N >0  7\n"
     ]
    },
    {
     "name": "stdout",
     "output_type": "stream",
     "text": [
      "  1   3   5   7 "
     ]
    }
   ],
   "source": [
    "#Display odd numbers between 1 and N (all inclusive)\n",
    "# 5 numbers in a row\n",
    "\n",
    "def isOdd(num):\n",
    "    if num % 2 == 1:\n",
    "        return True\n",
    "    else:\n",
    "        return False\n",
    "    \n",
    "while True:\n",
    "    N=int(input('Enter value on N >0 '))\n",
    "    if number<=0:\n",
    "        print('N should be positive, try again')\n",
    "    else: break\n",
    "        \n",
    "count=0\n",
    "for number in range(1,N+1):\n",
    "    if isOdd(number):\n",
    "        print(f'{number:3}', end=' ')    \n",
    "        count +=1    \n",
    "        if count % 5 ==0:\n",
    "            print()"
   ]
  },
  {
   "cell_type": "markdown",
   "metadata": {},
   "source": [
    "#### chp05ex08  - Passing values of parameters using arguments"
   ]
  },
  {
   "cell_type": "code",
   "execution_count": 9,
   "metadata": {},
   "outputs": [
    {
     "name": "stdout",
     "output_type": "stream",
     "text": [
      "power(4,3)        =64\n",
      "power(x=3, num=4) =64\n",
      "power(3, x=4)     = 81\n",
      "y3 81\n"
     ]
    }
   ],
   "source": [
    "def power(num, x):\n",
    "    return num ** x\n",
    "\n",
    "y1=power(4,3)    # num=3, x=3\n",
    "y2=power(x=3, num=4) # num and x are specified\n",
    "y3=power(3, x=4) #  x is specified\n",
    "#y4=power(num=3, 4) #  ERROR positional argument follows keyword argument!\n",
    "print(f'power(4,3)        ={y1}')   #64\n",
    "print(f'power(x=3, num=4) ={y2}')   #64 - same results\n",
    "print(f'power(3, x=4)     = {y3}')  #81\n",
    "print('y3',y3)"
   ]
  },
  {
   "cell_type": "markdown",
   "metadata": {},
   "source": [
    "#### chp05ex09 - default values"
   ]
  },
  {
   "cell_type": "code",
   "execution_count": 10,
   "metadata": {},
   "outputs": [
    {
     "name": "stdout",
     "output_type": "stream",
     "text": [
      "power(4)   =4\n",
      "power(4,3) =64\n"
     ]
    }
   ],
   "source": [
    "def power(num, x=1): #x=1 is default value\n",
    "    return num ** x\n",
    "\n",
    "y1=power(4)    # num=4, x=1\n",
    "y2=power(4,3)  #num=4, x=3\n",
    "print(f'power(4)   ={y1}')   \n",
    "print(f'power(4,3) ={y2}')"
   ]
  },
  {
   "cell_type": "markdown",
   "metadata": {},
   "source": [
    "#### chp05ex10 - Variable length arguments"
   ]
  },
  {
   "cell_type": "code",
   "execution_count": null,
   "metadata": {},
   "outputs": [],
   "source": [
    "def multiArgs(name,*nums):\n",
    "    #print(type(args)) #tuple\n",
    "    result=0\n",
    "    for item in nums:\n",
    "        result=result+item\n",
    "    return name+' '+str(result)\n",
    "\n",
    "print(f'multiArgs(\"Asha\")= {multiArgs(\"Asha\")}') # Asha 0\n",
    "print(f'multiArgs(\"Juma\",1,2)= {multiArgs(\"Juma\",1,2)}')         # Juma 3\n",
    "print(f'multiArgs(\"John\",1,2,3,4)= {multiArgs(\"John\",1,2,3,4)}')     #John 10\n",
    "print(f'multiArgs(\"Asha\",1,2,3,4,5)= {multiArgs(\"Asha\",1,2,3,4,5)}')  # Asha 15"
   ]
  },
  {
   "cell_type": "markdown",
   "metadata": {},
   "source": [
    "#### chp05ex11 - Changing parameters Value and its effect to an argument - unmutable objects"
   ]
  },
  {
   "cell_type": "code",
   "execution_count": 11,
   "metadata": {},
   "outputs": [
    {
     "name": "stdout",
     "output_type": "stream",
     "text": [
      "Value of number before function call is: 10\n",
      "num inside function before change is: 10\n",
      "num inside function after change is: 11\n",
      "Value of number after function call is: 10\n"
     ]
    }
   ],
   "source": [
    "#without detail description\n",
    "def changeNumber(num):\n",
    "    print(f'num inside function before change is: {num}')\n",
    "    num +=1  # change calue of num\n",
    "    print(f'num inside function after change is: {num}')\n",
    "    \n",
    "#  call changeNumber function\n",
    "number = 10\n",
    "print (f'Value of number before function call is: {number}')\n",
    "changeNumber(number)\n",
    "print (f'Value of number after function call is: {number}')"
   ]
  },
  {
   "cell_type": "code",
   "execution_count": 12,
   "metadata": {},
   "outputs": [
    {
     "name": "stdout",
     "output_type": "stream",
     "text": [
      "Value of number before function call is: 10\n",
      "Value of number after function call is: 11\n"
     ]
    }
   ],
   "source": [
    "#without detail description\n",
    "def changeNumber(num):\n",
    "    num +=1  # change calue of num\n",
    "    return num\n",
    "    \n",
    "#  call changeNumber function\n",
    "number = 10\n",
    "print (f'Value of number before function call is: {number}')\n",
    "number=changeNumber(number)\n",
    "print (f'Value of number after function call is: {number}')"
   ]
  },
  {
   "cell_type": "code",
   "execution_count": 13,
   "metadata": {},
   "outputs": [
    {
     "name": "stdout",
     "output_type": "stream",
     "text": [
      "number id outside the function is: 4492786984\n",
      "Value of number before function call is: 10\n",
      "num id before change within function is: 4492786984\n",
      "Value of num inside the function before change: 10\n",
      "num id after change inside function: 4492787016\n",
      "Value of num inside the function after change: 11\n",
      "number id outside the function after function call is: 4492787016\n",
      "Value of number outside the function after calling function: 11\n"
     ]
    }
   ],
   "source": [
    "#with detail description\n",
    "def changeNumber(num):\n",
    "    print(f'num id before change within function is: {id(num)}')\n",
    "    print (f'Value of num inside the function before change: {num}')\n",
    "    num +=1  # change calue of num\n",
    "    print(f'num id after change inside function: {id(num)}')\n",
    "    print (f'Value of num inside the function after change: {num}')\n",
    "    return num\n",
    "    \n",
    "#  call changeNumber function\n",
    "number = 10\n",
    "print(f'number id outside the function is: {id(number)}')\n",
    "print (f'Value of number before function call is: {number}')\n",
    "number= changeNumber(number)\n",
    "print(f'number id outside the function after function call is: {id(number)}')\n",
    "print (f'Value of number outside the function after calling function: {number}')"
   ]
  },
  {
   "cell_type": "markdown",
   "metadata": {},
   "source": [
    "#### chp05ex12 - Changing parameters Value and its effect to an argument - mutable objects"
   ]
  },
  {
   "cell_type": "code",
   "execution_count": 14,
   "metadata": {},
   "outputs": [
    {
     "name": "stdout",
     "output_type": "stream",
     "text": [
      "Value of numberList before function call: [10, 20, 30]\n",
      "Value of numList inside functiona after change : [10, 20, 30, 50]\n",
      "Value of numberList after function call: [10, 20, 30, 50]\n"
     ]
    }
   ],
   "source": [
    "##without detail description\n",
    "def changeList(numList):\n",
    "    numList.append(50)\n",
    "    print (f'Value of numList inside functiona after change : {numList}')\n",
    "    \n",
    "\n",
    "# Now call changeList function\n",
    "numbersList = [10,20,30]\n",
    "print (f'Value of numberList before function call: {numbersList}')\n",
    "changeList(numbersList)\n",
    "print (f'Value of numberList after function call: {numbersList}')"
   ]
  },
  {
   "cell_type": "code",
   "execution_count": 15,
   "metadata": {},
   "outputs": [
    {
     "name": "stdout",
     "output_type": "stream",
     "text": [
      "Value of numberList before function call: [10, 20, 30]\n",
      "numberList id outside the function is: 4544809600\n",
      "numList id before change within function is: 4544809600\n",
      "Value of numList inside the function before change: [10, 20, 30]\n",
      "numList id after change inside function: 4544809600\n",
      "Value of numList inside the function after change: [10, 20, 30, 50]\n",
      "numberList id outside after function call is: 4544809600\n",
      "Value of numberList outside the function after calling function: [10, 20, 30, 50]\n"
     ]
    }
   ],
   "source": [
    "##without detail description\n",
    "def changeList(numList):\n",
    "    print(f'numList id before change within function is: {id(numList)}')\n",
    "    print (f'Value of numList inside the function before change: {numList}')\n",
    "    numList.append(50)\n",
    "    print(f'numList id after change inside function: {id(numList)}')\n",
    "    print (f'Value of numList inside the function after change: {numList}')\n",
    "      \n",
    "\n",
    "# Now call changeList function\n",
    "numbersList = [10,20,30]\n",
    "print (f'Value of numberList before function call: {numbersList}')\n",
    "print(f'numberList id outside the function is: {id(numbersList)}')\n",
    "changeList(numbersList)\n",
    "print(f'numberList id outside after function call is: {id(numbersList)}')\n",
    "print (f'Value of numberList outside the function after calling function: {numbersList}')"
   ]
  },
  {
   "cell_type": "code",
   "execution_count": 16,
   "metadata": {},
   "outputs": [
    {
     "name": "stdout",
     "output_type": "stream",
     "text": [
      "Value of numberList before function call: [10, 20, 30]\n",
      "Value of numList inside functiona after change : [10, 20, 30, 50]\n",
      "Value of numberList after function call:  [10, 20, 30]\n"
     ]
    }
   ],
   "source": [
    "# Use a copy to avoid change\n",
    "def changeList(numList):\n",
    "    numList.append(50)\n",
    "    print (f'Value of numList inside functiona after change : {numList}')\n",
    "    \n",
    "\n",
    "# Now call changeList function\n",
    "numbersList = [10,20,30]\n",
    "numbersList2=numbersList.copy() # make a copy\n",
    "print (f'Value of numberList before function call: {numbersList}')\n",
    "changeList(numbersList2)\n",
    "print (f'Value of numberList after function call:  {numbersList}')"
   ]
  },
  {
   "cell_type": "markdown",
   "metadata": {},
   "source": [
    "#### chp05ex13 - global and local variables"
   ]
  },
  {
   "cell_type": "code",
   "execution_count": 17,
   "metadata": {},
   "outputs": [
    {
     "name": "stdout",
     "output_type": "stream",
     "text": [
      "x before calling func1=: 88\n",
      "x in func1 = 88\n",
      "x after calling func1=: 88\n",
      "\n",
      "y before calling func2=: 99\n",
      "x in func2 = 99\n",
      "y in func2 = 99\n",
      "y after calling func2=:  99\n",
      "\n",
      "y before calling func3=: 99\n",
      "y in func3 = 100\n",
      "y after calling func3=:  100\n"
     ]
    }
   ],
   "source": [
    "x = 88   # global x since are outside the function\n",
    "y=99    # global y since are outside the function\n",
    "\n",
    "\n",
    "def func1():\n",
    "    print(f'x in func1 = {x}') \n",
    "\n",
    "\n",
    "def func2():\n",
    "    x = 99  # this assignment makes x to be local\n",
    "    print(f'x in func2 = {x}')  \n",
    "    print(f'y in func2 = {y}')  \n",
    "\n",
    "    \n",
    "def func3():\n",
    "    global y  # now global variable y can be changed\n",
    "    y = y+1    # changes the global variable value\n",
    "    print(f'y in func3 = {y}') \n",
    "\n",
    "    \n",
    "print(f'x before calling func1=: {x}') \n",
    "func1()\n",
    "print(f'x after calling func1=: {x}')    \n",
    "\n",
    "\n",
    "print(f'\\ny before calling func2=: {y}') #y=100 \n",
    "func2()\n",
    "print(\"y after calling func2=: \",y)    # Prints 101: changed\n",
    "\n",
    "\n",
    "print(f'\\ny before calling func3=: {y}')\n",
    "func3()\n",
    "print(\"y after calling func3=: \",y) "
   ]
  },
  {
   "cell_type": "markdown",
   "metadata": {},
   "source": [
    "#### chp05ex14 - Return multiple values (tuple)"
   ]
  },
  {
   "cell_type": "code",
   "execution_count": 18,
   "metadata": {},
   "outputs": [
    {
     "name": "stdin",
     "output_type": "stream",
     "text": [
      "Enter a:  3434\n",
      "Enter b:  343\n",
      "Enter c:  343\n"
     ]
    },
    {
     "name": "stdout",
     "output_type": "stream",
     "text": [
      "x1= (-0.04994175888177053+0.3120726493676371j)\n",
      "x2= (-0.04994175888177053-0.3120726493676371j)\n",
      "To show that results returns tuple\n",
      "Results are ((-0.04994175888177053+0.3120726493676371j), (-0.04994175888177053-0.3120726493676371j))\n",
      "class of results is: <class 'tuple'>\n"
     ]
    }
   ],
   "source": [
    "#solve quadratic ax^2+bx+c=0\n",
    "import cmath\n",
    "\n",
    "def solveQuadraticEquation(a,b,c):\n",
    "    d = (b**2) - (4*a*c) #d=discriminant\n",
    "    x1 = (-b+cmath.sqrt(d))/(2*a)\n",
    "    x2 = (-b-cmath.sqrt(d))/(2*a)\n",
    "    return x1,x2  #returning a tuple\n",
    "\n",
    "    \n",
    "a = float(input('Enter a: '))  \n",
    "b = float(input('Enter b: '))  \n",
    "c = float(input('Enter c: '))\n",
    "sol1,sol2=solveQuadraticEquation(a,b,c)\n",
    "print(f'x1= {sol1}')\n",
    "print(f'x2= {sol2}')\n",
    "#to show that results returns tuple\n",
    "print(\"To show that results returns tuple\")\n",
    "results=solveQuadraticEquation(a,b,c)\n",
    "print(f'Results are {results}')\n",
    "print(f'class of results is: {type(results)}')"
   ]
  },
  {
   "cell_type": "markdown",
   "metadata": {},
   "source": [
    "### Modules"
   ]
  },
  {
   "cell_type": "markdown",
   "metadata": {},
   "source": [
    "#### chp05ex15  - Return multiple values (dictionary)"
   ]
  },
  {
   "cell_type": "code",
   "execution_count": 19,
   "metadata": {},
   "outputs": [
    {
     "name": "stdin",
     "output_type": "stream",
     "text": [
      "Enter a:  234\n",
      "Enter b:  234\n",
      "Enter c:  324\n"
     ]
    },
    {
     "name": "stdout",
     "output_type": "stream",
     "text": [
      "Results are {'value1': (-0.5+1.0651832633943252j), 'value2': (-0.5-1.0651832633943252j)}\n",
      "Value of x1 is (-0.5+1.0651832633943252j)\n",
      "Value of x2 is (-0.5-1.0651832633943252j)\n",
      "class of results is: <class 'dict'>\n"
     ]
    }
   ],
   "source": [
    "#Return a dictionary\n",
    "\n",
    "import cmath\n",
    "\n",
    "def solveQuadraticEquation(a,b,c):\n",
    "    d = (b**2) - (4*a*c)\n",
    "    x1 = (-b+cmath.sqrt(d))/(2*a)\n",
    "    x2 = (-b-cmath.sqrt(d))/(2*a)\n",
    "    return {'value1':x1,'value2':x2}\n",
    "\n",
    "    \n",
    "a = float(input('Enter a: '))  \n",
    "b = float(input('Enter b: '))  \n",
    "c = float(input('Enter c: '))\n",
    "results=solveQuadraticEquation(a,b,c)\n",
    "print(f'Results are {results}')\n",
    "print(f'Value of x1 is {results[\"value1\"]}') # access the key\n",
    "print(f'Value of x2 is {results[\"value2\"]}') # access the key\n",
    "print(f'class of results is: {type(results)}')"
   ]
  },
  {
   "cell_type": "markdown",
   "metadata": {},
   "source": [
    "#### chp05ex16 - Multiple functions"
   ]
  },
  {
   "cell_type": "code",
   "execution_count": 20,
   "metadata": {},
   "outputs": [
    {
     "name": "stdin",
     "output_type": "stream",
     "text": [
      "Enter marks 0-100:  34\n"
     ]
    },
    {
     "name": "stdout",
     "output_type": "stream",
     "text": [
      "For score of 34.0: Grade is E and remark is Fail\n"
     ]
    }
   ],
   "source": [
    "def calcGrade(marks):\n",
    "    if marks>=70: grade=\"A\" \n",
    "    elif marks>=60: grade=\"B+\" \n",
    "    elif marks>=50: grade=\"B\" \n",
    "    elif marks>=40: grade=\"C\" \n",
    "    elif marks>=35: grade=\"D\" \n",
    "    elif marks>=0: grade=\"E\"\n",
    "    return grade\n",
    "\n",
    "def calcRemark(marks):\n",
    "    #if marks>=50: return 'Pass'\n",
    "    #else: return 'Fail'\n",
    "    return 'Pass' if marks>=50 else 'Fail' #using ternary expression\n",
    "\n",
    "#using calcGrade and calcRemark\n",
    "while True:\n",
    "    score=float(input('Enter marks 0-100: '))\n",
    "    if score<0 or score>100:\n",
    "        print(f'Score of {score} is outside the range, please try again')\n",
    "    else:\n",
    "        break\n",
    "                              \n",
    "finalGrade=calcGrade(score) \n",
    "finalRemark=calcRemark(score)\n",
    "print(f'For score of {score}: Grade is {finalGrade} and remark is {finalRemark}')\n",
    "# You can also have a list of marks and iterate through the marks\n",
    "# to display the grade and remark. see example below"
   ]
  },
  {
   "cell_type": "code",
   "execution_count": 21,
   "metadata": {},
   "outputs": [
    {
     "name": "stdout",
     "output_type": "stream",
     "text": [
      "Score  Grade  Remark\n",
      "12.5    E      Fail\n",
      "67.0    B+     Pass\n",
      "99.0    A      Pass\n",
      "45.0    C      Fail\n",
      "32.5    E      Fail\n",
      "21.0    E      Fail\n",
      "67.0    B+     Pass\n",
      "43.0    C      Fail\n",
      "56.0    B      Pass\n",
      "78.0    A      Pass\n"
     ]
    }
   ],
   "source": [
    "# marks are now in a list\n",
    "\n",
    "def calcGrade(marks):\n",
    "    if marks>=70: grade=\"A\" \n",
    "    elif marks>=60: grade=\"B+\" \n",
    "    elif marks>=50: grade=\"B\" \n",
    "    elif marks>=40: grade=\"C\" \n",
    "    elif marks>=35: grade=\"D\" \n",
    "    elif marks>=0: grade=\"E\"\n",
    "    return grade\n",
    "\n",
    "def calcRemark(marks):\n",
    "    #if marks>=50: return 'Pass'\n",
    "    #else: return 'Fail'\n",
    "    return 'Pass' if marks>=50 else 'Fail' #using ternary expression\n",
    "\n",
    " \n",
    "studentsMarks =[12.5, 67, 99, 45, 32.5, 21, 67, 43, 56, 78]\n",
    "print('Score  Grade  Remark')\n",
    "for score in studentsMarks:\n",
    "    finalGrade=calcGrade(score) \n",
    "    finalRemark=calcRemark(score)\n",
    "    print(f'{score:<7.1f} {finalGrade:3} {finalRemark:>7}')"
   ]
  },
  {
   "cell_type": "markdown",
   "metadata": {},
   "source": [
    "#### chp05ex17 - Using myUtilities.py"
   ]
  },
  {
   "cell_type": "code",
   "execution_count": 29,
   "metadata": {},
   "outputs": [
    {
     "ename": "AttributeError",
     "evalue": "module 'myUtilities' has no attribute 'addTwoNumbers'",
     "output_type": "error",
     "traceback": [
      "\u001b[0;31m---------------------------------------------------------------------------\u001b[0m",
      "\u001b[0;31mAttributeError\u001b[0m                            Traceback (most recent call last)",
      "Cell \u001b[0;32mIn[29], line 7\u001b[0m\n\u001b[1;32m      1\u001b[0m \u001b[38;5;66;03m# Assumptions: file myUtilities.py exists in the folder \u001b[39;00m\n\u001b[1;32m      2\u001b[0m \u001b[38;5;66;03m# where we have this notebook. Also correct arguments are passed \u001b[39;00m\n\u001b[1;32m      3\u001b[0m \u001b[38;5;66;03m# to functions\u001b[39;00m\n\u001b[1;32m      5\u001b[0m \u001b[38;5;28;01mimport\u001b[39;00m \u001b[38;5;21;01mmyUtilities\u001b[39;00m  \u001b[38;5;66;03m# do not include extension .py\u001b[39;00m\n\u001b[0;32m----> 7\u001b[0m \u001b[38;5;28mprint\u001b[39m(\u001b[38;5;124mf\u001b[39m\u001b[38;5;124m'\u001b[39m\u001b[38;5;124mSum of 5 and 7 is: \u001b[39m\u001b[38;5;132;01m{\u001b[39;00mmyUtilities\u001b[38;5;241m.\u001b[39maddTwoNumbers(\u001b[38;5;241m5\u001b[39m,\u001b[38;5;250m \u001b[39m\u001b[38;5;241m7\u001b[39m)\u001b[38;5;132;01m}\u001b[39;00m\u001b[38;5;124m'\u001b[39m)\n\u001b[1;32m      8\u001b[0m \u001b[38;5;28mprint\u001b[39m(\u001b[38;5;124mf\u001b[39m\u001b[38;5;124m'\u001b[39m\u001b[38;5;124m2 power 4 is: \u001b[39m\u001b[38;5;132;01m{\u001b[39;00mmyUtilities\u001b[38;5;241m.\u001b[39mpower(\u001b[38;5;241m2\u001b[39m,\u001b[38;5;250m \u001b[39m\u001b[38;5;241m4\u001b[39m)\u001b[38;5;132;01m}\u001b[39;00m\u001b[38;5;124m'\u001b[39m)\n\u001b[1;32m      9\u001b[0m \u001b[38;5;28mprint\u001b[39m(\u001b[38;5;124mf\u001b[39m\u001b[38;5;124m'\u001b[39m\u001b[38;5;124mIs 5 an odd number? \u001b[39m\u001b[38;5;132;01m{\u001b[39;00mmyUtilities\u001b[38;5;241m.\u001b[39misOdd(\u001b[38;5;241m5\u001b[39m)\u001b[38;5;132;01m}\u001b[39;00m\u001b[38;5;124m'\u001b[39m)\n",
      "\u001b[0;31mAttributeError\u001b[0m: module 'myUtilities' has no attribute 'addTwoNumbers'"
     ]
    }
   ],
   "source": [
    "# Assumptions: file myUtilities.py exists in the folder \n",
    "# where we have this notebook. Also correct arguments are passed \n",
    "# to functions\n",
    "\n",
    "import myUtilities  # do not include extension .py\n",
    "\n",
    "print(f'Sum of 5 and 7 is: {myUtilities.addTwoNumbers(5, 7)}')\n",
    "print(f'2 power 4 is: {myUtilities.power(2, 4)}')\n",
    "print(f'Is 5 an odd number? {myUtilities.isOdd(5)}')\n",
    "print(f'Is 6 an odd number? {myUtilities.isOdd(6)}')\n",
    "\n",
    "print('\\nAccess variables')\n",
    "print(f'Value of x is {myUtilities.x}')\n",
    "print(f'Value of variable countries is:\\n {myUtilities.countries}')\n"
   ]
  },
  {
   "cell_type": "code",
   "execution_count": 28,
   "metadata": {},
   "outputs": [
    {
     "ename": "ImportError",
     "evalue": "cannot import name 'addTwoNumbers' from 'myUtilities' (/Users/gabe/ML Bootcamp/User Defined Functions/myUtilities.py)",
     "output_type": "error",
     "traceback": [
      "\u001b[0;31m---------------------------------------------------------------------------\u001b[0m",
      "\u001b[0;31mImportError\u001b[0m                               Traceback (most recent call last)",
      "Cell \u001b[0;32mIn[28], line 2\u001b[0m\n\u001b[1;32m      1\u001b[0m \u001b[38;5;66;03m#alternatively\u001b[39;00m\n\u001b[0;32m----> 2\u001b[0m \u001b[38;5;28;01mfrom\u001b[39;00m \u001b[38;5;21;01mmyUtilities\u001b[39;00m \u001b[38;5;28;01mimport\u001b[39;00m addTwoNumbers, power, isOdd,x,countries\n\u001b[1;32m      4\u001b[0m \u001b[38;5;28mprint\u001b[39m(\u001b[38;5;124mf\u001b[39m\u001b[38;5;124m'\u001b[39m\u001b[38;5;124mSum of 5 and 7 is: \u001b[39m\u001b[38;5;132;01m{\u001b[39;00maddTwoNumbers(\u001b[38;5;241m5\u001b[39m,\u001b[38;5;250m \u001b[39m\u001b[38;5;241m7\u001b[39m)\u001b[38;5;132;01m}\u001b[39;00m\u001b[38;5;124m'\u001b[39m)\n\u001b[1;32m      5\u001b[0m \u001b[38;5;28mprint\u001b[39m(\u001b[38;5;124mf\u001b[39m\u001b[38;5;124m'\u001b[39m\u001b[38;5;124m2 power 4 is:       \u001b[39m\u001b[38;5;132;01m{\u001b[39;00mpower(\u001b[38;5;241m2\u001b[39m,\u001b[38;5;250m \u001b[39m\u001b[38;5;241m4\u001b[39m)\u001b[38;5;132;01m}\u001b[39;00m\u001b[38;5;124m'\u001b[39m)\n",
      "\u001b[0;31mImportError\u001b[0m: cannot import name 'addTwoNumbers' from 'myUtilities' (/Users/gabe/ML Bootcamp/User Defined Functions/myUtilities.py)"
     ]
    }
   ],
   "source": [
    "#alternatively\n",
    "from myUtilities import addTwoNumbers, power, isOdd,x,countries\n",
    "\n",
    "print(f'Sum of 5 and 7 is: {addTwoNumbers(5, 7)}')\n",
    "print(f'2 power 4 is:       {power(2, 4)}')\n",
    "print(f'Is 5 an odd number? {isOdd(5)}')\n",
    "print(f'Is 6 an odd number? {isOdd(6)}')\n",
    "\n",
    "print('\\nAccess variables')\n",
    "print(f'Value of x is {x}')\n",
    "print(f'Value of variable countries is:\\n {countries}')"
   ]
  },
  {
   "cell_type": "markdown",
   "metadata": {},
   "source": [
    "#### chp05ex18 - Reloading the module"
   ]
  },
  {
   "cell_type": "code",
   "execution_count": 30,
   "metadata": {},
   "outputs": [
    {
     "ename": "AttributeError",
     "evalue": "module 'myUtilities' has no attribute 'x'",
     "output_type": "error",
     "traceback": [
      "\u001b[0;31m---------------------------------------------------------------------------\u001b[0m",
      "\u001b[0;31mAttributeError\u001b[0m                            Traceback (most recent call last)",
      "Cell \u001b[0;32mIn[30], line 7\u001b[0m\n\u001b[1;32m      1\u001b[0m \u001b[38;5;124;03m'''\u001b[39;00m\n\u001b[1;32m      2\u001b[0m \u001b[38;5;124;03mwithout reloading the module we get same value of x everytime we run this cell\u001b[39;00m\n\u001b[1;32m      3\u001b[0m \u001b[38;5;124;03mTo test it run the first time, then change the value of x\u001b[39;00m\n\u001b[1;32m      4\u001b[0m \u001b[38;5;124;03min the module and run it again. YOu will get the same value of x\u001b[39;00m\n\u001b[1;32m      5\u001b[0m \u001b[38;5;124;03m'''\u001b[39;00m \n\u001b[1;32m      6\u001b[0m \u001b[38;5;28;01mimport\u001b[39;00m \u001b[38;5;21;01mmyUtilities\u001b[39;00m \u001b[38;5;66;03m#module name\u001b[39;00m\n\u001b[0;32m----> 7\u001b[0m \u001b[38;5;28mprint\u001b[39m(myUtilities\u001b[38;5;241m.\u001b[39mx)\n",
      "\u001b[0;31mAttributeError\u001b[0m: module 'myUtilities' has no attribute 'x'"
     ]
    }
   ],
   "source": [
    "'''\n",
    "without reloading the module we get same value of x everytime we run this cell\n",
    "To test it run the first time, then change the value of x\n",
    "in the module and run it again. YOu will get the same value of x\n",
    "''' \n",
    "import myUtilities #module name\n",
    "print(myUtilities.x)"
   ]
  },
  {
   "cell_type": "code",
   "execution_count": 31,
   "metadata": {},
   "outputs": [
    {
     "ename": "AttributeError",
     "evalue": "module 'myUtilities' has no attribute 'x'",
     "output_type": "error",
     "traceback": [
      "\u001b[0;31m---------------------------------------------------------------------------\u001b[0m",
      "\u001b[0;31mAttributeError\u001b[0m                            Traceback (most recent call last)",
      "Cell \u001b[0;32mIn[31], line 8\u001b[0m\n\u001b[1;32m      5\u001b[0m \u001b[38;5;28;01mimport\u001b[39;00m \u001b[38;5;21;01mimportlib\u001b[39;00m\n\u001b[1;32m      6\u001b[0m \u001b[38;5;28;01mimport\u001b[39;00m \u001b[38;5;21;01mmyUtilities\u001b[39;00m \u001b[38;5;66;03m#module name\u001b[39;00m\n\u001b[0;32m----> 8\u001b[0m \u001b[38;5;28mprint\u001b[39m(myUtilities\u001b[38;5;241m.\u001b[39mx)\n\u001b[1;32m      9\u001b[0m \u001b[38;5;66;03m# Reload the module\u001b[39;00m\n\u001b[1;32m     10\u001b[0m importlib\u001b[38;5;241m.\u001b[39mreload(myUtilities)\n",
      "\u001b[0;31mAttributeError\u001b[0m: module 'myUtilities' has no attribute 'x'"
     ]
    }
   ],
   "source": [
    "'''\n",
    "By reloading the module, we get a new value of x\n",
    "''' \n",
    "\n",
    "import importlib\n",
    "import myUtilities #module name\n",
    "\n",
    "print(myUtilities.x)\n",
    "# Reload the module\n",
    "importlib.reload(myUtilities)\n",
    "print(myUtilities.x)"
   ]
  },
  {
   "cell_type": "markdown",
   "metadata": {},
   "source": [
    "#### chp05ex19 - using dir() function"
   ]
  },
  {
   "cell_type": "code",
   "execution_count": 32,
   "metadata": {},
   "outputs": [
    {
     "name": "stdout",
     "output_type": "stream",
     "text": [
      "['__doc__', '__file__', '__loader__', '__name__', '__package__', '__spec__', 'acos', 'acosh', 'asin', 'asinh', 'atan', 'atan2', 'atanh', 'cbrt', 'ceil', 'comb', 'copysign', 'cos', 'cosh', 'degrees', 'dist', 'e', 'erf', 'erfc', 'exp', 'exp2', 'expm1', 'fabs', 'factorial', 'floor', 'fmod', 'frexp', 'fsum', 'gamma', 'gcd', 'hypot', 'inf', 'isclose', 'isfinite', 'isinf', 'isnan', 'isqrt', 'lcm', 'ldexp', 'lgamma', 'log', 'log10', 'log1p', 'log2', 'modf', 'nan', 'nextafter', 'perm', 'pi', 'pow', 'prod', 'radians', 'remainder', 'sin', 'sinh', 'sqrt', 'tan', 'tanh', 'tau', 'trunc', 'ulp']\n"
     ]
    }
   ],
   "source": [
    "# display all names including which starts with __\n",
    "import math\n",
    "print(dir(math))"
   ]
  },
  {
   "cell_type": "markdown",
   "metadata": {},
   "source": [
    "#### chp05ex20 - using dir() function excluding names which starts with __¶"
   ]
  },
  {
   "cell_type": "code",
   "execution_count": 33,
   "metadata": {},
   "outputs": [
    {
     "name": "stdout",
     "output_type": "stream",
     "text": [
      " Names in math module\n",
      "['acos', 'acosh', 'asin', 'asinh', 'atan', 'atan2', 'atanh', 'cbrt', 'ceil', 'comb', 'copysign', 'cos', 'cosh', 'degrees', 'dist', 'e', 'erf', 'erfc', 'exp', 'exp2', 'expm1', 'fabs', 'factorial', 'floor', 'fmod', 'frexp', 'fsum', 'gamma', 'gcd', 'hypot', 'inf', 'isclose', 'isfinite', 'isinf', 'isnan', 'isqrt', 'lcm', 'ldexp', 'lgamma', 'log', 'log10', 'log1p', 'log2', 'modf', 'nan', 'nextafter', 'perm', 'pi', 'pow', 'prod', 'radians', 'remainder', 'sin', 'sinh', 'sqrt', 'tan', 'tanh', 'tau', 'trunc', 'ulp']\n",
      " \n",
      "Names in list\n",
      "['append', 'clear', 'copy', 'count', 'extend', 'index', 'insert', 'pop', 'remove', 'reverse', 'sort']\n",
      " \n",
      "Names in dictionary\n",
      "['clear', 'copy', 'fromkeys', 'get', 'items', 'keys', 'pop', 'popitem', 'setdefault', 'update', 'values']\n",
      " \n",
      "Names in string\n",
      "['capitalize', 'casefold', 'center', 'count', 'encode', 'endswith', 'expandtabs', 'find', 'format', 'format_map', 'index', 'isalnum', 'isalpha', 'isascii', 'isdecimal', 'isdigit', 'isidentifier', 'islower', 'isnumeric', 'isprintable', 'isspace', 'istitle', 'isupper', 'join', 'ljust', 'lower', 'lstrip', 'maketrans', 'partition', 'removeprefix', 'removesuffix', 'replace', 'rfind', 'rindex', 'rjust', 'rpartition', 'rsplit', 'rstrip', 'split', 'splitlines', 'startswith', 'strip', 'swapcase', 'title', 'translate', 'upper', 'zfill']\n",
      " \n",
      "Names in myUtilities module \n",
      "[]\n"
     ]
    }
   ],
   "source": [
    "#exclude names which starts with __\n",
    "import math\n",
    "import myUtilities\n",
    "\n",
    "#Filter out those atributes which does not start with __\n",
    "def filterOut(list):\n",
    "    itemsList=[]\n",
    "    for item in list:\n",
    "        if not item.startswith('__'):\n",
    "            itemsList.append(item)\n",
    "    print(itemsList)\n",
    "    \n",
    "lst=[]\n",
    "tpl=()\n",
    "dict={}\n",
    "str=\"\"\n",
    "\n",
    "print(' Names in math module')\n",
    "filterOut(dir(math))\n",
    "\n",
    "print(' \\nNames in list')\n",
    "filterOut(dir(lst))\n",
    "\n",
    "print(' \\nNames in dictionary')\n",
    "filterOut(dir(dict))\n",
    "\n",
    "print(' \\nNames in string')\n",
    "filterOut(dir(str))\n",
    "\n",
    "print(' \\nNames in myUtilities module ')\n",
    "filterOut(dir(myUtilities))"
   ]
  },
  {
   "cell_type": "markdown",
   "metadata": {},
   "source": [
    "#### chp05ex21  Modules search path"
   ]
  },
  {
   "cell_type": "code",
   "execution_count": 34,
   "metadata": {},
   "outputs": [
    {
     "name": "stdout",
     "output_type": "stream",
     "text": [
      "/Users/gabe/ML Bootcamp/User Defined Functions\n",
      "/Users/gabe/anaconda3/lib/python311.zip\n",
      "/Users/gabe/anaconda3/lib/python3.11\n",
      "/Users/gabe/anaconda3/lib/python3.11/lib-dynload\n",
      "\n",
      "/Users/gabe/anaconda3/lib/python3.11/site-packages\n",
      "/Users/gabe/anaconda3/lib/python3.11/site-packages/aeosa\n"
     ]
    }
   ],
   "source": [
    "import sys\n",
    "for folder in sys.path:\n",
    "    print(folder)"
   ]
  }
 ],
 "metadata": {
  "kernelspec": {
   "display_name": "Python 3 (ipykernel)",
   "language": "python",
   "name": "python3"
  },
  "language_info": {
   "codemirror_mode": {
    "name": "ipython",
    "version": 3
   },
   "file_extension": ".py",
   "mimetype": "text/x-python",
   "name": "python",
   "nbconvert_exporter": "python",
   "pygments_lexer": "ipython3",
   "version": "3.11.3"
  }
 },
 "nbformat": 4,
 "nbformat_minor": 4
}
