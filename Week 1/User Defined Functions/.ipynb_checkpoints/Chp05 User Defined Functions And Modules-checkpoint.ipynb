{
 "cells": [
  {
   "cell_type": "markdown",
   "metadata": {},
   "source": [
    "## Chapter 05 User Defined Functions"
   ]
  },
  {
   "cell_type": "markdown",
   "metadata": {},
   "source": [
    "#### chp05ex01 - Defining and calling a function"
   ]
  },
  {
   "cell_type": "code",
   "execution_count": null,
   "metadata": {},
   "outputs": [],
   "source": [
    "def displayHelloWorld():\n",
    "    print('Hello world!')\n",
    "\n",
    "#call a function\n",
    "displayHelloWorld()"
   ]
  },
  {
   "cell_type": "markdown",
   "metadata": {},
   "source": [
    "#### chp05ex02 - Passing parameters to a function"
   ]
  },
  {
   "cell_type": "code",
   "execution_count": null,
   "metadata": {},
   "outputs": [],
   "source": [
    "def sumTwoNumbers(num1,num2):\n",
    "    print(f'{num1} + {num2} = {num1+num2}')\n",
    "    \n",
    "\n",
    "sumTwoNumbers(13,34.5)\n",
    "sumTwoNumbers(25,50)\n",
    "number1=float(input('Enter first number '))\n",
    "number2=float(input('Enter second number '))\n",
    "sumTwoNumbers(number1,number2) # assuming number1 and number2 are float values"
   ]
  },
  {
   "cell_type": "markdown",
   "metadata": {},
   "source": [
    "#### chp05ex03 - Return a value from a function"
   ]
  },
  {
   "cell_type": "code",
   "execution_count": null,
   "metadata": {},
   "outputs": [],
   "source": [
    "def numVowels(str):\n",
    "    vowelStr='aeiou'\n",
    "    count = 0\n",
    "    for char in str.lower():\n",
    "        if char in vowelStr:\n",
    "            count += 1\n",
    "    return count\n",
    "\n",
    "\n",
    "inStr=input('Enter String: ')\n",
    "print(f'Entered string is: {inStr}')\n",
    "print(f'There are {numVowels(inStr)} vowels in the entered string') # display returned value"
   ]
  },
  {
   "cell_type": "markdown",
   "metadata": {},
   "source": [
    "#### chp05ex04 - Returned value assigned to a variable"
   ]
  },
  {
   "cell_type": "code",
   "execution_count": null,
   "metadata": {},
   "outputs": [],
   "source": [
    "def numVowels(str):\n",
    "    vowelStr='aeiou'\n",
    "    str = str.lower()\n",
    "    count = 0\n",
    "    for char in str:\n",
    "        if char in vowelStr:\n",
    "            count += 1\n",
    "    return count\n",
    "\n",
    "\n",
    "inStr=input(\"Enter String: \")\n",
    "vowelsNum=numVowels(inStr)   # assign returned value to a variable\n",
    "print(f'Entered string is: {inStr}')\n",
    "print(f'There are {vowelsNum} vowels in the entered string') #display variable value"
   ]
  },
  {
   "cell_type": "markdown",
   "metadata": {},
   "source": [
    "#### chp05ex05 - Passing list, tuple, dictionary, etc as argument"
   ]
  },
  {
   "cell_type": "code",
   "execution_count": null,
   "metadata": {},
   "outputs": [],
   "source": [
    "def listAsArg(countries):\n",
    "    for country in countries:\n",
    "        print(country,end=' ')\n",
    "\n",
    "countriesNames = ['Tanzania', 'Kenya', 'Uganda', 'Rwanda', 'Burundi']\n",
    "listAsArg(countriesNames)"
   ]
  },
  {
   "cell_type": "markdown",
   "metadata": {},
   "source": [
    "#### chp05ex06  - Predicate function - returning a Boolean value"
   ]
  },
  {
   "cell_type": "code",
   "execution_count": null,
   "metadata": {},
   "outputs": [],
   "source": [
    "def isOdd(num):\n",
    "    if num % 2 == 1:\n",
    "        return True\n",
    "    else:\n",
    "        return False\n",
    "\n",
    "while True:\n",
    "    number=int(input('Enter Number Greater than zero '))\n",
    "    if number<=0:\n",
    "        print('Number should be positive, try again')\n",
    "    else: break\n",
    "        \n",
    "if isOdd(number):\n",
    "    print(f'{number} is an odd number')\n",
    "else:\n",
    "    print(f'{number} is NOT an odd number')"
   ]
  },
  {
   "cell_type": "markdown",
   "metadata": {},
   "source": [
    "#### chp05ex07 - Calling a function a number of times"
   ]
  },
  {
   "cell_type": "code",
   "execution_count": null,
   "metadata": {},
   "outputs": [],
   "source": [
    "#Display odd numbers between 1 and N (all inclusive)\n",
    "# 5 numbers in a row\n",
    "\n",
    "def isOdd(num):\n",
    "    if num % 2 == 1:\n",
    "        return True\n",
    "    else:\n",
    "        return False\n",
    "    \n",
    "while True:\n",
    "    N=int(input('Enter value on N >0 '))\n",
    "    if number<=0:\n",
    "        print('N should be positive, try again')\n",
    "    else: break\n",
    "        \n",
    "count=0\n",
    "for number in range(1,N+1):\n",
    "    if isOdd(number):\n",
    "        print(f'{number:3}', end=' ')    \n",
    "        count +=1    \n",
    "        if count % 5 ==0:\n",
    "            print()"
   ]
  },
  {
   "cell_type": "markdown",
   "metadata": {},
   "source": [
    "#### chp05ex08  - Passing values of parameters using arguments"
   ]
  },
  {
   "cell_type": "code",
   "execution_count": null,
   "metadata": {},
   "outputs": [],
   "source": [
    "def power(num, x):\n",
    "    return num ** x\n",
    "\n",
    "y1=power(4,3)    # num=3, x=3\n",
    "y2=power(x=3, num=4) # num and x are specified\n",
    "y3=power(3, x=4) #  x is specified\n",
    "#y4=power(num=3, 4) #  ERROR positional argument follows keyword argument!\n",
    "print(f'power(4,3)        ={y1}')   #64\n",
    "print(f'power(x=3, num=4) ={y2}')   #64 - same results\n",
    "print(f'power(3, x=4)     = {y3}')  #81\n",
    "print('y3',y3)"
   ]
  },
  {
   "cell_type": "markdown",
   "metadata": {},
   "source": [
    "#### chp05ex09 - default values"
   ]
  },
  {
   "cell_type": "code",
   "execution_count": null,
   "metadata": {},
   "outputs": [],
   "source": [
    "def power(num, x=1): #x=1 is default value\n",
    "    return num ** x\n",
    "\n",
    "y1=power(4)    # num=4, x=1\n",
    "y2=power(4,3)  #num=4, x=3\n",
    "print(f'power(4)   ={y1}')   \n",
    "print(f'power(4,3) ={y2}')"
   ]
  },
  {
   "cell_type": "markdown",
   "metadata": {},
   "source": [
    "#### chp05ex10 - Variable length arguments"
   ]
  },
  {
   "cell_type": "code",
   "execution_count": null,
   "metadata": {},
   "outputs": [],
   "source": [
    "def multiArgs(name,*nums):\n",
    "    #print(type(args)) #tuple\n",
    "    result=0\n",
    "    for item in nums:\n",
    "        result=result+item\n",
    "    return name+' '+str(result)\n",
    "\n",
    "print(f'multiArgs(\"Asha\")= {multiArgs(\"Asha\")}') # Asha 0\n",
    "print(f'multiArgs(\"Juma\",1,2)= {multiArgs(\"Juma\",1,2)}')         # Juma 3\n",
    "print(f'multiArgs(\"John\",1,2,3,4)= {multiArgs(\"John\",1,2,3,4)}')     #John 10\n",
    "print(f'multiArgs(\"Asha\",1,2,3,4,5)= {multiArgs(\"Asha\",1,2,3,4,5)}')  # Asha 15"
   ]
  },
  {
   "cell_type": "markdown",
   "metadata": {},
   "source": [
    "#### chp05ex11 - Changing parameters Value and its effect to an argument - unmutable objects"
   ]
  },
  {
   "cell_type": "code",
   "execution_count": null,
   "metadata": {},
   "outputs": [],
   "source": [
    "#without detail description\n",
    "def changeNumber(num):\n",
    "    print(f'num inside function before change is: {num}')\n",
    "    num +=1  # change calue of num\n",
    "    print(f'num inside function after change is: {num}')\n",
    "    \n",
    "#  call changeNumber function\n",
    "number = 10\n",
    "print (f'Value of number before function call is: {number}')\n",
    "changeNumber(number)\n",
    "print (f'Value of number after function call is: {number}')"
   ]
  },
  {
   "cell_type": "code",
   "execution_count": null,
   "metadata": {},
   "outputs": [],
   "source": [
    "#without detail description\n",
    "def changeNumber(num):\n",
    "    num +=1  # change calue of num\n",
    "    return num\n",
    "    \n",
    "#  call changeNumber function\n",
    "number = 10\n",
    "print (f'Value of number before function call is: {number}')\n",
    "number=changeNumber(number)\n",
    "print (f'Value of number after function call is: {number}')"
   ]
  },
  {
   "cell_type": "code",
   "execution_count": null,
   "metadata": {},
   "outputs": [],
   "source": [
    "#with detail description\n",
    "def changeNumber(num):\n",
    "    print(f'num id before change within function is: {id(num)}')\n",
    "    print (f'Value of num inside the function before change: {num}')\n",
    "    num +=1  # change calue of num\n",
    "    print(f'num id after change inside function: {id(num)}')\n",
    "    print (f'Value of num inside the function after change: {num}')\n",
    "    return num\n",
    "    \n",
    "#  call changeNumber function\n",
    "number = 10\n",
    "print(f'number id outside the function is: {id(number)}')\n",
    "print (f'Value of number before function call is: {number}')\n",
    "number= changeNumber(number)\n",
    "print(f'number id outside the function after function call is: {id(number)}')\n",
    "print (f'Value of number outside the function after calling function: {number}')"
   ]
  },
  {
   "cell_type": "markdown",
   "metadata": {},
   "source": [
    "#### chp05ex12 - Changing parameters Value and its effect to an argument - mutable objects"
   ]
  },
  {
   "cell_type": "code",
   "execution_count": null,
   "metadata": {},
   "outputs": [],
   "source": [
    "##without detail description\n",
    "def changeList(numList):\n",
    "    numList.append(50)\n",
    "    print (f'Value of numList inside functiona after change : {numList}')\n",
    "    \n",
    "\n",
    "# Now call changeList function\n",
    "numbersList = [10,20,30]\n",
    "print (f'Value of numberList before function call: {numbersList}')\n",
    "changeList(numbersList)\n",
    "print (f'Value of numberList after function call: {numbersList}')"
   ]
  },
  {
   "cell_type": "code",
   "execution_count": null,
   "metadata": {},
   "outputs": [],
   "source": [
    "##without detail description\n",
    "def changeList(numList):\n",
    "    print(f'numList id before change within function is: {id(numList)}')\n",
    "    print (f'Value of numList inside the function before change: {numList}')\n",
    "    numList.append(50)\n",
    "    print(f'numList id after change inside function: {id(numList)}')\n",
    "    print (f'Value of numList inside the function after change: {numList}')\n",
    "      \n",
    "\n",
    "# Now call changeList function\n",
    "numbersList = [10,20,30]\n",
    "print (f'Value of numberList before function call: {numbersList}')\n",
    "print(f'numberList id outside the function is: {id(numbersList)}')\n",
    "changeList(numbersList)\n",
    "print(f'numberList id outside after function call is: {id(numbersList)}')\n",
    "print (f'Value of numberList outside the function after calling function: {numbersList}')"
   ]
  },
  {
   "cell_type": "code",
   "execution_count": null,
   "metadata": {},
   "outputs": [],
   "source": [
    "# Use a copy to avoid change\n",
    "def changeList(numList):\n",
    "    numList.append(50)\n",
    "    print (f'Value of numList inside functiona after change : {numList}')\n",
    "    \n",
    "\n",
    "# Now call changeList function\n",
    "numbersList = [10,20,30]\n",
    "numbersList2=numbersList.copy() # make a copy\n",
    "print (f'Value of numberList before function call: {numbersList}')\n",
    "changeList(numbersList2)\n",
    "print (f'Value of numberList after function call:  {numbersList}')"
   ]
  },
  {
   "cell_type": "markdown",
   "metadata": {},
   "source": [
    "#### chp05ex13 - global and local variables"
   ]
  },
  {
   "cell_type": "code",
   "execution_count": null,
   "metadata": {},
   "outputs": [],
   "source": [
    "x = 88   # global x since are outside the function\n",
    "y=99    # global y since are outside the function\n",
    "\n",
    "\n",
    "def func1():\n",
    "    print(f'x in func1 = {x}') \n",
    "\n",
    "\n",
    "def func2():\n",
    "    x = 99  # this assignment makes x to be local\n",
    "    print(f'x in func2 = {x}')  \n",
    "    print(f'y in func2 = {y}')  \n",
    "\n",
    "    \n",
    "def func3():\n",
    "    global y  # now global variable y can be changed\n",
    "    y = y+1    # changes the global variable value\n",
    "    print(f'y in func3 = {y}') \n",
    "\n",
    "    \n",
    "print(f'x before calling func1=: {x}') \n",
    "func1()\n",
    "print(f'x after calling func1=: {x}')    \n",
    "\n",
    "\n",
    "print(f'\\ny before calling func2=: {y}') #y=100 \n",
    "func2()\n",
    "print(\"y after calling func2=: \",y)    # Prints 101: changed\n",
    "\n",
    "\n",
    "print(f'\\ny before calling func3=: {y}')\n",
    "func3()\n",
    "print(\"y after calling func3=: \",y) "
   ]
  },
  {
   "cell_type": "markdown",
   "metadata": {},
   "source": [
    "#### chp05ex14 - Return multiple values (tuple)"
   ]
  },
  {
   "cell_type": "code",
   "execution_count": null,
   "metadata": {},
   "outputs": [],
   "source": [
    "#solve quadratic ax^2+bx+c=0\n",
    "import cmath\n",
    "\n",
    "def solveQuadraticEquation(a,b,c):\n",
    "    d = (b**2) - (4*a*c) #d=discriminant\n",
    "    x1 = (-b+cmath.sqrt(d))/(2*a)\n",
    "    x2 = (-b-cmath.sqrt(d))/(2*a)\n",
    "    return x1,x2  #returning a tuple\n",
    "\n",
    "    \n",
    "a = float(input('Enter a: '))  \n",
    "b = float(input('Enter b: '))  \n",
    "c = float(input('Enter c: '))\n",
    "sol1,sol2=solveQuadraticEquation(a,b,c)\n",
    "print(f'x1= {sol1}')\n",
    "print(f'x2= {sol2}')\n",
    "#to show that results returns tuple\n",
    "print(\"To show that results returns tuple\")\n",
    "results=solveQuadraticEquation(a,b,c)\n",
    "print(f'Results are {results}')\n",
    "print(f'class of results is: {type(results)}')"
   ]
  },
  {
   "cell_type": "markdown",
   "metadata": {},
   "source": [
    "#### chp05ex15  - Return multiple values (dictionary)"
   ]
  },
  {
   "cell_type": "code",
   "execution_count": null,
   "metadata": {},
   "outputs": [],
   "source": [
    "#Return a dictionary\n",
    "\n",
    "import cmath\n",
    "\n",
    "def solveQuadraticEquation(a,b,c):\n",
    "    d = (b**2) - (4*a*c)\n",
    "    x1 = (-b+cmath.sqrt(d))/(2*a)\n",
    "    x2 = (-b-cmath.sqrt(d))/(2*a)\n",
    "    return {'value1':x1,'value2':x2}\n",
    "\n",
    "    \n",
    "a = float(input('Enter a: '))  \n",
    "b = float(input('Enter b: '))  \n",
    "c = float(input('Enter c: '))\n",
    "results=solveQuadraticEquation(a,b,c)\n",
    "print(f'Results are {results}')\n",
    "print(f'Value of x1 is {results[\"value1\"]}') # access the key\n",
    "print(f'Value of x2 is {results[\"value2\"]}') # access the key\n",
    "print(f'class of results is: {type(results)}')"
   ]
  },
  {
   "cell_type": "markdown",
   "metadata": {},
   "source": [
    "#### chp05ex16 - Multiple functions"
   ]
  },
  {
   "cell_type": "code",
   "execution_count": null,
   "metadata": {},
   "outputs": [],
   "source": [
    "def calcGrade(marks):\n",
    "    if marks>=70: grade=\"A\" \n",
    "    elif marks>=60: grade=\"B+\" \n",
    "    elif marks>=50: grade=\"B\" \n",
    "    elif marks>=40: grade=\"C\" \n",
    "    elif marks>=35: grade=\"D\" \n",
    "    elif marks>=0: grade=\"E\"\n",
    "    return grade\n",
    "\n",
    "def calcRemark(marks):\n",
    "    #if marks>=50: return 'Pass'\n",
    "    #else: return 'Fail'\n",
    "    return 'Pass' if marks>=50 else 'Fail' #using ternary expression\n",
    "\n",
    "#using calcGrade and calcRemark\n",
    "while True:\n",
    "    score=float(input('Enter marks 0-100: '))\n",
    "    if score<0 or score>100:\n",
    "        print(f'Score of {score} is outside the range, please try again')\n",
    "    else:\n",
    "        break\n",
    "                              \n",
    "finalGrade=calcGrade(score) \n",
    "finalRemark=calcRemark(score)\n",
    "print(f'For score of {score}: Grade is {finalGrade} and remark is {finalRemark}')\n",
    "# You can also have a list of marks and iterate through the marks\n",
    "# to display the grade and remark. see example below"
   ]
  },
  {
   "cell_type": "code",
   "execution_count": null,
   "metadata": {},
   "outputs": [],
   "source": [
    "# marks are now in a list\n",
    "\n",
    "def calcGrade(marks):\n",
    "    if marks>=70: grade=\"A\" \n",
    "    elif marks>=60: grade=\"B+\" \n",
    "    elif marks>=50: grade=\"B\" \n",
    "    elif marks>=40: grade=\"C\" \n",
    "    elif marks>=35: grade=\"D\" \n",
    "    elif marks>=0: grade=\"E\"\n",
    "    return grade\n",
    "\n",
    "def calcRemark(marks):\n",
    "    #if marks>=50: return 'Pass'\n",
    "    #else: return 'Fail'\n",
    "    return 'Pass' if marks>=50 else 'Fail' #using ternary expression\n",
    "\n",
    " \n",
    "studentsMarks =[12.5, 67, 99, 45, 32.5, 21, 67, 43, 56, 78]\n",
    "print('Score  Grade  Remark')\n",
    "for score in studentsMarks:\n",
    "    finalGrade=calcGrade(score) \n",
    "    finalRemark=calcRemark(score)\n",
    "    print(f'{score:<7.1f} {finalGrade:3} {finalRemark:>7}')"
   ]
  },
  {
   "cell_type": "markdown",
   "metadata": {},
   "source": [
    "#### chp05ex17 - Using myUtilities.py"
   ]
  },
  {
   "cell_type": "code",
   "execution_count": null,
   "metadata": {},
   "outputs": [],
   "source": [
    "# Assumptions: file myUtilities.py exists in the folder \n",
    "# where we have this notebook. Also correct arguments are passed \n",
    "# to functions\n",
    "\n",
    "import myUtilities  # do not include extension .py\n",
    "\n",
    "print(f'Sum of 5 and 7 is: {myUtilities.addTwoNumbers(5, 7)}')\n",
    "print(f'2 power 4 is: {myUtilities.power(2, 4)}')\n",
    "print(f'Is 5 an odd number? {myUtilities.isOdd(5)}')\n",
    "print(f'Is 6 an odd number? {myUtilities.isOdd(6)}')\n",
    "\n",
    "print('\\nAccess variables')\n",
    "print(f'Value of x is {myUtilities.x}')\n",
    "print(f'Value of variable countries is:\\n {myUtilities.countries}')\n"
   ]
  },
  {
   "cell_type": "code",
   "execution_count": null,
   "metadata": {},
   "outputs": [],
   "source": [
    "#alternatively\n",
    "from myUtilities import addTwoNumbers, power, isOdd,x,countries\n",
    "\n",
    "print(f'Sum of 5 and 7 is: {addTwoNumbers(5, 7)}')\n",
    "print(f'2 power 4 is:       {power(2, 4)}')\n",
    "print(f'Is 5 an odd number? {isOdd(5)}')\n",
    "print(f'Is 6 an odd number? {isOdd(6)}')\n",
    "\n",
    "print('\\nAccess variables')\n",
    "print(f'Value of x is {x}')\n",
    "print(f'Value of variable countries is:\\n {countries}')"
   ]
  },
  {
   "cell_type": "markdown",
   "metadata": {},
   "source": [
    "#### chp05ex18 - Reloading the module"
   ]
  },
  {
   "cell_type": "code",
   "execution_count": null,
   "metadata": {},
   "outputs": [],
   "source": [
    "'''\n",
    "without reloading the module we get same value of x everytime we run this cell\n",
    "To test it run the first time, then change the value of x\n",
    "in the module and run it again. YOu will get the same value of x\n",
    "''' \n",
    "import myUtilities #module name\n",
    "print(myUtilities.x)"
   ]
  },
  {
   "cell_type": "code",
   "execution_count": null,
   "metadata": {},
   "outputs": [],
   "source": [
    "'''\n",
    "By reloading the module, we get a new value of x\n",
    "''' \n",
    "\n",
    "import importlib\n",
    "import myUtilities #module name\n",
    "\n",
    "print(myUtilities.x)\n",
    "# Reload the module\n",
    "importlib.reload(myUtilities)\n",
    "print(myUtilities.x)"
   ]
  },
  {
   "cell_type": "markdown",
   "metadata": {},
   "source": [
    "#### chp05ex19 - using dir() function"
   ]
  },
  {
   "cell_type": "code",
   "execution_count": null,
   "metadata": {},
   "outputs": [],
   "source": [
    "# display all names including which starts with __\n",
    "import math\n",
    "print(dir(math))"
   ]
  },
  {
   "cell_type": "markdown",
   "metadata": {},
   "source": [
    "#### chp05ex20 - using dir() function excluding names which starts with __¶"
   ]
  },
  {
   "cell_type": "code",
   "execution_count": null,
   "metadata": {},
   "outputs": [],
   "source": [
    "#exclude names which starts with __\n",
    "import math\n",
    "import myUtilities\n",
    "\n",
    "#Filter out those atributes which does not start with __\n",
    "def filterOut(list):\n",
    "    itemsList=[]\n",
    "    for item in list:\n",
    "        if not item.startswith('__'):\n",
    "            itemsList.append(item)\n",
    "    print(itemsList)\n",
    "    \n",
    "lst=[]\n",
    "tpl=()\n",
    "dict={}\n",
    "str=\"\"\n",
    "\n",
    "print(' Names in math module')\n",
    "filterOut(dir(math))\n",
    "\n",
    "print(' \\nNames in list')\n",
    "filterOut(dir(lst))\n",
    "\n",
    "print(' \\nNames in dictionary')\n",
    "filterOut(dir(dict))\n",
    "\n",
    "print(' \\nNames in string')\n",
    "filterOut(dir(str))\n",
    "\n",
    "print(' \\nNames in myUtilities module ')\n",
    "filterOut(dir(myUtilities))"
   ]
  },
  {
   "cell_type": "markdown",
   "metadata": {},
   "source": [
    "#### chp05ex21  Modules search path"
   ]
  },
  {
   "cell_type": "code",
   "execution_count": null,
   "metadata": {},
   "outputs": [],
   "source": [
    "import sys\n",
    "for folder in sys.path:\n",
    "    print(folder)"
   ]
  },
  {
   "cell_type": "code",
   "execution_count": null,
   "metadata": {},
   "outputs": [],
   "source": []
  }
 ],
 "metadata": {
  "kernelspec": {
   "display_name": "Python 3",
   "language": "python",
   "name": "python3"
  },
  "language_info": {
   "codemirror_mode": {
    "name": "ipython",
    "version": 3
   },
   "file_extension": ".py",
   "mimetype": "text/x-python",
   "name": "python",
   "nbconvert_exporter": "python",
   "pygments_lexer": "ipython3",
   "version": "3.9.0"
  }
 },
 "nbformat": 4,
 "nbformat_minor": 2
}
