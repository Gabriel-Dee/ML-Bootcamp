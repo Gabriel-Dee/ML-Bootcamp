{
 "cells": [
  {
   "cell_type": "markdown",
   "id": "d294ef84",
   "metadata": {},
   "source": [
    "# Programming in Python ML Bootcamp Assignment 01 \n",
    "# 31st July 2023"
   ]
  },
  {
   "cell_type": "markdown",
   "id": "e86bc0b8",
   "metadata": {},
   "source": [
    "## INSTRUCTIONS\n",
    "This assignment covers Chapter 01 Variables and Data Types. Code should be typed in Jupyter Notebook. There must be a heading (using markdown) before the solution in each cell to show which part of the question you are answering as shown in the attached notebook (Yourname_Assignment01.ipynb). You should also attach a pdf file where you have captured the outputs after running the question solution. Filename should be the same as above BUT with extension pdf.\n",
    "\n",
    "Important: DO NOT use following in answering questions: (i) control structures (if..elif..) (ii) while/for loops (iii) split function, (iv) lists, tuples and dictionaries (v) Numpy and pandas\n",
    "Formatting of strings should use f-strings format."
   ]
  },
  {
   "cell_type": "markdown",
   "id": "648177e6",
   "metadata": {},
   "source": [
    "## Question 01"
   ]
  },
  {
   "cell_type": "markdown",
   "id": "42c3565c",
   "metadata": {},
   "source": [
    "### a)"
   ]
  },
  {
   "cell_type": "code",
   "execution_count": 1,
   "id": "59ae3a8a",
   "metadata": {},
   "outputs": [
    {
     "name": "stdout",
     "output_type": "stream",
     "text": [
      "He said, \"John's program is easy to read\"\n"
     ]
    }
   ],
   "source": [
    "print(\"He said, \\\"John's program is easy to read\\\"\")"
   ]
  },
  {
   "cell_type": "markdown",
   "id": "e2e5540f",
   "metadata": {},
   "source": [
    "### b)"
   ]
  },
  {
   "cell_type": "code",
   "execution_count": 2,
   "id": "02cad3e3",
   "metadata": {},
   "outputs": [],
   "source": [
    "import math"
   ]
  },
  {
   "cell_type": "markdown",
   "id": "6e08fe65",
   "metadata": {},
   "source": [
    "### b) i) test for 5.5 cm"
   ]
  },
  {
   "cell_type": "code",
   "execution_count": 3,
   "id": "c1142967",
   "metadata": {},
   "outputs": [
    {
     "name": "stdout",
     "output_type": "stream",
     "text": [
      "Enter the length from the center to a vertex (r) in cm: 5.5\n",
      "Length of each side (s) is: 6.47 cm\n",
      "The area of the pentagon is: 108.61 cm^2\n",
      "Sum of angles is 540.0 degrees\n"
     ]
    }
   ],
   "source": [
    "# Prompt the user to enter the length (r) in cm from the center of a pentagon to a vertex\n",
    "r = float(input(\"Enter the length from the center to a vertex (r) in cm: \"))\n",
    "\n",
    "# Compute the side length (s) using the formula s = 2r * sin(pi / 5)\n",
    "s = 2 * r * math.sin(math.pi / 5)\n",
    "\n",
    "# Compute the area of the pentagon using the formula Area = (3 * sqrt(3) * s^2) / 2\n",
    "area = (3 * math.sqrt(3) * s**2) / 2\n",
    "\n",
    "# Compute the sum of angles in degrees (sum of interior angles in a pentagon is 540 degrees)\n",
    "sum_of_angles_degrees = math.degrees((3*math.pi / 5)*5)\n",
    "\n",
    "# Display the results using f-strings\n",
    "print(f\"Length of each side (s) is: {s:.2f} cm\")\n",
    "print(f\"The area of the pentagon is: {area:.2f} cm^2\")\n",
    "print(f\"Sum of angles is {sum_of_angles_degrees:.1f} degrees\")"
   ]
  },
  {
   "cell_type": "markdown",
   "id": "33b0d609",
   "metadata": {},
   "source": [
    "### b) ii) test for 13.45 cm"
   ]
  },
  {
   "cell_type": "code",
   "execution_count": 4,
   "id": "ca7390ce",
   "metadata": {},
   "outputs": [
    {
     "name": "stdout",
     "output_type": "stream",
     "text": [
      "Enter the length from the center to a vertex (r) in cm: 13.45\n",
      "Length of each side (s) is: 15.81 cm\n",
      "The area of the pentagon is: 649.52 cm^2\n",
      "Sum of angles is 540.0 degrees\n"
     ]
    }
   ],
   "source": [
    "# Prompt the user to enter the length (r) in cm from the center of a pentagon to a vertex\n",
    "r = float(input(\"Enter the length from the center to a vertex (r) in cm: \"))\n",
    "\n",
    "# Compute the side length (s) using the formula s = 2r * sin(pi / 5)\n",
    "s = 2 * r * math.sin(math.pi / 5)\n",
    "\n",
    "# Compute the area of the pentagon using the formula Area = (3 * sqrt(3) * s^2) / 2\n",
    "area = (3 * math.sqrt(3) * s**2) / 2\n",
    "\n",
    "# Compute the sum of angles in degrees (sum of interior angles in a pentagon is 540 degrees)\n",
    "sum_of_angles_degrees = math.degrees((3*math.pi / 5)*5)\n",
    "\n",
    "# Display the results using f-strings\n",
    "print(f\"Length of each side (s) is: {s:.2f} cm\")\n",
    "print(f\"The area of the pentagon is: {area:.2f} cm^2\")\n",
    "print(f\"Sum of angles is {sum_of_angles_degrees:.1f} degrees\")"
   ]
  },
  {
   "cell_type": "markdown",
   "id": "13f17c71",
   "metadata": {},
   "source": [
    "### c)"
   ]
  },
  {
   "cell_type": "markdown",
   "id": "f03409fe",
   "metadata": {},
   "source": [
    "### c) i) test for 3125"
   ]
  },
  {
   "cell_type": "code",
   "execution_count": 5,
   "id": "b3ca80d1",
   "metadata": {
    "scrolled": true
   },
   "outputs": [
    {
     "name": "stdout",
     "output_type": "stream",
     "text": [
      "Enter a positive integer: 3125\n",
      "The number in reverse order is: 5213\n"
     ]
    }
   ],
   "source": [
    "# Prompt the user to enter a positive integer\n",
    "num = input(\"Enter a positive integer: \")\n",
    "\n",
    "# Reverse the number using string slicing\n",
    "reversed_num = num[::-1]\n",
    "\n",
    "# Display the reversed number\n",
    "print(\"The number in reverse order is:\", reversed_num)\n"
   ]
  },
  {
   "cell_type": "markdown",
   "id": "fe39162c",
   "metadata": {},
   "source": [
    "### c) i) test for 648923"
   ]
  },
  {
   "cell_type": "code",
   "execution_count": 6,
   "id": "914e2c8f",
   "metadata": {},
   "outputs": [
    {
     "name": "stdout",
     "output_type": "stream",
     "text": [
      "Enter a positive integer: 648923\n",
      "The number in reverse order is: 329846\n"
     ]
    }
   ],
   "source": [
    "# Prompt the user to enter a positive integer\n",
    "num = input(\"Enter a positive integer: \")\n",
    "\n",
    "# Reverse the number using string slicing\n",
    "reversed_num = num[::-1]\n",
    "\n",
    "# Display the reversed number\n",
    "print(\"The number in reverse order is:\", reversed_num)\n"
   ]
  },
  {
   "cell_type": "markdown",
   "id": "788c4146",
   "metadata": {},
   "source": [
    "### "
   ]
  },
  {
   "cell_type": "markdown",
   "id": "7078e8d3",
   "metadata": {},
   "source": [
    "## Question 02"
   ]
  },
  {
   "cell_type": "markdown",
   "id": "e54ce8a6",
   "metadata": {},
   "source": [
    "### i)"
   ]
  },
  {
   "cell_type": "code",
   "execution_count": 7,
   "id": "21cabdea",
   "metadata": {},
   "outputs": [],
   "source": [
    "# Given value of str\n",
    "str = 'Tumaini Hamis Kimario 2016-06-56789 M'"
   ]
  },
  {
   "cell_type": "markdown",
   "id": "c873c6de",
   "metadata": {},
   "source": [
    "### i) a)"
   ]
  },
  {
   "cell_type": "code",
   "execution_count": 8,
   "id": "7465fdba",
   "metadata": {},
   "outputs": [
    {
     "name": "stdout",
     "output_type": "stream",
     "text": [
      "Value of str: Tumaini Hamis Kimario 2016-06-56789 M\n"
     ]
    }
   ],
   "source": [
    "# Display the value of str\n",
    "print(\"Value of str:\", str)"
   ]
  },
  {
   "cell_type": "markdown",
   "id": "483b54bf",
   "metadata": {},
   "source": [
    "### i) b)"
   ]
  },
  {
   "cell_type": "code",
   "execution_count": 9,
   "id": "0fcbf82a",
   "metadata": {},
   "outputs": [
    {
     "name": "stdout",
     "output_type": "stream",
     "text": [
      "Firstname: Tumaini\n",
      "Middle name: Hamis\n",
      "Surname: Kimario\n",
      "Reg. No.: 2016-06-56789\n",
      "Sex: M\n"
     ]
    }
   ],
   "source": [
    "# indexing spaces\n",
    "first_space_index = str.find(' ')\n",
    "second_space_index = str.find(' ', first_space_index + 1)\n",
    "third_space_index = str.find(' ', second_space_index + 1)\n",
    "fourth_space_index = str.find(' ', third_space_index + 1)\n",
    "\n",
    "# assigning values to particulars variables\n",
    "firstname = str[:first_space_index]\n",
    "middlename = str[first_space_index + 1:second_space_index]\n",
    "surname = str[second_space_index + 1:third_space_index]\n",
    "reg_no = str[third_space_index + 1:fourth_space_index]\n",
    "sex = str[fourth_space_index + 1:]\n",
    "\n",
    "# Display the particulars in the specified format\n",
    "print(\"Firstname:\", firstname.capitalize())\n",
    "print(\"Middle name:\", middlename.capitalize())\n",
    "print(\"Surname:\", surname.capitalize())\n",
    "print(\"Reg. No.:\", reg_no)\n",
    "print(\"Sex:\", sex.capitalize())"
   ]
  },
  {
   "cell_type": "markdown",
   "id": "45ba8ecf",
   "metadata": {},
   "source": [
    "### i) c)"
   ]
  },
  {
   "cell_type": "code",
   "execution_count": 10,
   "id": "d5c9d041",
   "metadata": {},
   "outputs": [
    {
     "name": "stdout",
     "output_type": "stream",
     "text": [
      "\n",
      "Fullname is:\n",
      "Tumaini Hamis Kimario\n"
     ]
    }
   ],
   "source": [
    "# Display the fullname starting with surname in capital letters followed by comma followed by initials\n",
    "print(\"\\nFullname is:\")\n",
    "full_name = firstname + \" \" + middlename + \" \" + surname\n",
    "print(full_name)"
   ]
  },
  {
   "cell_type": "markdown",
   "id": "500deb0b",
   "metadata": {},
   "source": [
    "### i) d)"
   ]
  },
  {
   "cell_type": "code",
   "execution_count": 11,
   "id": "dc49ed3d",
   "metadata": {},
   "outputs": [
    {
     "name": "stdout",
     "output_type": "stream",
     "text": [
      "\n",
      "Is student Male? True\n",
      "Is student Female? False\n"
     ]
    }
   ],
   "source": [
    "# Display whether the student is Male or Female\n",
    "print(\"\\nIs student Male?\", sex.upper() == 'M')\n",
    "print(\"Is student Female?\", sex.upper() == 'F')"
   ]
  },
  {
   "cell_type": "markdown",
   "id": "8f8c506f",
   "metadata": {},
   "source": [
    "### ii)"
   ]
  },
  {
   "cell_type": "code",
   "execution_count": 12,
   "id": "98ba3972",
   "metadata": {},
   "outputs": [],
   "source": [
    "str='Lyimo Lucy Kokushubira 2021-06-07868 F'"
   ]
  },
  {
   "cell_type": "markdown",
   "id": "2bc62f03",
   "metadata": {},
   "source": [
    "### ii) a)"
   ]
  },
  {
   "cell_type": "code",
   "execution_count": 13,
   "id": "7654a732",
   "metadata": {},
   "outputs": [
    {
     "name": "stdout",
     "output_type": "stream",
     "text": [
      "Value of str: Lyimo Lucy Kokushubira 2021-06-07868 F\n"
     ]
    }
   ],
   "source": [
    "# Display the value of str\n",
    "print(\"Value of str:\", str)"
   ]
  },
  {
   "cell_type": "markdown",
   "id": "3e7fb5e4",
   "metadata": {},
   "source": [
    "### ii) b)"
   ]
  },
  {
   "cell_type": "code",
   "execution_count": 14,
   "id": "aa02425d",
   "metadata": {},
   "outputs": [
    {
     "name": "stdout",
     "output_type": "stream",
     "text": [
      "Firstname: Lyimo\n",
      "Middle name: Lucy\n",
      "Surname: Kokushubira\n",
      "Reg. No.: 2021-06-07868\n",
      "Sex: F\n"
     ]
    }
   ],
   "source": [
    "# indexing spaces\n",
    "first_space_index = str.find(' ')\n",
    "second_space_index = str.find(' ', first_space_index + 1)\n",
    "third_space_index = str.find(' ', second_space_index + 1)\n",
    "fourth_space_index = str.find(' ', third_space_index + 1)\n",
    "\n",
    "# assigning values to particulars variables\n",
    "firstname = str[:first_space_index]\n",
    "middlename = str[first_space_index + 1:second_space_index]\n",
    "surname = str[second_space_index + 1:third_space_index]\n",
    "reg_no = str[third_space_index + 1:fourth_space_index]\n",
    "sex = str[fourth_space_index + 1:]\n",
    "\n",
    "# Display the particulars in the specified format\n",
    "print(\"Firstname:\", firstname.capitalize())\n",
    "print(\"Middle name:\", middlename.capitalize())\n",
    "print(\"Surname:\", surname.capitalize())\n",
    "print(\"Reg. No.:\", reg_no)\n",
    "print(\"Sex:\", sex.capitalize())"
   ]
  },
  {
   "cell_type": "markdown",
   "id": "49a0917e",
   "metadata": {},
   "source": [
    "### ii) c)"
   ]
  },
  {
   "cell_type": "code",
   "execution_count": 15,
   "id": "38183e54",
   "metadata": {},
   "outputs": [
    {
     "name": "stdout",
     "output_type": "stream",
     "text": [
      "\n",
      "Fullname is:\n",
      "Lyimo Lucy Kokushubira\n"
     ]
    }
   ],
   "source": [
    "# Display the fullname starting with surname in capital letters followed by comma followed by initials\n",
    "print(\"\\nFullname is:\")\n",
    "full_name = firstname + \" \" + middlename + \" \" + surname\n",
    "print(full_name)"
   ]
  },
  {
   "cell_type": "markdown",
   "id": "4a7f231d",
   "metadata": {},
   "source": [
    "### ii) d)"
   ]
  },
  {
   "cell_type": "code",
   "execution_count": 16,
   "id": "7e4e815b",
   "metadata": {},
   "outputs": [
    {
     "name": "stdout",
     "output_type": "stream",
     "text": [
      "\n",
      "Is student Male? False\n",
      "Is student Female? True\n"
     ]
    }
   ],
   "source": [
    "# Display whether the student is Male or Female\n",
    "print(\"\\nIs student Male?\", sex.upper() == 'M')\n",
    "print(\"Is student Female?\", sex.upper() == 'F')"
   ]
  },
  {
   "cell_type": "markdown",
   "id": "5dc9c455",
   "metadata": {},
   "source": [
    "### iii)"
   ]
  },
  {
   "cell_type": "code",
   "execution_count": 17,
   "id": "c3528470",
   "metadata": {},
   "outputs": [],
   "source": [
    "str='baraka KImario GeORge 2021-06-09789 m'"
   ]
  },
  {
   "cell_type": "markdown",
   "id": "db0f7809",
   "metadata": {},
   "source": [
    "### iii) a)"
   ]
  },
  {
   "cell_type": "code",
   "execution_count": 18,
   "id": "82384fcf",
   "metadata": {},
   "outputs": [
    {
     "name": "stdout",
     "output_type": "stream",
     "text": [
      "Value of str: baraka KImario GeORge 2021-06-09789 m\n"
     ]
    }
   ],
   "source": [
    "# Display the value of str\n",
    "print(\"Value of str:\", str)"
   ]
  },
  {
   "cell_type": "markdown",
   "id": "39eefcd2",
   "metadata": {},
   "source": [
    "### iii) b)"
   ]
  },
  {
   "cell_type": "code",
   "execution_count": 19,
   "id": "2881cf3a",
   "metadata": {},
   "outputs": [
    {
     "name": "stdout",
     "output_type": "stream",
     "text": [
      "Firstname: Baraka\n",
      "Middle name: Kimario\n",
      "Surname: George\n",
      "Reg. No.: 2021-06-09789\n",
      "Sex: M\n"
     ]
    }
   ],
   "source": [
    "# indexing spaces\n",
    "first_space_index = str.find(' ')\n",
    "second_space_index = str.find(' ', first_space_index + 1)\n",
    "third_space_index = str.find(' ', second_space_index + 1)\n",
    "fourth_space_index = str.find(' ', third_space_index + 1)\n",
    "\n",
    "# assigning values to particulars variables\n",
    "firstname = str[:first_space_index]\n",
    "middlename = str[first_space_index + 1:second_space_index]\n",
    "surname = str[second_space_index + 1:third_space_index]\n",
    "reg_no = str[third_space_index + 1:fourth_space_index]\n",
    "sex = str[fourth_space_index + 1:]\n",
    "\n",
    "# Display the particulars in the specified format\n",
    "print(\"Firstname:\", firstname.capitalize())\n",
    "print(\"Middle name:\", middlename.capitalize())\n",
    "print(\"Surname:\", surname.capitalize())\n",
    "print(\"Reg. No.:\", reg_no)\n",
    "print(\"Sex:\", sex.capitalize())"
   ]
  },
  {
   "cell_type": "markdown",
   "id": "9f5cd355",
   "metadata": {},
   "source": [
    "### iii) c)"
   ]
  },
  {
   "cell_type": "code",
   "execution_count": 20,
   "id": "c7360573",
   "metadata": {},
   "outputs": [
    {
     "name": "stdout",
     "output_type": "stream",
     "text": [
      "\n",
      "Fullname is:\n",
      "baraka KImario GeORge\n"
     ]
    }
   ],
   "source": [
    "# Display the fullname starting with surname in capital letters followed by comma followed by initials\n",
    "print(\"\\nFullname is:\")\n",
    "full_name = firstname + \" \" + middlename + \" \" + surname\n",
    "print(full_name)"
   ]
  },
  {
   "cell_type": "markdown",
   "id": "9d55df62",
   "metadata": {},
   "source": [
    "### iii) d)"
   ]
  },
  {
   "cell_type": "code",
   "execution_count": 21,
   "id": "386a9321",
   "metadata": {},
   "outputs": [
    {
     "name": "stdout",
     "output_type": "stream",
     "text": [
      "\n",
      "Is student Male? True\n",
      "Is student Female? False\n"
     ]
    }
   ],
   "source": [
    "# Display whether the student is Male or Female\n",
    "print(\"\\nIs student Male?\", sex.upper() == 'M')\n",
    "print(\"Is student Female?\", sex.upper() == 'F')"
   ]
  },
  {
   "cell_type": "markdown",
   "id": "c6426fab",
   "metadata": {},
   "source": [
    "### iv)"
   ]
  },
  {
   "cell_type": "code",
   "execution_count": 22,
   "id": "a4cbf825",
   "metadata": {},
   "outputs": [],
   "source": [
    "str='mwakanemeLE Jacqueline mmbaga 2021-06-56789 f'"
   ]
  },
  {
   "cell_type": "markdown",
   "id": "8c6836c0",
   "metadata": {},
   "source": [
    "### iv) a)"
   ]
  },
  {
   "cell_type": "code",
   "execution_count": 23,
   "id": "2694c927",
   "metadata": {},
   "outputs": [
    {
     "name": "stdout",
     "output_type": "stream",
     "text": [
      "Value of str: mwakanemeLE Jacqueline mmbaga 2021-06-56789 f\n"
     ]
    }
   ],
   "source": [
    "# Display the value of str\n",
    "print(\"Value of str:\", str)"
   ]
  },
  {
   "cell_type": "markdown",
   "id": "3bef6fc0",
   "metadata": {},
   "source": [
    "### iv) b)"
   ]
  },
  {
   "cell_type": "code",
   "execution_count": 24,
   "id": "dd7b67ea",
   "metadata": {},
   "outputs": [
    {
     "name": "stdout",
     "output_type": "stream",
     "text": [
      "Firstname: Mwakanemele\n",
      "Middle name: Jacqueline\n",
      "Surname: Mmbaga\n",
      "Reg. No.: 2021-06-56789\n",
      "Sex: F\n"
     ]
    }
   ],
   "source": [
    "# indexing spaces\n",
    "first_space_index = str.find(' ')\n",
    "second_space_index = str.find(' ', first_space_index + 1)\n",
    "third_space_index = str.find(' ', second_space_index + 1)\n",
    "fourth_space_index = str.find(' ', third_space_index + 1)\n",
    "\n",
    "# assigning values to particulars variables\n",
    "firstname = str[:first_space_index]\n",
    "middlename = str[first_space_index + 1:second_space_index]\n",
    "surname = str[second_space_index + 1:third_space_index]\n",
    "reg_no = str[third_space_index + 1:fourth_space_index]\n",
    "sex = str[fourth_space_index + 1:]\n",
    "\n",
    "# Display the particulars in the specified format\n",
    "print(\"Firstname:\", firstname.capitalize())\n",
    "print(\"Middle name:\", middlename.capitalize())\n",
    "print(\"Surname:\", surname.capitalize())\n",
    "print(\"Reg. No.:\", reg_no)\n",
    "print(\"Sex:\", sex.capitalize())"
   ]
  },
  {
   "cell_type": "markdown",
   "id": "1f66fceb",
   "metadata": {},
   "source": [
    "### iv) c)"
   ]
  },
  {
   "cell_type": "code",
   "execution_count": 25,
   "id": "3eb676ea",
   "metadata": {},
   "outputs": [
    {
     "name": "stdout",
     "output_type": "stream",
     "text": [
      "\n",
      "Fullname is:\n",
      "mwakanemeLE Jacqueline mmbaga\n"
     ]
    }
   ],
   "source": [
    "# Display the fullname starting with surname in capital letters followed by comma followed by initials\n",
    "print(\"\\nFullname is:\")\n",
    "full_name = firstname + \" \" + middlename + \" \" + surname\n",
    "print(full_name)"
   ]
  },
  {
   "cell_type": "markdown",
   "id": "b0ecf55c",
   "metadata": {},
   "source": [
    "### iv) d)"
   ]
  },
  {
   "cell_type": "code",
   "execution_count": 26,
   "id": "187244de",
   "metadata": {},
   "outputs": [
    {
     "name": "stdout",
     "output_type": "stream",
     "text": [
      "\n",
      "Is student Male? False\n",
      "Is student Female? True\n"
     ]
    }
   ],
   "source": [
    "# Display whether the student is Male or Female\n",
    "print(\"\\nIs student Male?\", sex.upper() == 'M')\n",
    "print(\"Is student Female?\", sex.upper() == 'F')"
   ]
  },
  {
   "cell_type": "markdown",
   "id": "72a8e475",
   "metadata": {},
   "source": [
    "### "
   ]
  },
  {
   "cell_type": "markdown",
   "id": "9c196dac",
   "metadata": {},
   "source": [
    "## Question 03"
   ]
  },
  {
   "cell_type": "markdown",
   "id": "1b509e16",
   "metadata": {},
   "source": [
    "### a)"
   ]
  },
  {
   "cell_type": "code",
   "execution_count": 27,
   "id": "449627dc",
   "metadata": {},
   "outputs": [
    {
     "name": "stdout",
     "output_type": "stream",
     "text": [
      "The value of G is: 0.686\n"
     ]
    }
   ],
   "source": [
    "# Given values\n",
    "R = 25\n",
    "C = 19e-4\n",
    "L = 4e-4\n",
    "E = 20\n",
    "w = 5.5\n",
    "\n",
    "# Calculate G using the formula\n",
    "G = E /math.sqrt( R**2 + (2 * math.pi * w * L - 1)**2 / (2 * math.pi * w * C)**2 )\n",
    "\n",
    "# Display the value of G to 3 decimal places\n",
    "print(f\"The value of G is: {G:.3f}\")\n"
   ]
  },
  {
   "cell_type": "markdown",
   "id": "cd5f4cb0",
   "metadata": {},
   "source": [
    "### b)"
   ]
  },
  {
   "cell_type": "code",
   "execution_count": 28,
   "id": "8b43e0a3",
   "metadata": {},
   "outputs": [
    {
     "name": "stdout",
     "output_type": "stream",
     "text": [
      "The value of m is: 2.46660\n"
     ]
    }
   ],
   "source": [
    "# Given values\n",
    "a = 5.6\n",
    "b = 6.5\n",
    "x = 12.78\n",
    "y = 12.2\n",
    "w = 5.5\n",
    "L = 4e-4\n",
    "C = 19e-4\n",
    "\n",
    "# Calculate the value of m using the formula\n",
    "m = math.sqrt(a + 3*(3 * b )**(1/3)/( x +math.sqrt(3+y)))\n",
    "\n",
    "# Display the value of m to 5 decimal places\n",
    "print(f\"The value of m is: {m:.5f}\")\n"
   ]
  }
 ],
 "metadata": {
  "kernelspec": {
   "display_name": "Python 3 (ipykernel)",
   "language": "python",
   "name": "python3"
  },
  "language_info": {
   "codemirror_mode": {
    "name": "ipython",
    "version": 3
   },
   "file_extension": ".py",
   "mimetype": "text/x-python",
   "name": "python",
   "nbconvert_exporter": "python",
   "pygments_lexer": "ipython3",
   "version": "3.11.3"
  }
 },
 "nbformat": 4,
 "nbformat_minor": 5
}
