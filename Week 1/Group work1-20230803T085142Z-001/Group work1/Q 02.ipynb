{
 "cells": [
  {
   "cell_type": "markdown",
   "id": "19599a8f-680d-42e0-90f0-2e44c939d2a6",
   "metadata": {},
   "source": [
    "# Group Work 1"
   ]
  },
  {
   "cell_type": "markdown",
   "id": "87c07bdb-0c0f-4d66-8fcc-fa1358403f10",
   "metadata": {},
   "source": [
    "## Q 02"
   ]
  },
  {
   "cell_type": "markdown",
   "id": "8cee4b5f-2ff7-4b11-8634-92227782f52d",
   "metadata": {},
   "source": [
    "### a)"
   ]
  },
  {
   "cell_type": "code",
   "execution_count": 1,
   "id": "cc8d2e9f-aceb-4e6a-b663-d287a43360a5",
   "metadata": {},
   "outputs": [],
   "source": [
    "import pandas as pd"
   ]
  },
  {
   "cell_type": "code",
   "execution_count": 2,
   "id": "8780f8bf-ce32-4a43-85d3-a4a8f6fc8102",
   "metadata": {},
   "outputs": [],
   "source": [
    "path = '/Users/gabe/ML Bootcamp/Group work1-20230803T085142Z-001/Group work1/stdsscores.xls'\n",
    "df = pd.read_excel(path)"
   ]
  },
  {
   "cell_type": "code",
   "execution_count": 3,
   "id": "a02620d1-7bc6-4a61-b124-75c27d1a3168",
   "metadata": {},
   "outputs": [
    {
     "data": {
      "text/html": [
       "<div>\n",
       "<style scoped>\n",
       "    .dataframe tbody tr th:only-of-type {\n",
       "        vertical-align: middle;\n",
       "    }\n",
       "\n",
       "    .dataframe tbody tr th {\n",
       "        vertical-align: top;\n",
       "    }\n",
       "\n",
       "    .dataframe thead th {\n",
       "        text-align: right;\n",
       "    }\n",
       "</style>\n",
       "<table border=\"1\" class=\"dataframe\">\n",
       "  <thead>\n",
       "    <tr style=\"text-align: right;\">\n",
       "      <th></th>\n",
       "      <th>SN</th>\n",
       "      <th>Test1</th>\n",
       "      <th>Test2</th>\n",
       "      <th>UE</th>\n",
       "      <th>CA</th>\n",
       "      <th>FM</th>\n",
       "      <th>Grade</th>\n",
       "      <th>Remark</th>\n",
       "    </tr>\n",
       "  </thead>\n",
       "  <tbody>\n",
       "    <tr>\n",
       "      <th>0</th>\n",
       "      <td>1.0</td>\n",
       "      <td>59.4</td>\n",
       "      <td>26.3</td>\n",
       "      <td>81.8</td>\n",
       "      <td>41.2</td>\n",
       "      <td>65.6</td>\n",
       "      <td>C</td>\n",
       "      <td>Pass</td>\n",
       "    </tr>\n",
       "    <tr>\n",
       "      <th>1</th>\n",
       "      <td>2.0</td>\n",
       "      <td>65.9</td>\n",
       "      <td>29.6</td>\n",
       "      <td>100.0</td>\n",
       "      <td>45.9</td>\n",
       "      <td>78.4</td>\n",
       "      <td>B</td>\n",
       "      <td>Pass</td>\n",
       "    </tr>\n",
       "    <tr>\n",
       "      <th>2</th>\n",
       "      <td>3.0</td>\n",
       "      <td>70.7</td>\n",
       "      <td>56.3</td>\n",
       "      <td>70.5</td>\n",
       "      <td>62.8</td>\n",
       "      <td>67.4</td>\n",
       "      <td>C</td>\n",
       "      <td>Pass</td>\n",
       "    </tr>\n",
       "    <tr>\n",
       "      <th>3</th>\n",
       "      <td>4.0</td>\n",
       "      <td>27.5</td>\n",
       "      <td>19.4</td>\n",
       "      <td>36.7</td>\n",
       "      <td>23.0</td>\n",
       "      <td>31.2</td>\n",
       "      <td>F</td>\n",
       "      <td>Fail</td>\n",
       "    </tr>\n",
       "    <tr>\n",
       "      <th>4</th>\n",
       "      <td>5.0</td>\n",
       "      <td>45.2</td>\n",
       "      <td>27.4</td>\n",
       "      <td>96.4</td>\n",
       "      <td>35.4</td>\n",
       "      <td>72.0</td>\n",
       "      <td>B</td>\n",
       "      <td>Pass</td>\n",
       "    </tr>\n",
       "    <tr>\n",
       "      <th>...</th>\n",
       "      <td>...</td>\n",
       "      <td>...</td>\n",
       "      <td>...</td>\n",
       "      <td>...</td>\n",
       "      <td>...</td>\n",
       "      <td>...</td>\n",
       "      <td>...</td>\n",
       "      <td>...</td>\n",
       "    </tr>\n",
       "    <tr>\n",
       "      <th>259</th>\n",
       "      <td>NaN</td>\n",
       "      <td>NaN</td>\n",
       "      <td>NaN</td>\n",
       "      <td>NaN</td>\n",
       "      <td>NaN</td>\n",
       "      <td>NaN</td>\n",
       "      <td>F</td>\n",
       "      <td>Fail</td>\n",
       "    </tr>\n",
       "    <tr>\n",
       "      <th>260</th>\n",
       "      <td>NaN</td>\n",
       "      <td>NaN</td>\n",
       "      <td>NaN</td>\n",
       "      <td>NaN</td>\n",
       "      <td>NaN</td>\n",
       "      <td>NaN</td>\n",
       "      <td>F</td>\n",
       "      <td>Fail</td>\n",
       "    </tr>\n",
       "    <tr>\n",
       "      <th>261</th>\n",
       "      <td>NaN</td>\n",
       "      <td>NaN</td>\n",
       "      <td>NaN</td>\n",
       "      <td>NaN</td>\n",
       "      <td>NaN</td>\n",
       "      <td>NaN</td>\n",
       "      <td>F</td>\n",
       "      <td>Fail</td>\n",
       "    </tr>\n",
       "    <tr>\n",
       "      <th>262</th>\n",
       "      <td>NaN</td>\n",
       "      <td>NaN</td>\n",
       "      <td>NaN</td>\n",
       "      <td>NaN</td>\n",
       "      <td>NaN</td>\n",
       "      <td>NaN</td>\n",
       "      <td>F</td>\n",
       "      <td>Fail</td>\n",
       "    </tr>\n",
       "    <tr>\n",
       "      <th>263</th>\n",
       "      <td>NaN</td>\n",
       "      <td>NaN</td>\n",
       "      <td>NaN</td>\n",
       "      <td>NaN</td>\n",
       "      <td>54.6</td>\n",
       "      <td>55.6</td>\n",
       "      <td>D</td>\n",
       "      <td>Fail</td>\n",
       "    </tr>\n",
       "  </tbody>\n",
       "</table>\n",
       "<p>264 rows × 8 columns</p>\n",
       "</div>"
      ],
      "text/plain": [
       "      SN  Test1  Test2     UE    CA    FM Grade Remark\n",
       "0    1.0   59.4   26.3   81.8  41.2  65.6     C   Pass\n",
       "1    2.0   65.9   29.6  100.0  45.9  78.4     B   Pass\n",
       "2    3.0   70.7   56.3   70.5  62.8  67.4     C   Pass\n",
       "3    4.0   27.5   19.4   36.7  23.0  31.2     F   Fail\n",
       "4    5.0   45.2   27.4   96.4  35.4  72.0     B   Pass\n",
       "..   ...    ...    ...    ...   ...   ...   ...    ...\n",
       "259  NaN    NaN    NaN    NaN   NaN   NaN     F   Fail\n",
       "260  NaN    NaN    NaN    NaN   NaN   NaN     F   Fail\n",
       "261  NaN    NaN    NaN    NaN   NaN   NaN     F   Fail\n",
       "262  NaN    NaN    NaN    NaN   NaN   NaN     F   Fail\n",
       "263  NaN    NaN    NaN    NaN  54.6  55.6     D   Fail\n",
       "\n",
       "[264 rows x 8 columns]"
      ]
     },
     "execution_count": 3,
     "metadata": {},
     "output_type": "execute_result"
    }
   ],
   "source": [
    "df"
   ]
  },
  {
   "cell_type": "code",
   "execution_count": 4,
   "id": "9293cd70-c143-4a0c-a86a-196f961f5cce",
   "metadata": {},
   "outputs": [],
   "source": [
    "# Convert 'Test1', 'Test2', 'CA', and 'UE' columns to numeric\n",
    "numeric_columns = ['Test1', 'Test2', 'CA', 'UE']\n",
    "df[numeric_columns] = df[numeric_columns].apply(pd.to_numeric, errors='coerce')\n",
    "\n",
    "# Calculate Continuous Assessment (CA)\n",
    "df['CA'] = (df['Test1'] * 0.45) + (df['Test2'] * 0.55)\n",
    "df['CA'] = df['CA'].round(1)  # Round to 1 decimal place\n",
    "\n",
    "# Calculate Final Mark (FM)\n",
    "df['FM'] = (df['CA'] * 0.4) + (df['UE'] * 0.6)\n",
    "# df['FM'] = (df['CA'] / 50) + (df['UE'] / 50)\n",
    "df['FM'] = df['FM'].round(1)  # Round to 1 decimal place"
   ]
  },
  {
   "cell_type": "code",
   "execution_count": 5,
   "id": "e256690e-df4b-4bf4-8b7e-5da0736a8e89",
   "metadata": {},
   "outputs": [],
   "source": [
    "# Define a function to determine the Grade based on the Final Mark\n",
    "def get_grade(fm):\n",
    "    if fm >= 80:\n",
    "        return 'A'\n",
    "    elif fm >= 70:\n",
    "        return 'B'\n",
    "    elif fm >= 60:\n",
    "        return 'C'\n",
    "    elif fm >= 50:\n",
    "        return 'D'\n",
    "    else:\n",
    "        return 'F'\n",
    "\n",
    "# Apply the get_grade function to the 'FM' column\n",
    "df['Grade'] = df['FM'].apply(get_grade)"
   ]
  },
  {
   "cell_type": "code",
   "execution_count": 6,
   "id": "8e45b937-75d2-4124-86aa-6b3f7ab536a2",
   "metadata": {},
   "outputs": [],
   "source": [
    "# Define a function to determine the Remark based on the Grade\n",
    "def get_remark(grade):\n",
    "    if grade == 'A':\n",
    "        return 'Pass'\n",
    "    elif grade == 'B':\n",
    "        return 'Pass'\n",
    "    elif grade == 'C':\n",
    "        return 'Pass'\n",
    "    elif grade == 'D':\n",
    "        return 'Fail'\n",
    "    else:\n",
    "        return 'Fail'\n",
    "\n",
    "# Apply the get_remark function to the 'Grade' column\n",
    "df['Remark'] = df['Grade'].apply(get_remark)"
   ]
  },
  {
   "cell_type": "code",
   "execution_count": 7,
   "id": "18e9732e-4675-4757-9d0b-f1af3e887d0e",
   "metadata": {},
   "outputs": [
    {
     "name": "stderr",
     "output_type": "stream",
     "text": [
      "/var/folders/c6/2s1pssz95z92ddtnxkgtzj3c0000gn/T/ipykernel_22309/2481109994.py:2: FutureWarning: The series.append method is deprecated and will be removed from pandas in a future version. Use pandas.concat instead.\n",
      "  summary = df[['CA', 'FM']].mean().round(1).append(pd.Series({'Grade': '', 'Remark': ''}))\n",
      "/var/folders/c6/2s1pssz95z92ddtnxkgtzj3c0000gn/T/ipykernel_22309/2481109994.py:6: FutureWarning: The frame.append method is deprecated and will be removed from pandas in a future version. Use pandas.concat instead.\n",
      "  df = df.append(summary)\n"
     ]
    }
   ],
   "source": [
    "# Append summary row at the bottom of the DataFrame\n",
    "summary = df[['CA', 'FM']].mean().round(1).append(pd.Series({'Grade': '', 'Remark': ''}))\n",
    "summary['Grade'] = get_grade(summary['FM'])\n",
    "summary['Remark'] = get_remark(summary['Grade'])\n",
    "summary.name = 'Summary'\n",
    "df = df.append(summary)\n",
    "\n",
    "# Save the DataFrame back to Excel\n",
    "# df.to_excel(path, index=False)"
   ]
  },
  {
   "cell_type": "code",
   "execution_count": 8,
   "id": "7050a09f-e843-452d-aca5-585bf6c20e07",
   "metadata": {},
   "outputs": [
    {
     "data": {
      "text/html": [
       "<div>\n",
       "<style scoped>\n",
       "    .dataframe tbody tr th:only-of-type {\n",
       "        vertical-align: middle;\n",
       "    }\n",
       "\n",
       "    .dataframe tbody tr th {\n",
       "        vertical-align: top;\n",
       "    }\n",
       "\n",
       "    .dataframe thead th {\n",
       "        text-align: right;\n",
       "    }\n",
       "</style>\n",
       "<table border=\"1\" class=\"dataframe\">\n",
       "  <thead>\n",
       "    <tr style=\"text-align: right;\">\n",
       "      <th></th>\n",
       "      <th>SN</th>\n",
       "      <th>Test1</th>\n",
       "      <th>Test2</th>\n",
       "      <th>UE</th>\n",
       "      <th>CA</th>\n",
       "      <th>FM</th>\n",
       "      <th>Grade</th>\n",
       "      <th>Remark</th>\n",
       "    </tr>\n",
       "  </thead>\n",
       "  <tbody>\n",
       "    <tr>\n",
       "      <th>0</th>\n",
       "      <td>1.0</td>\n",
       "      <td>59.4</td>\n",
       "      <td>26.3</td>\n",
       "      <td>81.8</td>\n",
       "      <td>41.2</td>\n",
       "      <td>65.6</td>\n",
       "      <td>C</td>\n",
       "      <td>Pass</td>\n",
       "    </tr>\n",
       "    <tr>\n",
       "      <th>1</th>\n",
       "      <td>2.0</td>\n",
       "      <td>65.9</td>\n",
       "      <td>29.6</td>\n",
       "      <td>100.0</td>\n",
       "      <td>45.9</td>\n",
       "      <td>78.4</td>\n",
       "      <td>B</td>\n",
       "      <td>Pass</td>\n",
       "    </tr>\n",
       "    <tr>\n",
       "      <th>2</th>\n",
       "      <td>3.0</td>\n",
       "      <td>70.7</td>\n",
       "      <td>56.3</td>\n",
       "      <td>70.5</td>\n",
       "      <td>62.8</td>\n",
       "      <td>67.4</td>\n",
       "      <td>C</td>\n",
       "      <td>Pass</td>\n",
       "    </tr>\n",
       "    <tr>\n",
       "      <th>3</th>\n",
       "      <td>4.0</td>\n",
       "      <td>27.5</td>\n",
       "      <td>19.4</td>\n",
       "      <td>36.7</td>\n",
       "      <td>23.0</td>\n",
       "      <td>31.2</td>\n",
       "      <td>F</td>\n",
       "      <td>Fail</td>\n",
       "    </tr>\n",
       "    <tr>\n",
       "      <th>4</th>\n",
       "      <td>5.0</td>\n",
       "      <td>45.2</td>\n",
       "      <td>27.4</td>\n",
       "      <td>96.4</td>\n",
       "      <td>35.4</td>\n",
       "      <td>72.0</td>\n",
       "      <td>B</td>\n",
       "      <td>Pass</td>\n",
       "    </tr>\n",
       "    <tr>\n",
       "      <th>...</th>\n",
       "      <td>...</td>\n",
       "      <td>...</td>\n",
       "      <td>...</td>\n",
       "      <td>...</td>\n",
       "      <td>...</td>\n",
       "      <td>...</td>\n",
       "      <td>...</td>\n",
       "      <td>...</td>\n",
       "    </tr>\n",
       "    <tr>\n",
       "      <th>260</th>\n",
       "      <td>NaN</td>\n",
       "      <td>NaN</td>\n",
       "      <td>NaN</td>\n",
       "      <td>NaN</td>\n",
       "      <td>NaN</td>\n",
       "      <td>NaN</td>\n",
       "      <td>F</td>\n",
       "      <td>Fail</td>\n",
       "    </tr>\n",
       "    <tr>\n",
       "      <th>261</th>\n",
       "      <td>NaN</td>\n",
       "      <td>NaN</td>\n",
       "      <td>NaN</td>\n",
       "      <td>NaN</td>\n",
       "      <td>NaN</td>\n",
       "      <td>NaN</td>\n",
       "      <td>F</td>\n",
       "      <td>Fail</td>\n",
       "    </tr>\n",
       "    <tr>\n",
       "      <th>262</th>\n",
       "      <td>NaN</td>\n",
       "      <td>NaN</td>\n",
       "      <td>NaN</td>\n",
       "      <td>NaN</td>\n",
       "      <td>NaN</td>\n",
       "      <td>NaN</td>\n",
       "      <td>F</td>\n",
       "      <td>Fail</td>\n",
       "    </tr>\n",
       "    <tr>\n",
       "      <th>263</th>\n",
       "      <td>NaN</td>\n",
       "      <td>NaN</td>\n",
       "      <td>NaN</td>\n",
       "      <td>NaN</td>\n",
       "      <td>NaN</td>\n",
       "      <td>NaN</td>\n",
       "      <td>F</td>\n",
       "      <td>Fail</td>\n",
       "    </tr>\n",
       "    <tr>\n",
       "      <th>Summary</th>\n",
       "      <td>NaN</td>\n",
       "      <td>NaN</td>\n",
       "      <td>NaN</td>\n",
       "      <td>NaN</td>\n",
       "      <td>54.6</td>\n",
       "      <td>55.6</td>\n",
       "      <td>D</td>\n",
       "      <td>Fail</td>\n",
       "    </tr>\n",
       "  </tbody>\n",
       "</table>\n",
       "<p>265 rows × 8 columns</p>\n",
       "</div>"
      ],
      "text/plain": [
       "          SN  Test1  Test2     UE    CA    FM Grade Remark\n",
       "0        1.0   59.4   26.3   81.8  41.2  65.6     C   Pass\n",
       "1        2.0   65.9   29.6  100.0  45.9  78.4     B   Pass\n",
       "2        3.0   70.7   56.3   70.5  62.8  67.4     C   Pass\n",
       "3        4.0   27.5   19.4   36.7  23.0  31.2     F   Fail\n",
       "4        5.0   45.2   27.4   96.4  35.4  72.0     B   Pass\n",
       "...      ...    ...    ...    ...   ...   ...   ...    ...\n",
       "260      NaN    NaN    NaN    NaN   NaN   NaN     F   Fail\n",
       "261      NaN    NaN    NaN    NaN   NaN   NaN     F   Fail\n",
       "262      NaN    NaN    NaN    NaN   NaN   NaN     F   Fail\n",
       "263      NaN    NaN    NaN    NaN   NaN   NaN     F   Fail\n",
       "Summary  NaN    NaN    NaN    NaN  54.6  55.6     D   Fail\n",
       "\n",
       "[265 rows x 8 columns]"
      ]
     },
     "execution_count": 8,
     "metadata": {},
     "output_type": "execute_result"
    }
   ],
   "source": [
    "df"
   ]
  },
  {
   "cell_type": "markdown",
   "id": "4b78530a-5ea9-46b2-8285-b7c3e5b7d7bb",
   "metadata": {},
   "source": [
    "### b)"
   ]
  },
  {
   "cell_type": "code",
   "execution_count": 9,
   "id": "d0f76de3-7475-4229-b417-7f0d8c44cb6a",
   "metadata": {},
   "outputs": [
    {
     "name": "stdout",
     "output_type": "stream",
     "text": [
      "        Test1    Test2         CA        UE     FM\n",
      "min   10.2000  10.3000  11.600000   10.1000  17.50\n",
      "max   99.8000  99.4000  95.000000  100.0000  93.30\n",
      "mean  54.1336  54.9564  54.586853   56.2512  55.59\n"
     ]
    }
   ],
   "source": [
    "# Calculate Minimum, Maximum, and Average\n",
    "min_max_avg = df[['Test1', 'Test2', 'CA', 'UE', 'FM']].agg(['min', 'max', 'mean']).round({'FM': 2})\n",
    "print(min_max_avg)"
   ]
  },
  {
   "cell_type": "markdown",
   "id": "acd3fb4c-a44f-4650-b2bd-9c89e8bda8a0",
   "metadata": {},
   "source": [
    "### c)"
   ]
  },
  {
   "cell_type": "code",
   "execution_count": 10,
   "id": "ada83a03-2e9d-4337-994d-4cd915a3989c",
   "metadata": {},
   "outputs": [
    {
     "name": "stdout",
     "output_type": "stream",
     "text": [
      "Students who passed are: 155\n",
      "Students who failed are: 110\n"
     ]
    }
   ],
   "source": [
    "# Calculate the number of students who passed (Grade not equal to 'F')\n",
    "passed_students = df[df['Grade'] != 'F'].shape[0]\n",
    "failed_students = df[df['Grade'] == 'F'].shape[0]\n",
    "\n",
    "print(\"Students who passed are: \" + str(passed_students))\n",
    "print(\"Students who failed are: \" + str(failed_students))"
   ]
  },
  {
   "cell_type": "markdown",
   "id": "5efe1d4e-de59-46fb-9472-cf8d82ee66f2",
   "metadata": {},
   "source": [
    "### d)"
   ]
  },
  {
   "cell_type": "code",
   "execution_count": 11,
   "id": "71941f34-4e1b-4563-a68d-9e36b6ffdc88",
   "metadata": {},
   "outputs": [],
   "source": [
    "# Statistical summary of Grades\n",
    "grade_summary = df['Grade'].value_counts().sort_index()"
   ]
  },
  {
   "cell_type": "code",
   "execution_count": 12,
   "id": "dbe073fb-7fe1-41fc-bcd4-ff537e3b1764",
   "metadata": {},
   "outputs": [
    {
     "data": {
      "text/plain": [
       "A     21\n",
       "B     40\n",
       "C     41\n",
       "D     53\n",
       "F    110\n",
       "Name: Grade, dtype: int64"
      ]
     },
     "execution_count": 12,
     "metadata": {},
     "output_type": "execute_result"
    }
   ],
   "source": [
    "grade_summary"
   ]
  },
  {
   "cell_type": "markdown",
   "id": "61d0e54b-7a9f-4db9-83e9-d79f00d948d5",
   "metadata": {},
   "source": [
    "### e)"
   ]
  },
  {
   "cell_type": "code",
   "execution_count": 13,
   "id": "a3bdb7b6-40d1-49ca-a99b-3e6bc9d6a577",
   "metadata": {},
   "outputs": [],
   "source": [
    "# Create a copy of the DataFrame and sort it by 'FM' in descending order\n",
    "sorted_df = df.copy()\n",
    "sorted_df = sorted_df.sort_values(by='FM', ascending=False)"
   ]
  },
  {
   "cell_type": "code",
   "execution_count": 14,
   "id": "69eb80a8-9a8b-4a95-b5db-db7d7cb8755e",
   "metadata": {},
   "outputs": [
    {
     "data": {
      "text/html": [
       "<div>\n",
       "<style scoped>\n",
       "    .dataframe tbody tr th:only-of-type {\n",
       "        vertical-align: middle;\n",
       "    }\n",
       "\n",
       "    .dataframe tbody tr th {\n",
       "        vertical-align: top;\n",
       "    }\n",
       "\n",
       "    .dataframe thead th {\n",
       "        text-align: right;\n",
       "    }\n",
       "</style>\n",
       "<table border=\"1\" class=\"dataframe\">\n",
       "  <thead>\n",
       "    <tr style=\"text-align: right;\">\n",
       "      <th></th>\n",
       "      <th>SN</th>\n",
       "      <th>Test1</th>\n",
       "      <th>Test2</th>\n",
       "      <th>UE</th>\n",
       "      <th>CA</th>\n",
       "      <th>FM</th>\n",
       "      <th>Grade</th>\n",
       "      <th>Remark</th>\n",
       "    </tr>\n",
       "  </thead>\n",
       "  <tbody>\n",
       "    <tr>\n",
       "      <th>196</th>\n",
       "      <td>197.0</td>\n",
       "      <td>77.8</td>\n",
       "      <td>99.4</td>\n",
       "      <td>95.7</td>\n",
       "      <td>89.7</td>\n",
       "      <td>93.3</td>\n",
       "      <td>A</td>\n",
       "      <td>Pass</td>\n",
       "    </tr>\n",
       "    <tr>\n",
       "      <th>228</th>\n",
       "      <td>229.0</td>\n",
       "      <td>86.9</td>\n",
       "      <td>97.6</td>\n",
       "      <td>90.9</td>\n",
       "      <td>92.8</td>\n",
       "      <td>91.7</td>\n",
       "      <td>A</td>\n",
       "      <td>Pass</td>\n",
       "    </tr>\n",
       "    <tr>\n",
       "      <th>112</th>\n",
       "      <td>113.0</td>\n",
       "      <td>78.5</td>\n",
       "      <td>82.2</td>\n",
       "      <td>97.7</td>\n",
       "      <td>80.5</td>\n",
       "      <td>90.8</td>\n",
       "      <td>A</td>\n",
       "      <td>Pass</td>\n",
       "    </tr>\n",
       "    <tr>\n",
       "      <th>165</th>\n",
       "      <td>166.0</td>\n",
       "      <td>87.5</td>\n",
       "      <td>68.8</td>\n",
       "      <td>96.6</td>\n",
       "      <td>77.2</td>\n",
       "      <td>88.8</td>\n",
       "      <td>A</td>\n",
       "      <td>Pass</td>\n",
       "    </tr>\n",
       "    <tr>\n",
       "      <th>10</th>\n",
       "      <td>11.0</td>\n",
       "      <td>84.5</td>\n",
       "      <td>78.7</td>\n",
       "      <td>93.4</td>\n",
       "      <td>81.3</td>\n",
       "      <td>88.6</td>\n",
       "      <td>A</td>\n",
       "      <td>Pass</td>\n",
       "    </tr>\n",
       "    <tr>\n",
       "      <th>...</th>\n",
       "      <td>...</td>\n",
       "      <td>...</td>\n",
       "      <td>...</td>\n",
       "      <td>...</td>\n",
       "      <td>...</td>\n",
       "      <td>...</td>\n",
       "      <td>...</td>\n",
       "      <td>...</td>\n",
       "    </tr>\n",
       "    <tr>\n",
       "      <th>259</th>\n",
       "      <td>NaN</td>\n",
       "      <td>NaN</td>\n",
       "      <td>NaN</td>\n",
       "      <td>NaN</td>\n",
       "      <td>NaN</td>\n",
       "      <td>NaN</td>\n",
       "      <td>F</td>\n",
       "      <td>Fail</td>\n",
       "    </tr>\n",
       "    <tr>\n",
       "      <th>260</th>\n",
       "      <td>NaN</td>\n",
       "      <td>NaN</td>\n",
       "      <td>NaN</td>\n",
       "      <td>NaN</td>\n",
       "      <td>NaN</td>\n",
       "      <td>NaN</td>\n",
       "      <td>F</td>\n",
       "      <td>Fail</td>\n",
       "    </tr>\n",
       "    <tr>\n",
       "      <th>261</th>\n",
       "      <td>NaN</td>\n",
       "      <td>NaN</td>\n",
       "      <td>NaN</td>\n",
       "      <td>NaN</td>\n",
       "      <td>NaN</td>\n",
       "      <td>NaN</td>\n",
       "      <td>F</td>\n",
       "      <td>Fail</td>\n",
       "    </tr>\n",
       "    <tr>\n",
       "      <th>262</th>\n",
       "      <td>NaN</td>\n",
       "      <td>NaN</td>\n",
       "      <td>NaN</td>\n",
       "      <td>NaN</td>\n",
       "      <td>NaN</td>\n",
       "      <td>NaN</td>\n",
       "      <td>F</td>\n",
       "      <td>Fail</td>\n",
       "    </tr>\n",
       "    <tr>\n",
       "      <th>263</th>\n",
       "      <td>NaN</td>\n",
       "      <td>NaN</td>\n",
       "      <td>NaN</td>\n",
       "      <td>NaN</td>\n",
       "      <td>NaN</td>\n",
       "      <td>NaN</td>\n",
       "      <td>F</td>\n",
       "      <td>Fail</td>\n",
       "    </tr>\n",
       "  </tbody>\n",
       "</table>\n",
       "<p>265 rows × 8 columns</p>\n",
       "</div>"
      ],
      "text/plain": [
       "        SN  Test1  Test2    UE    CA    FM Grade Remark\n",
       "196  197.0   77.8   99.4  95.7  89.7  93.3     A   Pass\n",
       "228  229.0   86.9   97.6  90.9  92.8  91.7     A   Pass\n",
       "112  113.0   78.5   82.2  97.7  80.5  90.8     A   Pass\n",
       "165  166.0   87.5   68.8  96.6  77.2  88.8     A   Pass\n",
       "10    11.0   84.5   78.7  93.4  81.3  88.6     A   Pass\n",
       "..     ...    ...    ...   ...   ...   ...   ...    ...\n",
       "259    NaN    NaN    NaN   NaN   NaN   NaN     F   Fail\n",
       "260    NaN    NaN    NaN   NaN   NaN   NaN     F   Fail\n",
       "261    NaN    NaN    NaN   NaN   NaN   NaN     F   Fail\n",
       "262    NaN    NaN    NaN   NaN   NaN   NaN     F   Fail\n",
       "263    NaN    NaN    NaN   NaN   NaN   NaN     F   Fail\n",
       "\n",
       "[265 rows x 8 columns]"
      ]
     },
     "execution_count": 14,
     "metadata": {},
     "output_type": "execute_result"
    }
   ],
   "source": [
    "sorted_df"
   ]
  },
  {
   "cell_type": "markdown",
   "id": "4d17cb21-28d3-4371-8ea8-c945b335f828",
   "metadata": {},
   "source": [
    "## Q 01"
   ]
  },
  {
   "cell_type": "code",
   "execution_count": 15,
   "id": "81f32e5a-77e9-42c0-8f76-30bf29ea1efc",
   "metadata": {},
   "outputs": [],
   "source": [
    "import girlsnames_file"
   ]
  },
  {
   "cell_type": "markdown",
   "id": "17b92acf-4938-455a-acd7-598ff60e63f8",
   "metadata": {},
   "source": [
    "### a)"
   ]
  },
  {
   "cell_type": "code",
   "execution_count": 16,
   "id": "2f6778b7-e81c-411b-8b84-689f38d6cd20",
   "metadata": {},
   "outputs": [
    {
     "name": "stdout",
     "output_type": "stream",
     "text": [
      "200\n"
     ]
    }
   ],
   "source": [
    "length = len(girlsnames_file.girlsnames)\n",
    "print(length)"
   ]
  },
  {
   "cell_type": "markdown",
   "id": "3addff32-f94d-4086-ad6d-4f587766b4d4",
   "metadata": {},
   "source": [
    "### b) i)"
   ]
  },
  {
   "cell_type": "code",
   "execution_count": 17,
   "id": "d936dc8d-fd39-4fb9-bcb6-db376ecc51f6",
   "metadata": {},
   "outputs": [
    {
     "name": "stdout",
     "output_type": "stream",
     "text": [
      "['Emily', 'Madison', 'Emma', 'Olivia', 'Hannah']\n",
      "First 5 names: Emily, Madison, Emma, Olivia, Hannah\n"
     ]
    }
   ],
   "source": [
    "# Display the first 5 names\n",
    "first_names = girlsnames_file.girlsnames[:5]\n",
    "print(first_names)\n",
    "print(\"First 5 names: \" + ', '.join(first_names))"
   ]
  },
  {
   "cell_type": "markdown",
   "id": "ab822ad2-0dc7-4160-8fec-12fc918055e0",
   "metadata": {},
   "source": [
    "### b) ii)"
   ]
  },
  {
   "cell_type": "code",
   "execution_count": 18,
   "id": "fc648f06-6f3f-498e-a99e-51972bb0f225",
   "metadata": {},
   "outputs": [
    {
     "name": "stdout",
     "output_type": "stream",
     "text": [
      "['Adrianna', 'Karina', 'Delaney', 'Ellie', 'Jasmin']\n",
      "Last 5 names: Adrianna, Karina, Delaney, Ellie, Jasmin\n"
     ]
    }
   ],
   "source": [
    "# Display the last 5 names\n",
    "last_names = girlsnames_file.girlsnames[-5:]\n",
    "print(last_names)\n",
    "print(\"Last 5 names: \" + ', '.join(last_names))"
   ]
  },
  {
   "cell_type": "markdown",
   "id": "32855294-d07a-4759-aaf6-ddc9fb43ca4d",
   "metadata": {},
   "source": [
    "### c)"
   ]
  },
  {
   "cell_type": "code",
   "execution_count": 19,
   "id": "24ce26f1-4b4f-45e6-8154-96a07f5cbde2",
   "metadata": {},
   "outputs": [
    {
     "name": "stdout",
     "output_type": "stream",
     "text": [
      "Shortest names: ['Ava', 'Mia', 'Zoe', 'Mya', 'Amy', 'Ana', 'Eva']\n"
     ]
    }
   ],
   "source": [
    "# Find the length of the shortest name\n",
    "shortest_length = min(len(name) for name in girlsnames_file.girlsnames)\n",
    "\n",
    "# Create a list of shorest names\n",
    "shortest_names = [name for name in girlsnames_file.girlsnames if len(name) == shortest_length]\n",
    "\n",
    "# Display the list of shortest names\n",
    "print(\"Shortest names:\", shortest_names)"
   ]
  },
  {
   "cell_type": "markdown",
   "id": "bf1c571d-000f-4217-8af2-c4224a9805f9",
   "metadata": {},
   "source": [
    "### d)"
   ]
  },
  {
   "cell_type": "code",
   "execution_count": 20,
   "id": "dfa2f1b6-5db3-4d85-ab25-95e1e9825e41",
   "metadata": {},
   "outputs": [
    {
     "name": "stdout",
     "output_type": "stream",
     "text": [
      "Longest names: ['Jacqueline', 'Alexandria']\n"
     ]
    }
   ],
   "source": [
    "# Find the length of the longest name\n",
    "longest_length = max(len(name) for name in girlsnames_file.girlsnames)\n",
    "\n",
    "# Create a list of longest names\n",
    "longest_names = [name for name in girlsnames_file.girlsnames if len(name) == longest_length]\n",
    "\n",
    "# Display the list of longest names\n",
    "print(\"Longest names:\", longest_names)"
   ]
  },
  {
   "cell_type": "markdown",
   "id": "c19d11ea-638d-4da1-be43-157a2206b8f8",
   "metadata": {},
   "source": [
    "### e) i)"
   ]
  },
  {
   "cell_type": "code",
   "execution_count": 21,
   "id": "c9ce69c2-d5e2-42fe-840f-0c398a65c191",
   "metadata": {},
   "outputs": [
    {
     "name": "stdin",
     "output_type": "stream",
     "text": [
      "Enter a name or press ENTER to exit:  gRace\n"
     ]
    },
    {
     "name": "stdout",
     "output_type": "stream",
     "text": [
      "There are 1 names that match 'gRace'.\n"
     ]
    }
   ],
   "source": [
    "while True:\n",
    "    ename = input(\"Enter a name or press ENTER to exit: \").strip()\n",
    "\n",
    "    if not ename:\n",
    "        print(\"Sorry, please specify the name.\")\n",
    "        continue\n",
    "        \n",
    "    matching_names = [name for name in girlsnames_file.girlsnames if name.lower() == ename.lower()]\n",
    "    length_matching_names = len(matching_names)\n",
    "\n",
    "    if length_matching_names == 0:\n",
    "        print(f\"Entered name '{ename}' does not exist in the list.\")\n",
    "        break\n",
    "    else:\n",
    "        print(f\"There are {length_matching_names} names that match '{ename}'.\")\n",
    "        break"
   ]
  },
  {
   "cell_type": "markdown",
   "id": "4b6c7639-f03d-472c-8c21-c239c113a1fa",
   "metadata": {},
   "source": [
    "### e) ii)"
   ]
  },
  {
   "cell_type": "code",
   "execution_count": 22,
   "id": "921c24ef-cb11-42a7-88b2-9989d993402b",
   "metadata": {},
   "outputs": [
    {
     "name": "stdin",
     "output_type": "stream",
     "text": [
      "Enter a name or press ENTER to exit:  Kaboya\n"
     ]
    },
    {
     "name": "stdout",
     "output_type": "stream",
     "text": [
      "Entered name 'Kaboya' does not exist in the list.\n"
     ]
    }
   ],
   "source": [
    "while True:\n",
    "    ename = input(\"Enter a name or press ENTER to exit: \").strip()\n",
    "\n",
    "    if not ename:\n",
    "        print(\"Sorry, please specify the name.\")\n",
    "        continue\n",
    "        \n",
    "    matching_names = [name for name in girlsnames_file.girlsnames if name.lower() == ename.lower()]\n",
    "    length_matching_names = len(matching_names)\n",
    "\n",
    "    if length_matching_names == 0:\n",
    "        print(f\"Entered name '{ename}' does not exist in the list.\")\n",
    "        break\n",
    "    else:\n",
    "        print(f\"There are {length_matching_names} names that match '{ename}'.\")\n",
    "        break"
   ]
  },
  {
   "cell_type": "markdown",
   "id": "78b7863c-bafe-4dc3-a3a7-cf886d8ff4ca",
   "metadata": {},
   "source": [
    "### e) iii)"
   ]
  },
  {
   "cell_type": "code",
   "execution_count": 23,
   "id": "6a5a7fe6-2e6d-49ef-a7db-2645e91a3335",
   "metadata": {},
   "outputs": [
    {
     "name": "stdin",
     "output_type": "stream",
     "text": [
      "Enter a name or press ENTER to exit:  emMA\n"
     ]
    },
    {
     "name": "stdout",
     "output_type": "stream",
     "text": [
      "There are 1 names that match 'emMA'.\n"
     ]
    }
   ],
   "source": [
    "while True:\n",
    "    ename = input(\"Enter a name or press ENTER to exit: \").strip()\n",
    "\n",
    "    if not ename:\n",
    "        print(\"Sorry, please specify the name.\")\n",
    "        continue\n",
    "        \n",
    "    matching_names = [name for name in girlsnames_file.girlsnames if name.lower() == ename.lower()]\n",
    "    length_matching_names = len(matching_names)\n",
    "\n",
    "    if length_matching_names == 0:\n",
    "        print(f\"Entered name '{ename}' does not exist in the list.\")\n",
    "        break\n",
    "    else:\n",
    "        print(f\"There are {length_matching_names} names that match '{ename}'.\")\n",
    "        break"
   ]
  },
  {
   "cell_type": "markdown",
   "id": "c1f84ed2-9518-4180-96c6-3b52437a44f4",
   "metadata": {},
   "source": [
    "### e) iv)"
   ]
  },
  {
   "cell_type": "code",
   "execution_count": 24,
   "id": "b26dc3df-35b9-4f98-baa6-6437e05f6aed",
   "metadata": {},
   "outputs": [
    {
     "name": "stdin",
     "output_type": "stream",
     "text": [
      "Enter a name or press ENTER to exit:  eliza\n"
     ]
    },
    {
     "name": "stdout",
     "output_type": "stream",
     "text": [
      "Entered name 'eliza' does not exist in the list.\n"
     ]
    }
   ],
   "source": [
    "while True:\n",
    "    ename = input(\"Enter a name or press ENTER to exit: \").strip()\n",
    "\n",
    "    if not ename:\n",
    "        print(\"Sorry, please specify the name.\")\n",
    "        continue\n",
    "        \n",
    "    matching_names = [name for name in girlsnames_file.girlsnames if name.lower() == ename.lower()]\n",
    "    length_matching_names = len(matching_names)\n",
    "\n",
    "    if length_matching_names == 0:\n",
    "        print(f\"Entered name '{ename}' does not exist in the list.\")\n",
    "        break\n",
    "    else:\n",
    "        print(f\"There are {length_matching_names} names that match '{ename}'.\")\n",
    "        break"
   ]
  },
  {
   "cell_type": "markdown",
   "id": "45027247-423a-431d-93ee-6c84d2ae1e96",
   "metadata": {},
   "source": [
    "### e) v)"
   ]
  },
  {
   "cell_type": "code",
   "execution_count": 25,
   "id": "58fbde8e-97ef-4fa6-a341-5bac468b449d",
   "metadata": {},
   "outputs": [
    {
     "name": "stdin",
     "output_type": "stream",
     "text": [
      "Enter a name or press ENTER to exit:  \n"
     ]
    },
    {
     "name": "stdout",
     "output_type": "stream",
     "text": [
      "Sorry, please specify the name.\n"
     ]
    },
    {
     "name": "stdin",
     "output_type": "stream",
     "text": [
      "Enter a name or press ENTER to exit:  \n"
     ]
    },
    {
     "name": "stdout",
     "output_type": "stream",
     "text": [
      "Sorry, please specify the name.\n"
     ]
    },
    {
     "name": "stdin",
     "output_type": "stream",
     "text": [
      "Enter a name or press ENTER to exit:  \n"
     ]
    },
    {
     "name": "stdout",
     "output_type": "stream",
     "text": [
      "Sorry, please specify the name.\n"
     ]
    },
    {
     "name": "stdin",
     "output_type": "stream",
     "text": [
      "Enter a name or press ENTER to exit:  \n"
     ]
    },
    {
     "name": "stdout",
     "output_type": "stream",
     "text": [
      "Sorry, please specify the name.\n"
     ]
    },
    {
     "name": "stdin",
     "output_type": "stream",
     "text": [
      "Enter a name or press ENTER to exit:  \n"
     ]
    },
    {
     "name": "stdout",
     "output_type": "stream",
     "text": [
      "Sorry, please specify the name.\n"
     ]
    },
    {
     "name": "stdin",
     "output_type": "stream",
     "text": [
      "Enter a name or press ENTER to exit:  oi\n"
     ]
    },
    {
     "name": "stdout",
     "output_type": "stream",
     "text": [
      "Entered name 'oi' does not exist in the list.\n"
     ]
    }
   ],
   "source": [
    "while True:\n",
    "    ename = input(\"Enter a name or press ENTER to exit: \").strip()\n",
    "\n",
    "    if not ename:\n",
    "        print(\"Sorry, please specify the name.\")\n",
    "        continue\n",
    "        \n",
    "    matching_names = [name for name in girlsnames_file.girlsnames if name.lower() == ename.lower()]\n",
    "    length_matching_names = len(matching_names)\n",
    "\n",
    "    if length_matching_names == 0:\n",
    "        print(f\"Entered name '{ename}' does not exist in the list.\")\n",
    "        break\n",
    "    else:\n",
    "        print(f\"There are {length_matching_names} names that match '{ename}'.\")\n",
    "        break"
   ]
  },
  {
   "cell_type": "markdown",
   "id": "2de35185-db9b-42ab-a687-8a5c09c438ee",
   "metadata": {},
   "source": [
    "### e) alternative"
   ]
  },
  {
   "cell_type": "code",
   "execution_count": 26,
   "id": "23d16af7-d203-4eac-b948-c01748acfcb1",
   "metadata": {},
   "outputs": [
    {
     "name": "stdin",
     "output_type": "stream",
     "text": [
      "Enter a name or press ENTER to exit:  e\n"
     ]
    },
    {
     "name": "stdout",
     "output_type": "stream",
     "text": [
      "Entered name 'e' does not exist in the list.\n"
     ]
    }
   ],
   "source": [
    "while True:\n",
    "    ename = input(\"Enter a name or press ENTER to exit: \").strip()\n",
    "\n",
    "    if not ename:\n",
    "        print(\"Sorry, please specify the name.\")\n",
    "        continue\n",
    "\n",
    "    matching_names = [name for name in girlsnames_file.girlsnames if name.lower() == ename.lower()]\n",
    "\n",
    "    if matching_names:\n",
    "        print(f\"Number of names matching '{ename}':  {len(matching_names)}\" )\n",
    "    else:\n",
    "        print(f\"Entered name '{ename}' does not exist in the list.\")\n",
    "        break\n",
    "    "
   ]
  },
  {
   "cell_type": "markdown",
   "id": "500382c7-6d9e-4091-9cea-0cfa9c5ed08c",
   "metadata": {},
   "source": [
    "### f)"
   ]
  },
  {
   "cell_type": "code",
   "execution_count": 27,
   "id": "71bf197b-f81e-461d-9b32-976c457a1c3f",
   "metadata": {},
   "outputs": [
    {
     "name": "stdin",
     "output_type": "stream",
     "text": [
      "Enter a letter or press ENTER to exit:  d\n"
     ]
    },
    {
     "name": "stdout",
     "output_type": "stream",
     "text": [
      "Names: Diana, Destiny, Delaney, Danielle, Daniela, Daisy\n"
     ]
    },
    {
     "name": "stdin",
     "output_type": "stream",
     "text": [
      "Enter a letter or press ENTER to exit:  s\n"
     ]
    },
    {
     "name": "stdout",
     "output_type": "stream",
     "text": [
      "Names: Sydney, Summer, Stephanie, Sophie, Sophia, Sofia, Skylar, Sierra, Shelby, Serenity, Savannah, Sarah, Sara, Samantha, Sadie, Sabrina\n"
     ]
    },
    {
     "name": "stdin",
     "output_type": "stream",
     "text": [
      "Enter a letter or press ENTER to exit:  f\n"
     ]
    },
    {
     "name": "stdout",
     "output_type": "stream",
     "text": [
      "Names: Faith\n"
     ]
    },
    {
     "name": "stdin",
     "output_type": "stream",
     "text": [
      "Enter a letter or press ENTER to exit:  r\n"
     ]
    },
    {
     "name": "stdout",
     "output_type": "stream",
     "text": [
      "Names: Rylee, Ruby, Riley, Rebecca, Reagan, Rachel\n"
     ]
    },
    {
     "name": "stdin",
     "output_type": "stream",
     "text": [
      "Enter a letter or press ENTER to exit:  e\n"
     ]
    },
    {
     "name": "stdout",
     "output_type": "stream",
     "text": [
      "Names: Evelyn, Eva, Erin, Erica, Emma, Emily, Ellie, Ella, Elizabeth\n"
     ]
    },
    {
     "name": "stdin",
     "output_type": "stream",
     "text": [
      "Enter a letter or press ENTER to exit:  \n"
     ]
    },
    {
     "name": "stdout",
     "output_type": "stream",
     "text": [
      "Program terminated.\n"
     ]
    }
   ],
   "source": [
    "while True:\n",
    "    entered_letter = input(\"Enter a letter or press ENTER to exit: \").strip().lower()\n",
    "\n",
    "    if not entered_letter:\n",
    "        print(\"Program terminated.\")\n",
    "        break\n",
    "\n",
    "    if len(entered_letter) > 1:\n",
    "        entered_letter = entered_letter[0]\n",
    "\n",
    "    if 'a' <= entered_letter <= 'z':\n",
    "        matching_names = sorted([name for name in girlsnames_file.girlsnames if name.startswith(entered_letter.capitalize())], reverse=True)\n",
    "\n",
    "        if matching_names:\n",
    "            print(\"Names: \" + ', '.join(matching_names))\n",
    "        else:\n",
    "            print(f\"No name starts with the letter '{entered_letter}'.\")\n",
    "    else:\n",
    "        print(f\"Entered letter '{entered_letter}' is not in the range, try again.\")"
   ]
  },
  {
   "cell_type": "markdown",
   "id": "7287ce18-2b78-45e9-a4f1-c9498fc559ab",
   "metadata": {},
   "source": [
    "## Q 03"
   ]
  },
  {
   "cell_type": "code",
   "execution_count": 28,
   "id": "a130b878-2ee9-4d67-8deb-ac080a72cd3e",
   "metadata": {},
   "outputs": [],
   "source": [
    "import stdsscores_file"
   ]
  },
  {
   "cell_type": "markdown",
   "id": "ead40276-edb8-44d8-bd02-137a25c6db87",
   "metadata": {},
   "source": [
    "### a)"
   ]
  },
  {
   "cell_type": "code",
   "execution_count": 29,
   "id": "9e020ff3-26a9-41dd-b06d-2da16310c26e",
   "metadata": {},
   "outputs": [
    {
     "name": "stdout",
     "output_type": "stream",
     "text": [
      "Number of students: 250\n"
     ]
    }
   ],
   "source": [
    "# Display the number of students in the list\n",
    "num_students = len(stdsscores_file.stdsscores)\n",
    "print(f\"Number of students: {num_students}\")"
   ]
  },
  {
   "cell_type": "markdown",
   "id": "d574a154-2f18-4909-af18-54fa15d759a3",
   "metadata": {},
   "source": [
    "### b)"
   ]
  },
  {
   "cell_type": "code",
   "execution_count": 30,
   "id": "baa948be-6635-4a4e-aa55-8408330ef326",
   "metadata": {},
   "outputs": [
    {
     "name": "stdout",
     "output_type": "stream",
     "text": [
      "Last 5 records from fscores:\n",
      "[246, 25.5, 48.4, 44.3]\n",
      "[247, 73, 31, 88.7]\n",
      "[248, 79.1, 65.3, 98.4]\n",
      "[249, 50.6, 65.7, 87]\n",
      "[250, 41.6, 68.5, 94.2]\n"
     ]
    }
   ],
   "source": [
    "# Create a copy of stdsscores list and display the last 5 records from fscores\n",
    "fscores = stdsscores_file.stdsscores.copy()\n",
    "print(\"Last 5 records from fscores:\")\n",
    "for value in fscores[-5:]:\n",
    "    print(value)"
   ]
  },
  {
   "cell_type": "markdown",
   "id": "f6f6990f-10c3-48a1-bbef-08f4a3f4329a",
   "metadata": {},
   "source": [
    "### c)"
   ]
  },
  {
   "cell_type": "code",
   "execution_count": 31,
   "id": "600ba422-0b91-480c-b908-9d71aa7245e5",
   "metadata": {},
   "outputs": [
    {
     "name": "stdout",
     "output_type": "stream",
     "text": [
      "\n",
      "First 5 records from fscores:\n",
      "[1, 59.4, 26.3, 81.8, 41.195, 2.5, 'E', 'Fail']\n",
      "[2, 65.9, 29.6, 100, 45.935, 2.9, 'E', 'Fail']\n",
      "[3, 70.7, 56.3, 70.5, 62.78, 2.7, 'E', 'Fail']\n",
      "[4, 27.5, 19.4, 36.7, 23.045, 1.2, 'E', 'Fail']\n",
      "[5, 45.2, 27.4, 96.4, 35.410000000000004, 2.6, 'E', 'Fail']\n"
     ]
    }
   ],
   "source": [
    "# Calculate CA, FM, Grade, and Remark for each student and update fscores\n",
    "for value in fscores:\n",
    "    sn, test1, test2, ue = value\n",
    "    ca = (test1 * 0.45) + (test2 * 0.55)\n",
    "    fm = (ca / 50) + (ue / 50)\n",
    "    grade = 'A' if fm >= 80 else 'B' if fm >= 70 else 'C' if fm >= 60 else 'D' if fm >= 50 else 'E'\n",
    "    remark = 'Pass' if grade != 'E' else 'Fail'\n",
    "    value.extend([ca, round(fm, 1), grade, remark])\n",
    "\n",
    "print(\"\\nFirst 5 records from fscores:\")\n",
    "for value in fscores[:5]:\n",
    "    print(value)"
   ]
  },
  {
   "cell_type": "markdown",
   "id": "6e226ac0-a33d-4155-b0ac-b050e5df5f88",
   "metadata": {},
   "source": [
    "### d)"
   ]
  },
  {
   "cell_type": "code",
   "execution_count": 33,
   "id": "ec95a6ad-fb41-4a7e-a845-a08841d76acc",
   "metadata": {},
   "outputs": [
    {
     "name": "stdout",
     "output_type": "stream",
     "text": [
      "\n",
      "Minimum\tMaximum\tAverage\n",
      "10.20\t99.80\t54.13\n",
      "10.30\t99.40\t54.96\n",
      "10.10\t100.00\t56.25\n",
      "11.65\t94.98\t54.59\n",
      "0.80\t3.70\t2.22\n"
     ]
    }
   ],
   "source": [
    "# Display minimum, maximum, and average for Test1, Test2, CA, UE, and FM\n",
    "columns = ['Test1', 'Test2', 'CA', 'UE', 'FM']\n",
    "print(\"\\nMinimum\\tMaximum\\tAverage\")\n",
    "for column in columns:\n",
    "    values = [value[columns.index(column) + 1] for value in fscores]\n",
    "    minimum = min(values)\n",
    "    maximum = max(values)\n",
    "    average = sum(values) / len(values)\n",
    "    print(f\"{minimum:.2f}\\t{maximum:.2f}\\t{average:.2f}\")"
   ]
  },
  {
   "cell_type": "markdown",
   "id": "390f44bf-115c-4a0b-8200-e19299d8714a",
   "metadata": {},
   "source": [
    "### e)"
   ]
  },
  {
   "cell_type": "code",
   "execution_count": 34,
   "id": "119afbca-9902-4d52-8228-c8aaca7cfa57",
   "metadata": {},
   "outputs": [
    {
     "name": "stdout",
     "output_type": "stream",
     "text": [
      "\n",
      "Student(s) with lowest FM: 41\n",
      "Student(s) with highest FM: 197\n"
     ]
    }
   ],
   "source": [
    "# Display student(s) with lowest and highest FM\n",
    "lowest_fm = min(fscores, key=lambda record: record[5])[0]\n",
    "highest_fm = max(fscores, key=lambda record: record[5])[0]\n",
    "print(f\"\\nStudent(s) with lowest FM: {lowest_fm}\")\n",
    "print(f\"Student(s) with highest FM: {highest_fm}\")"
   ]
  },
  {
   "cell_type": "markdown",
   "id": "435d5b55-21fc-4c5f-95b0-da3739e08848",
   "metadata": {},
   "source": [
    "### f)"
   ]
  },
  {
   "cell_type": "code",
   "execution_count": 35,
   "id": "558806e8-0bd9-49a7-b672-b8d78dffa061",
   "metadata": {},
   "outputs": [
    {
     "name": "stdout",
     "output_type": "stream",
     "text": [
      "\n",
      "Grades Summary:\n",
      "Fail: 250\n"
     ]
    }
   ],
   "source": [
    "# Create a dictionary gradesSummary\n",
    "grades_summary = {}\n",
    "for value in fscores:\n",
    "    grade = value[7]  # Grade is at index 7\n",
    "    if grade in grades_summary:\n",
    "        grades_summary[grade] += 1\n",
    "    else:\n",
    "        grades_summary[grade] = 1\n",
    "\n",
    "print(\"\\nGrades Summary:\")\n",
    "for grade, count in grades_summary.items():\n",
    "    print(f\"{grade}: {count}\")"
   ]
  },
  {
   "cell_type": "markdown",
   "id": "7e80abf1-2d1f-44ef-9af5-4743d51c4d28",
   "metadata": {},
   "source": [
    "### g)"
   ]
  },
  {
   "cell_type": "code",
   "execution_count": 38,
   "id": "9e2b4636-cda4-4b1b-8138-fba6d7d81c1f",
   "metadata": {},
   "outputs": [
    {
     "name": "stdout",
     "output_type": "stream",
     "text": [
      "\n",
      "Grade(s) with the lowest number of students are: Fail and number of students is: 250\n",
      "Grade(s) with the highest number of students are: Fail and number of students is: 250\n"
     ]
    }
   ],
   "source": [
    "# Display grade(s) with the highest and lowest number of students\n",
    "lowest_grade_count = min(grades_summary.values())\n",
    "highest_grade_count = max(grades_summary.values())\n",
    "lowest_grades = [grade for grade, count in grades_summary.items() if count == lowest_grade_count]\n",
    "highest_grades = [grade for grade, count in grades_summary.items() if count == highest_grade_count]\n",
    "\n",
    "print(f\"\\nGrade(s) with the lowest number of students are: {', '.join(lowest_grades)} and number of students is: {lowest_grade_count}\")\n",
    "print(f\"Grade(s) with the highest number of students are: {', '.join(highest_grades)} and number of students is: {highest_grade_count}\")"
   ]
  },
  {
   "cell_type": "markdown",
   "id": "75c9c620-d7df-4c68-bfc2-fc724f5ecf75",
   "metadata": {},
   "source": [
    "### h)"
   ]
  },
  {
   "cell_type": "code",
   "execution_count": 39,
   "id": "1337ca84-d2a7-41e7-9282-ce60c6bef4a2",
   "metadata": {},
   "outputs": [
    {
     "name": "stdin",
     "output_type": "stream",
     "text": [
      "\n",
      "Enter the serial number to search:  76\n"
     ]
    },
    {
     "name": "stdout",
     "output_type": "stream",
     "text": [
      "Record found: [76, 95.3, 76.9, 32.4, 85.18, 2.4, 'E', 'Fail']\n"
     ]
    }
   ],
   "source": [
    "# Display record of a student whose S/N is specified from the Keyboard\n",
    "sn_to_search = int(input(\"\\nEnter the serial number to search: \"))\n",
    "found = False\n",
    "for record in fscores:\n",
    "    if record[0] == sn_to_search:\n",
    "        print(f\"Record found: {record}\")\n",
    "        found = True\n",
    "        break\n",
    "\n",
    "if not found:\n",
    "    print(\"Wrong entry! Valid ranges are ... up to ..... try again.\")\n",
    "\n"
   ]
  },
  {
   "cell_type": "markdown",
   "id": "6652403f-35a5-4514-b8b5-59f5518649bb",
   "metadata": {},
   "source": [
    "### i)"
   ]
  },
  {
   "cell_type": "code",
   "execution_count": 40,
   "id": "6b4af5a2-bdc8-4516-bf1b-09b12c63b587",
   "metadata": {},
   "outputs": [
    {
     "name": "stdout",
     "output_type": "stream",
     "text": [
      "\n",
      "Last records from fscores after adding the new student:\n",
      "[247, 73, 31, 88.7, 49.900000000000006, 2.8, 'E', 'Fail']\n",
      "[248, 79.1, 65.3, 98.4, 71.50999999999999, 3.4, 'E', 'Fail']\n",
      "[249, 50.6, 65.7, 87, 58.905, 2.9, 'E', 'Fail']\n",
      "[250, 41.6, 68.5, 94.2, 56.39500000000001, 3.0, 'E', 'Fail']\n",
      "[77, 45.6, 76.4, 65.5]\n"
     ]
    }
   ],
   "source": [
    "# Add a new student record to fscores\n",
    "new_student = [sn_to_search + 1, 45.6, 76.4, 65.5]\n",
    "fscores.append(new_student)\n",
    "\n",
    "print(\"\\nLast records from fscores after adding the new student:\")\n",
    "for value in fscores[-5:]:\n",
    "    print(value)\n",
    "\n"
   ]
  },
  {
   "cell_type": "markdown",
   "id": "eb2730a8-4db5-4f52-bcec-d39c42ed4de6",
   "metadata": {},
   "source": [
    "### j)"
   ]
  },
  {
   "cell_type": "code",
   "execution_count": 44,
   "id": "4502d793-3aea-4cd3-8167-24acfe81c5bf",
   "metadata": {},
   "outputs": [
    {
     "ename": "IndexError",
     "evalue": "list index out of range",
     "output_type": "error",
     "traceback": [
      "\u001b[0;31m---------------------------------------------------------------------------\u001b[0m",
      "\u001b[0;31mIndexError\u001b[0m                                Traceback (most recent call last)",
      "Cell \u001b[0;32mIn[44], line 2\u001b[0m\n\u001b[1;32m      1\u001b[0m \u001b[38;5;66;03m# Display the top 5 students based on FM\u001b[39;00m\n\u001b[0;32m----> 2\u001b[0m fm_dict \u001b[38;5;241m=\u001b[39m {value[\u001b[38;5;241m0\u001b[39m]: value[\u001b[38;5;241m5\u001b[39m] \u001b[38;5;28;01mfor\u001b[39;00m value \u001b[38;5;129;01min\u001b[39;00m fscores}\n\u001b[1;32m      3\u001b[0m \u001b[38;5;28mprint\u001b[39m(\u001b[38;5;124m\"\u001b[39m\u001b[38;5;124mfm_dict:\u001b[39m\u001b[38;5;124m\"\u001b[39m, fm_dict)\n\u001b[1;32m      5\u001b[0m fm_list_2d \u001b[38;5;241m=\u001b[39m [[fm, sn] \u001b[38;5;28;01mfor\u001b[39;00m sn, fm \u001b[38;5;129;01min\u001b[39;00m fm_dict\u001b[38;5;241m.\u001b[39mitems()]\n",
      "Cell \u001b[0;32mIn[44], line 2\u001b[0m, in \u001b[0;36m<dictcomp>\u001b[0;34m(.0)\u001b[0m\n\u001b[1;32m      1\u001b[0m \u001b[38;5;66;03m# Display the top 5 students based on FM\u001b[39;00m\n\u001b[0;32m----> 2\u001b[0m fm_dict \u001b[38;5;241m=\u001b[39m {value[\u001b[38;5;241m0\u001b[39m]: value[\u001b[38;5;241m5\u001b[39m] \u001b[38;5;28;01mfor\u001b[39;00m value \u001b[38;5;129;01min\u001b[39;00m fscores}\n\u001b[1;32m      3\u001b[0m \u001b[38;5;28mprint\u001b[39m(\u001b[38;5;124m\"\u001b[39m\u001b[38;5;124mfm_dict:\u001b[39m\u001b[38;5;124m\"\u001b[39m, fm_dict)\n\u001b[1;32m      5\u001b[0m fm_list_2d \u001b[38;5;241m=\u001b[39m [[fm, sn] \u001b[38;5;28;01mfor\u001b[39;00m sn, fm \u001b[38;5;129;01min\u001b[39;00m fm_dict\u001b[38;5;241m.\u001b[39mitems()]\n",
      "\u001b[0;31mIndexError\u001b[0m: list index out of range"
     ]
    }
   ],
   "source": [
    "# Display the top 5 students based on FM\n",
    "fm_dict = {value[0]: value[5] for value in fscores}\n",
    "print(\"fm_dict:\", fm_dict)\n",
    "\n",
    "fm_list_2d = [[fm, sn] for sn, fm in fm_dict.items()]\n",
    "print(\"fm_list_2d:\", fm_list_2d)\n",
    "\n",
    "# Print the contents of fscores to understand its structure\n",
    "print(\"Contents of fscores:\")\n",
    "for record in fscores:\n",
    "    print(record)\n",
    "\n",
    "fm_list_2d_sorted = sorted(fm_list_2d, reverse=True)\n",
    "print(\"fm_list_2d_sorted:\", fm_list_2d_sorted)\n",
    "\n",
    "print(\"\\nTop 5 students based on FM:\")\n",
    "for fm, sn in fm_list_2d_sorted[:5]:\n",
    "    print(f\"SN {sn} FM {fm:.1f}\")"
   ]
  },
  {
   "cell_type": "code",
   "execution_count": null,
   "id": "fab6c672-33fc-4746-a4b2-d39c09a5395d",
   "metadata": {},
   "outputs": [],
   "source": []
  }
 ],
 "metadata": {
  "kernelspec": {
   "display_name": "Python 3 (ipykernel)",
   "language": "python",
   "name": "python3"
  },
  "language_info": {
   "codemirror_mode": {
    "name": "ipython",
    "version": 3
   },
   "file_extension": ".py",
   "mimetype": "text/x-python",
   "name": "python",
   "nbconvert_exporter": "python",
   "pygments_lexer": "ipython3",
   "version": "3.11.3"
  }
 },
 "nbformat": 4,
 "nbformat_minor": 5
}
