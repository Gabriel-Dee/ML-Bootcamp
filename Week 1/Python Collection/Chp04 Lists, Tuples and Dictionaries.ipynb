{
 "cells": [
  {
   "cell_type": "markdown",
   "metadata": {},
   "source": [
    "## Chapter 04 Lists, Tuples and Dictionaries"
   ]
  },
  {
   "cell_type": "markdown",
   "metadata": {},
   "source": [
    "# <span style=\"color:blue\">**Lists (Chapter 4A)**</span>"
   ]
  },
  {
   "cell_type": "markdown",
   "metadata": {},
   "source": [
    "#### chp04Aex01Lists01"
   ]
  },
  {
   "cell_type": "code",
   "execution_count": null,
   "metadata": {},
   "outputs": [],
   "source": [
    "names=[\"Kimario\",\"Asha\",\"George\", \"Hamisi\"]\n",
    "print(names)\n",
    "print(type(names))"
   ]
  },
  {
   "cell_type": "markdown",
   "metadata": {},
   "source": [
    "#### chp04Aex02List02"
   ]
  },
  {
   "cell_type": "code",
   "execution_count": null,
   "metadata": {},
   "outputs": [],
   "source": [
    "#create new list using list constructor\n",
    "#Note: Can use () or [] in enclosing the items\n",
    "#countries=list((\"Tanzania\",\"Kenya\",\"Uganda\",\"Rwanda\",\"Burundi\",\"Somalia\"))\n",
    "countries=list([\"Tanzania\",\"Kenya\",\"Uganda\",\"Rwanda\",\"Burundi\",\"Somalia\"])\n",
    "print(countries)\n",
    "print(type(countries))"
   ]
  },
  {
   "cell_type": "markdown",
   "metadata": {},
   "source": [
    "#### chp04Aex03Lists03"
   ]
  },
  {
   "cell_type": "code",
   "execution_count": null,
   "metadata": {},
   "outputs": [],
   "source": [
    "names=[\"Kimario\",\"Asha\",\"George\", \"Hamisi\"]\n",
    "print(f\"names are: {names}\")\n",
    "print(f\"First item is {names[0]}\")       # Kimario\n",
    "print(f\"The fourth item is {names[3]}\") # Hamis\n",
    "print(f\"Number of items in the list is {len(names)}\")\n",
    "#Display the first 3 items\n",
    "print(f\"First 3 names are: {names[0:3]}\")"
   ]
  },
  {
   "cell_type": "code",
   "execution_count": null,
   "metadata": {},
   "outputs": [],
   "source": [
    "#change the 3rd name to Tumaini\n",
    "names=[\"Kimario\",\"Asha\",\"George\", \"Hamisi\"]\n",
    "print(\"=== change the 3rd name to Tumaini ===\")\n",
    "names[2]=\"Tumaini\"\n",
    "print(names)"
   ]
  },
  {
   "cell_type": "code",
   "execution_count": null,
   "metadata": {},
   "outputs": [],
   "source": [
    "#loop through a list\n",
    "names=[\"Kimario\",\"Asha\",\"George\", \"Hamisi\"]\n",
    "print(\"=== Looping through a list ===\")\n",
    "for name in names:\n",
    "    print(name)"
   ]
  },
  {
   "cell_type": "code",
   "execution_count": null,
   "metadata": {},
   "outputs": [],
   "source": [
    "#can also use while loop\n",
    "names=[\"Kimario\",\"Asha\",\"George\", \"Hamisi\"]\n",
    "index=0\n",
    "while index <len(names):\n",
    "    print(names[index])\n",
    "    index +=1"
   ]
  },
  {
   "cell_type": "markdown",
   "metadata": {},
   "source": [
    "## List methods"
   ]
  },
  {
   "cell_type": "markdown",
   "metadata": {},
   "source": [
    "#### chp04Aex04indexMethod"
   ]
  },
  {
   "cell_type": "code",
   "execution_count": null,
   "metadata": {},
   "outputs": [],
   "source": [
    "#index method\n",
    "names=[\"Kimario\",\"Asha\",\"George\", \"Hamisi\"]\n",
    "print(\"===Check index of entered name if exists in the list===\")\n",
    "name=input(\"Enter name to search: \")\n",
    "if name in names:\n",
    "    pos=names.index(name)\n",
    "    print(f\"{name} is at index {pos}\")\n",
    "else:\n",
    "    print(f\"{name} does not exist in the list\")"
   ]
  },
  {
   "cell_type": "markdown",
   "metadata": {},
   "source": [
    "#### chp04Aex05insertMethod"
   ]
  },
  {
   "cell_type": "code",
   "execution_count": null,
   "metadata": {},
   "outputs": [],
   "source": [
    "#insert method\n",
    "names=[\"Kimario\",\"Asha\",\"George\", \"Hamisi\"]\n",
    "print(f\"Names before inserting new name:\\n {names}\")\n",
    "newName=input(\"Enter name to insert: \") \n",
    "pos=int(input(\"Enter position to insert 0-\"+str(len(names))+\" \"))\n",
    "names.insert(pos,newName) \n",
    "print(\"Names after inserting new name\")\n",
    "print(names)"
   ]
  },
  {
   "cell_type": "code",
   "execution_count": null,
   "metadata": {},
   "outputs": [],
   "source": [
    "#check if the item exists before inserting\n",
    "#add Bernard at second position\n",
    "names=[\"Kimario\",\"Asha\",\"George\", \"Hamisi\"]\n",
    "print(f\"Original list is: {names}\")\n",
    "print(\"\\n=== Inserting a new List member who does not exist ===\")\n",
    "newName=input(\"Enter new name to insert: \")\n",
    "#check if the newName exists in the list\n",
    "if newName in names:\n",
    "    print(f\"{newName} exists in the list\")\n",
    "else:\n",
    "    pos=int(input(\"Enter position to insert 0-\"+str(len(names))+\" \"))\n",
    "    names.insert(pos,newName)  # insert at the end\n",
    "    print(names)"
   ]
  },
  {
   "cell_type": "markdown",
   "metadata": {},
   "source": [
    "#### chp04Aex06extendMethod"
   ]
  },
  {
   "cell_type": "code",
   "execution_count": null,
   "metadata": {},
   "outputs": [],
   "source": [
    "names1=[\"Kimario\", \"Hamis\", \"George\"]\n",
    "names2=[\"Salome\", \"Zaina\"]\n",
    "names1.extend(names2)  \n",
    "#alternatively: \n",
    "#names1=names1+names2\n",
    "print(f\"Extended list is:\\n {names1} \")"
   ]
  },
  {
   "cell_type": "markdown",
   "metadata": {},
   "source": [
    "#### chp04Aex07AppendMethod"
   ]
  },
  {
   "cell_type": "code",
   "execution_count": null,
   "metadata": {},
   "outputs": [],
   "source": [
    "names=[]  # empty list\n",
    "numItems=int(input(\"How many items to add: \"))\n",
    "for index in range(numItems):\n",
    "    name=input(\"Enter name \"+str(index+1)+\": \")\n",
    "    names.append(name)\n",
    "    #names.extend([name])  # note use of []\n",
    "\n",
    "#display the created list\n",
    "print(\"\\nEntered names are:\")\n",
    "print(names)"
   ]
  },
  {
   "cell_type": "markdown",
   "metadata": {},
   "source": [
    "#### chp04Aex08removeMethod"
   ]
  },
  {
   "cell_type": "code",
   "execution_count": null,
   "metadata": {},
   "outputs": [],
   "source": [
    "#Different ways to remove from the list using\n",
    "names=['Kimario', 'Bernard', 'Tumaini', 'George', 'Hamisi', 'Zawadi']\n",
    "print(names)\n",
    "# Remove item from the list. Check first if exists\n",
    "name=input(\"Enter name to remove: \")\n",
    "if name in names:\n",
    "    names.remove(name)\n",
    "    print(f\"{name} has been removed from the list\")\n",
    "else:\n",
    "    print(f\"{name} does not exists in the list\")\n",
    "print(names)"
   ]
  },
  {
   "cell_type": "code",
   "execution_count": 3,
   "metadata": {},
   "outputs": [
    {
     "name": "stdout",
     "output_type": "stream",
     "text": [
      "===Remove the last index using pop===\n",
      "['Kimario', 'Bernard', 'Tumaini', 'George', 'Hamisi']\n",
      "=== Remove the first index using pop===\n",
      "['Bernard', 'Tumaini', 'George', 'Hamisi']\n",
      "Popped item is: Tumaini\n",
      "['Bernard', 'George', 'Hamisi']\n"
     ]
    }
   ],
   "source": [
    "#pop method\n",
    "names=['Kimario', 'Bernard', 'Tumaini', 'George', 'Hamisi', 'Zawadi']\n",
    "print(\"===Remove the last index using pop===\")\n",
    "names.pop()\n",
    "print(names)\n",
    "print(\"=== Remove the first index using pop===\")\n",
    "names.pop(0)\n",
    "print(names)\n",
    "poppedItem=names.pop(1)\n",
    "print(f\"Popped item is: {poppedItem}\")\n",
    "print(names)"
   ]
  },
  {
   "cell_type": "code",
   "execution_count": null,
   "metadata": {},
   "outputs": [],
   "source": [
    "#using del statement\n",
    "names=['Kimario', 'Bernard', 'Tumaini', 'George', 'Hamisi', 'Zawadi']\n",
    "print(\"=== Remove the first index using del===\")\n",
    "del names[0]\n",
    "print(f\"Results after del names[0]\\n {names}\")\n",
    "del names[0:2] # can also use slicing\n",
    "print(f\"Results after del names[0:2]\\n {names}\")"
   ]
  },
  {
   "cell_type": "code",
   "execution_count": null,
   "metadata": {},
   "outputs": [],
   "source": [
    "#clear method\n",
    "names=['Kimario', 'Bernard', 'Tumaini', 'George', 'Hamisi', 'Zawadi']\n",
    "print(\"=== clear the list===\")\n",
    "names.clear()\n",
    "print(f\"Results after names.clear()\\n {names}\")"
   ]
  },
  {
   "cell_type": "markdown",
   "metadata": {},
   "source": [
    "#### chp04Aex09reverseMethod"
   ]
  },
  {
   "cell_type": "code",
   "execution_count": null,
   "metadata": {},
   "outputs": [],
   "source": [
    "# Reverse method\n",
    "names=['Hamis', 'George', 'Asha', 'Kimario']\n",
    "print(f\"Original list:\\n {names}\")\n",
    "print(\"Reversed order: \")\n",
    "names.reverse()  # reverse the order\n",
    "print(names)"
   ]
  },
  {
   "cell_type": "markdown",
   "metadata": {},
   "source": [
    "#### chp04Aex10sortMethod"
   ]
  },
  {
   "cell_type": "code",
   "execution_count": null,
   "metadata": {},
   "outputs": [],
   "source": [
    "names=['Hamis', 'George', 'Asha', 'Kimario']\n",
    "print(\"Original list: \")\n",
    "print(names)\n",
    "#sort in ascending order\n",
    "print(\"List Sorted in ascending order: \")\n",
    "names.sort()\n",
    "print(names)\n",
    "\n",
    "#sort in descending order\n",
    "names=['Hamis', 'George', 'Asha', 'Kimario']\n",
    "print(\"Original list: \")\n",
    "print(names)\n",
    "print(\"List Sorted in descending order: \")\n",
    "names.sort(reverse=True)\n",
    "print(names)"
   ]
  },
  {
   "cell_type": "markdown",
   "metadata": {},
   "source": [
    "#### chp04Aex11sortedFunction"
   ]
  },
  {
   "cell_type": "code",
   "execution_count": null,
   "metadata": {},
   "outputs": [],
   "source": [
    "#sorted function\n",
    "names=['Hamis', 'George', 'Asha', 'Kimario']\n",
    "print(f\"Original list: \\n {names} \")\n",
    "#assign to variables sorted in ascending and descending\n",
    "lstAscending=sorted(names)\n",
    "lstDescending=sorted(names,reverse=True)\n",
    "print(f\"\\nList Sorted in ascending order:\\n {lstAscending} \")\n",
    "print(f\"\\nList Sorted in descending order:\\n {lstDescending} \")\n",
    "print(f\"\\nOriginal list is not affected\\n {names}\")"
   ]
  },
  {
   "cell_type": "code",
   "execution_count": null,
   "metadata": {},
   "outputs": [],
   "source": [
    "#Methods which returns None\n",
    "t = ['d', 'c', 'e', 'b', 'a'] \n",
    "print(f\"t= {t}\") \n",
    "t.sort()\n",
    "print(f\"t after sort in ascending= {t}\") \n",
    "t=t.sort()\n",
    "print(f\"Results of 't=t.sort()'is {t}\")     #results in None"
   ]
  },
  {
   "cell_type": "markdown",
   "metadata": {},
   "source": [
    "#### chp04Aex12copyMethod"
   ]
  },
  {
   "cell_type": "code",
   "execution_count": null,
   "metadata": {},
   "outputs": [],
   "source": [
    "names1=[\"Kimario\", \"Hamis\", \"George\"]\n",
    "names2=names1.copy()\n",
    "#alternatively:\n",
    "#names2=names1[:]\n",
    "#names2=list(names1)\n",
    "#names2=names1 + []\n",
    "print(f\"names1 list: {names1}\")\n",
    "print(f\"\\nnames2 list: {names2}\")"
   ]
  },
  {
   "cell_type": "code",
   "execution_count": null,
   "metadata": {},
   "outputs": [],
   "source": [
    "#do not use names2=names1!\n",
    "names1=[\"Kimario\", \"Hamis\", \"George\"]\n",
    "names2=names1\n",
    "print(names1)\n",
    "print(names2)\n",
    "print(id(names1))\n",
    "print(id(names2))  # all have same ids\n",
    "names1.sort() # this will affect both names1 and names2!\n",
    "print(\"===========\")\n",
    "print(names1)\n",
    "print(names2)\n"
   ]
  },
  {
   "cell_type": "markdown",
   "metadata": {},
   "source": [
    "#### chp04Aex13max_min_sumMethods"
   ]
  },
  {
   "cell_type": "code",
   "execution_count": null,
   "metadata": {},
   "outputs": [],
   "source": [
    "numbers=[56, 45.5, 65, 12.5, 99.5, 34.5]\n",
    "print(f\"Numbers are: {numbers}\")\n",
    "print(f\"sum(numbers): {sum(numbers)}\")    #313.0\n",
    "print(f\"min(numbers): {min(numbers)}\")    #12.5\n",
    "print(f\"max(numbers): {max(numbers)}\")    #99.5\n",
    "print(f\"Average of numbers {sum(numbers)/len(numbers):.2f}\") #52.17"
   ]
  },
  {
   "cell_type": "code",
   "execution_count": null,
   "metadata": {},
   "outputs": [],
   "source": [
    "#min and max for string elements in a list\n",
    "names=[\"Juma\",\"Asha\",\"Kulwa\",\"Zakayo\"]\n",
    "print(min(names))  # 'Asha‘\n",
    "print(max(names))  # 'Zakayo"
   ]
  },
  {
   "cell_type": "markdown",
   "metadata": {},
   "source": [
    "#### chp04Aex14mean_stdev_statisticsModule"
   ]
  },
  {
   "cell_type": "code",
   "execution_count": null,
   "metadata": {},
   "outputs": [],
   "source": [
    "# Finding average and stdev using statistics module\n",
    "import statistics\n",
    "numbers=[56, 45.5, 65, 12.5, 99.5, 34.5]\n",
    "print(f\"Average of numbers {statistics.mean(numbers):.2f}\") #52.17\n",
    "#standard deviation of sample data\n",
    "print(f\"Std. dev of numbers {statistics.stdev(numbers):.2f}\") #29.50"
   ]
  },
  {
   "cell_type": "markdown",
   "metadata": {},
   "source": [
    "#### chp04Aex15countMethod"
   ]
  },
  {
   "cell_type": "code",
   "execution_count": null,
   "metadata": {},
   "outputs": [],
   "source": [
    "numbers=[1,3,2,5,6,7,2,3,6]\n",
    "print(f\"numbers.count(3)):{numbers.count(3)}\")    # 2 occurrences\n",
    "print(f\"numbers.count(6)):{numbers.count(6)}\")    # 2 occurrences\n",
    "print(f\"numbers.count(7)):{numbers.count(7)}\")    # 1 occurence\n",
    "print(f\"numbers.count(12)):{numbers.count(12)}\")  # 0 occurence"
   ]
  },
  {
   "cell_type": "markdown",
   "metadata": {},
   "source": [
    "#### chp04Aex16enumerateFunction"
   ]
  },
  {
   "cell_type": "code",
   "execution_count": null,
   "metadata": {},
   "outputs": [],
   "source": [
    "countries=[\"Tanzania\", \"Kenya\", \"Uganda\", \"Burundi\"]\n",
    "\n",
    "#using range\n",
    "print(\"Index  Country Name\")\n",
    "for index in range(len(countries)):\n",
    "    print(f\"{index:<7} {countries[index]}\")\n",
    "\n",
    "print(\"\\nUsing enumerate function\")\n",
    "print(f\"\\nlist(enumerate(countries)):\\n {list(enumerate(countries))}\")\n",
    "\n",
    "print(\"\\nUsing enumerate function in a loop\")\n",
    "for index,value in enumerate(countries):\n",
    "    print(f\"{index:<7} {value}\")"
   ]
  },
  {
   "cell_type": "markdown",
   "metadata": {},
   "source": [
    "#### chp04Aex17concatenateLists"
   ]
  },
  {
   "cell_type": "code",
   "execution_count": null,
   "metadata": {},
   "outputs": [],
   "source": [
    "numbers=[]  # integer numbers list\n",
    "while True:\n",
    "    num=input(\"Enter number \" + str(len(numbers) + 1) +\n",
    "\" (Or enter nothing to stop.):\")\n",
    "    if num == \"\":      #Sentinel to stop inputs\n",
    "        break\n",
    "    numbers += [int(num)] # list concatenation\n",
    "print(\"Entered numbers are\")\n",
    "for num in numbers:\n",
    "    print(num)\n",
    "\n",
    "print(f\"List elements are: {numbers}\")"
   ]
  },
  {
   "cell_type": "markdown",
   "metadata": {},
   "source": [
    "#### chp04Aex18SliceList"
   ]
  },
  {
   "cell_type": "code",
   "execution_count": null,
   "metadata": {},
   "outputs": [],
   "source": [
    "letters = ['a', 'b', 'c', 'd', 'e', 'f', 'g']\n",
    "print(letters)\n",
    "#['a', 'b', 'c', 'd', 'e', 'f', 'g']\n",
    "# replace some values\n",
    "letters[2:5] = ['C', 'D', 'E']\n",
    "print(letters)# ['a', 'b', 'C', 'D', 'E', 'f', 'g']\n",
    "# now remove them\n",
    "letters[2:5] = []\n",
    "print(letters)    #['a', 'b', 'f', 'g']\n",
    "# clear the list by replacing all\n",
    "#the elements with an empty list\n",
    "letters[:] = []\n",
    "print(letters)"
   ]
  },
  {
   "cell_type": "code",
   "execution_count": null,
   "metadata": {},
   "outputs": [],
   "source": [
    "# * operator\n",
    "numbers = [1, 2, 3]\n",
    "print(f\"numbers*2: {numbers*2}\") "
   ]
  },
  {
   "cell_type": "markdown",
   "metadata": {},
   "source": [
    "#### chp04Aex19ListUnpacking"
   ]
  },
  {
   "cell_type": "code",
   "execution_count": null,
   "metadata": {},
   "outputs": [],
   "source": [
    "numbers = [1, 2, 3, 4, 5]\n",
    "x,y,*z=numbers\n",
    "print(f\"x= {x}\") #1\n",
    "print(f\"y= {y}\")  #2\n",
    "print(f\"z= {z}\") #[3,4,5]\n"
   ]
  },
  {
   "cell_type": "markdown",
   "metadata": {},
   "source": [
    "#### chp04Aex20Mutability"
   ]
  },
  {
   "cell_type": "code",
   "execution_count": null,
   "metadata": {},
   "outputs": [],
   "source": [
    "#numbers\n",
    "print(\"Integers processing\")\n",
    "a=1; b=a\n",
    "print(f\"a={a} b={b}\")\n",
    "print(f\"id(a)= {id(a)} id(b)= {id(b)}\") #same ids\n",
    "a=a+1\n",
    "print(\"a=a+1\")\n",
    "print(f\"id(a)= {id(a)} id(b)= {id(b)}\") # different ids\n",
    "print(f\"a= {a} b= {b}\")  # a=2 b=1      # different values\n"
   ]
  },
  {
   "cell_type": "code",
   "execution_count": null,
   "metadata": {},
   "outputs": [],
   "source": [
    "print(\"\\nStrings processing\")\n",
    "str1=\"Jumanne\"\n",
    "str2=str1\n",
    "print(f\"str1={str1} str2={str2}\")\n",
    "print(f\"id(str1)= {id(str1)} id(str2)= {id(str2)}\") #same ids\n",
    "str1=str1+\" George\"\n",
    "print('str1+\"George\"')\n",
    "print(f\"id(str1)= {id(str1)} id(str2)= {id(str2)}\") #differnt ids\n",
    "print(f\" str1={str1} str2={str2}\")    # str1=\"Jumanne George\"\n",
    "                                      # str2= \"Jumanne\""
   ]
  },
  {
   "cell_type": "code",
   "execution_count": null,
   "metadata": {},
   "outputs": [],
   "source": [
    "print(\"\\nLists processing\")\n",
    "c=[1,2,3]\n",
    "d=c\n",
    "print(f\"c={c} d={d}\")   #same values\n",
    "print(f\"id(c)= {id(c)} id(d)= {id(d)}\") #same ids\n",
    "c.extend([7])\n",
    "print(\"c.extend([7])\")\n",
    "print(f\"c= {c} d= {d}\")   # c=[1, 2, 3, 7]  d=[1, 2, 3, 7]\n",
    "print(\"after changing\")\n",
    "print(f\"id(c)= {id(c)} id(d)= {id(d)}\") # same ids"
   ]
  },
  {
   "cell_type": "code",
   "execution_count": null,
   "metadata": {},
   "outputs": [],
   "source": [
    "#using copy\n",
    "print(\"\\nUsing a copy\")\n",
    "e=[1,2,3]\n",
    "f=e.copy()  # b=a[:]  \n",
    "print(f\"e={e} f={f}\")   #same ids\n",
    "print(f\"id(e)= {id(e)} id(f)= {id(f)}\") #different ids\n",
    "\n",
    "e.extend([7])\n",
    "print(\"e.extend([7])\")\n",
    "print(f\"id(e)= {id(e)} id(f)= {id(f)}\") # ids maintained\n",
    "print(f\"e= {e}\")   # e= [1, 2, 3, 7]\n",
    "print(f\"f= {f}\")   # f= [1, 2, 3]"
   ]
  },
  {
   "cell_type": "markdown",
   "metadata": {},
   "source": [
    "#### chp04Aex21strSplitFunction"
   ]
  },
  {
   "cell_type": "code",
   "execution_count": null,
   "metadata": {},
   "outputs": [],
   "source": [
    "date1 = \"20/11/2021\"\n",
    "splittedDate=date1.split(\"/\")\n",
    "print(type(splittedDate))    #<class 'list'>\n",
    "print(\"splittedDate:\",splittedDate)\n",
    "print(\"Day is: \",splittedDate[0])\n",
    "print(\"Month is: \",splittedDate[1])\n",
    "print(\"Year is :\",splittedDate[2])"
   ]
  },
  {
   "cell_type": "code",
   "execution_count": 8,
   "metadata": {},
   "outputs": [
    {
     "name": "stdout",
     "output_type": "stream",
     "text": [
      "Enter values: 34 56 78 98 43\n",
      "valuesStr: 34 56 78 98 43\n",
      "valuesList: ['34', '56', '78', '98', '43']\n",
      "valuesListNums: [34, 56, 78, 98, 43]\n"
     ]
    }
   ],
   "source": [
    "valuesStr=input('Enter values: ')\n",
    "print(f\"valuesStr: {valuesStr}\")\n",
    "valuesList=valuesStr.split()\n",
    "print(f\"valuesList: {valuesList}\")\n",
    "valuesListNums=[] # numerical values\n",
    "for i in range(len(valuesList)):\n",
    "    valuesListNums.append(int(valuesList[i]))\n",
    "print(f\"valuesListNums: {valuesListNums}\")"
   ]
  },
  {
   "cell_type": "markdown",
   "metadata": {},
   "source": [
    "#### chp04Aex22strJoinFunction"
   ]
  },
  {
   "cell_type": "code",
   "execution_count": null,
   "metadata": {},
   "outputs": [],
   "source": [
    "date1 = \"20/11/2021\"\n",
    "splittedDate=date1.split(\"/\")\n",
    "print(\"splittedDate is: \",splittedDate)\n",
    "print(\"type of splittedDate is: \", type(splittedDate))\n",
    "date2=\"/\".join(splittedDate)\n",
    "print(\"type of date2 is: \", type(date2))\n",
    "print(f\"date1 is: {date1} date2 is:{date2} \")"
   ]
  },
  {
   "cell_type": "markdown",
   "metadata": {},
   "source": [
    "#### chp04Aex23Keywords"
   ]
  },
  {
   "cell_type": "code",
   "execution_count": null,
   "metadata": {},
   "outputs": [],
   "source": [
    "import keyword, platform  # platform used to determine python version\n",
    "kwords=keyword.kwlist\n",
    "print(f\"type(kwords): {type(kwords)} \\n\")\n",
    "print(f\"keywords in Python {platform.python_version()} are:\\n {kwords}\",)\n",
    "print(f\"\\nThere are {len(kwords)} keywords\")"
   ]
  },
  {
   "cell_type": "markdown",
   "metadata": {},
   "source": [
    "#### chp04Aex24_2DLists01"
   ]
  },
  {
   "cell_type": "code",
   "execution_count": null,
   "metadata": {},
   "outputs": [],
   "source": [
    "#Regions and their capitals without using indices\n",
    "regions=[ ['Ruvuma','Songea'],\n",
    "          ['Kilimanjaro','Moshi'],\n",
    "          ['Mara','Musoma'],\n",
    "         ['Mwanza','Mwanza']]\n",
    "print(regions)\n",
    "print()\n",
    "for region in regions:\n",
    "    print(region)\n",
    "print()\n",
    "\n",
    "print(f'{\"Region\":13}{\"Capital\":13}')\n",
    "print(f'{\"-\"*20}')\n",
    "for regionName,regionCapital in regions:\n",
    "    print(f'{regionName:13}{regionCapital:13}')"
   ]
  },
  {
   "cell_type": "markdown",
   "metadata": {},
   "source": [
    "#### chp04Aex25_2DLists02"
   ]
  },
  {
   "cell_type": "code",
   "execution_count": null,
   "metadata": {},
   "outputs": [],
   "source": [
    "#Regions and their capitals using indices\n",
    "regions=[ ['Ruvuma','Songea'],\n",
    "          ['Kilimanjaro','Moshi'],\n",
    "          ['Mara','Musoma'],\n",
    "         ['Mwanza','Mwanza']]\n",
    "print(regions)\n",
    "print(f'\\nregions[0]info= {regions[0]}')\n",
    "print(f'\\nregions[1] info= {regions[1]}')\n",
    "print(f'\\nregions[2] info= {regions[2]}')\n",
    "print(f'\\nName for Region 1= {regions[0][0]}')\n",
    "print(f'Name for capital of Region 1= {regions[0][1]}')\n",
    "print(f'\\nName for Region 2= {regions[1][0]}')\n",
    "print(f'Name for capital of Region 2= {regions[1][1]}')"
   ]
  },
  {
   "cell_type": "markdown",
   "metadata": {},
   "source": [
    "#### chp04Aex26_2DLists03"
   ]
  },
  {
   "cell_type": "code",
   "execution_count": null,
   "metadata": {},
   "outputs": [],
   "source": [
    "##Regions and their capitals using loops\n",
    "regions=[ ['Ruvuma','Songea'],\n",
    "          ['Kilimanjaro','Moshi'],\n",
    "          ['Mara','Musoma'],\n",
    "         ['Mwanza','Mwanza']]\n",
    "nrows=len(regions)\n",
    "ncolumns=len(regions[0])\n",
    "print(f'num of rows = {nrows} \\nnum of columns={ncolumns}')\n",
    "print(f'{\"Region\":13}{\"Capital\":13}')\n",
    "print(f'{\"-\"*20}')\n",
    "# using nested loops to display the regions and their capitals\n",
    "for row in range(nrows):\n",
    "    for column in range(ncolumns):\n",
    "        print(f'{regions[row][column]:13}',end=\"\")\n",
    "    print()\n",
    "    "
   ]
  },
  {
   "cell_type": "markdown",
   "metadata": {},
   "source": [
    "# <span style=\"color:blue\">**Tuples (Chapter 4B)**</span>"
   ]
  },
  {
   "cell_type": "code",
   "execution_count": null,
   "metadata": {},
   "outputs": [],
   "source": []
  },
  {
   "cell_type": "markdown",
   "metadata": {},
   "source": [
    "#### chp04Bex01NewTuple"
   ]
  },
  {
   "cell_type": "code",
   "execution_count": null,
   "metadata": {},
   "outputs": [],
   "source": [
    "#create new Tuple using tuple constructor\n",
    "#Note the use of () or [] enclosing the items\n",
    "#countries=tuple((\"Tanzania\",\"Kenya\",\"Uganda\",\"Rwanda\",\"Burundi\",\"Somalia\"))\n",
    "countries=tuple([\"Tanzania\",\"Kenya\",\"Uganda\",\"Rwanda\",\"Burundi\",\"Somalia\"])\n",
    "print(countries)\n",
    "\n",
    "for country in countries:  #pthonic way\n",
    "    print(country) \n",
    "print()\n",
    "\n",
    "print(\"\\nAlternatively\")\n",
    "for index in range(0,len(countries)):\n",
    "    print(countries[index])"
   ]
  },
  {
   "cell_type": "markdown",
   "metadata": {},
   "source": [
    "#### chp04Bex02TupleConcat"
   ]
  },
  {
   "cell_type": "code",
   "execution_count": null,
   "metadata": {},
   "outputs": [],
   "source": [
    "tuple1=(12,34,56)\n",
    "print(f'id(tuple1): {id(tuple1)}')  #2293166791744\n",
    "tuple2=(78,65,23)\n",
    "tuple1=tuple1+tuple2 \n",
    "print(f'tuple1=tuple1+tuple2: {tuple1}' ) #(12, 34, 56, 78, 65, 23)\n",
    "print(f'id(tuple1) after concatenation): {id(tuple1)}')  #1738628681544"
   ]
  },
  {
   "cell_type": "markdown",
   "metadata": {},
   "source": [
    "#### chp04Bex03Mutability"
   ]
  },
  {
   "cell_type": "code",
   "execution_count": null,
   "metadata": {},
   "outputs": [],
   "source": [
    "a=(1,); b=a\n",
    "print(f'a= {a}')  #a= (1,)\n",
    "print(f'b= {b}')  #b= (1,)\n",
    "print(f'id(a)= {id(a)}')  #id(a)= .........\n",
    "print(f'id(b)= {id(b)}')  #id(b)= ......... #points to same\n",
    "a=a+(1,)\n",
    "print(f'a= {a}')     # a= (1, 1)\n",
    "print(f'a= {b}')   # b= (1,)\n",
    "print(f'id(a)= {id(a)}')   #id(a)= ........ # new address\n",
    "print(f'id(a)= {id(b)}')   #id(b)= ........ # old address"
   ]
  },
  {
   "cell_type": "markdown",
   "metadata": {},
   "source": [
    "#### chp04Bex04Conversion"
   ]
  },
  {
   "cell_type": "code",
   "execution_count": null,
   "metadata": {},
   "outputs": [],
   "source": [
    "numberTuple = (1, 2, 3)\n",
    "numberList = list(numberTuple)\n",
    "print(numberList)\n",
    "#Results: [1, 2, 3]\n",
    "numberList = [1, 2, 3]\n",
    "numberTuple = tuple(numberList)\n",
    "print(numberTuple)\n",
    "#Results: (1, 2, 3)\n"
   ]
  },
  {
   "cell_type": "markdown",
   "metadata": {},
   "source": [
    "# <span style=\"color:blue\">**Dictionaries (Chapter 4C)**</span>"
   ]
  },
  {
   "cell_type": "markdown",
   "metadata": {},
   "source": [
    "#### chp04Cex01Dict01"
   ]
  },
  {
   "cell_type": "code",
   "execution_count": null,
   "metadata": {},
   "outputs": [],
   "source": [
    "studentsScores = {\"Juma\": 34.56, \"George\": 67.5, \"Charles\": 89}\n",
    "print(f\"studentsScores: {studentsScores}\")\n",
    "print(\"\\nCreate a dictionary from a list of tuples\")\n",
    "dict3=dict([ (\"Juma\",34.56), (\"George\",67.5), (\"Charles\",89)]) #list of tuples\n",
    "print(f\"dict3: {dict3}\") \n",
    "\n",
    "print(\"\\nCreate a dictionary from a tuple of lists\") \n",
    "dict4=dict(( [\"Juma\",34.56], [\"George\",67.5], [\"Charles\",89])) #list of tuples\n",
    "print(f\"dict4: {dict4}\") \n",
    "\n",
    "print(\"\\nCreate an empty dictionary\")\n",
    "dict5={}\n",
    "print(f\"dict5: {dict5}\")    #output: {}"
   ]
  },
  {
   "cell_type": "markdown",
   "metadata": {},
   "source": [
    "#### chp04Cex02Dict02"
   ]
  },
  {
   "cell_type": "code",
   "execution_count": null,
   "metadata": {},
   "outputs": [],
   "source": [
    "#accessing the keys and values\n",
    "studentsScores = {\"Juma\": 34.56, \"George\": 67.5, \"Charles\": 89}\n",
    "print(studentsScores)\n",
    "print(studentsScores[\"George\"])\n",
    "print(studentsScores.get(\"George\"))\n",
    "studentsScores[\"Charles\"] = 65.5\n",
    "print(studentsScores)"
   ]
  },
  {
   "cell_type": "code",
   "execution_count": null,
   "metadata": {},
   "outputs": [],
   "source": [
    "#using get method\n",
    "studentsScores = {\"Juma\": 34.56, \"George\": 67.5, \"Charles\": 89}\n",
    "keyName=\"George\"\n",
    "if studentsScores.get(keyName)==None:\n",
    "    print(f\"Key {keyName} does not exist\")\n",
    "else:\n",
    "    print(f\"Value for key {keyName} is {studentsScores.get(keyName)}\")"
   ]
  },
  {
   "cell_type": "code",
   "execution_count": null,
   "metadata": {},
   "outputs": [],
   "source": [
    "studentsScores = {\"Juma\": 34.56, \"George\": 67.5, \"Charles\": 89}\n",
    "keyName=\"George\"\n",
    "if studentsScores.get(keyName,\"not found\")==\"not found\":\n",
    "     print(f\"Key {keyName} does not exist\")\n",
    "else: \n",
    "    print(f\"Value for key {keyName} is {studentsScores.get(keyName)}\")"
   ]
  },
  {
   "cell_type": "markdown",
   "metadata": {},
   "source": [
    "#### chp04Cex03Dict03"
   ]
  },
  {
   "cell_type": "code",
   "execution_count": null,
   "metadata": {},
   "outputs": [],
   "source": [
    "## Using dict.keys() and dict.values() methods\n",
    "# loop through a dictionary and display keys \n",
    "studentsScores = {\"Juma\": 34.56, \"George\": 67.5, \"Charles\": 89}\n",
    "print(f\"studentsScores.keys(): {studentsScores.keys()}\")\n",
    "print(f\"type(studentsScores.keys()): {type(studentsScores.keys())}\")\n",
    "print(f\"\\nstudentsScores.values():{studentsScores.values()}\")\n",
    "print(f\"type(studentsScores.values()): {type(studentsScores.values())}\")"
   ]
  },
  {
   "cell_type": "markdown",
   "metadata": {},
   "source": [
    "#### chp04Cex04Dict04"
   ]
  },
  {
   "cell_type": "code",
   "execution_count": null,
   "metadata": {},
   "outputs": [],
   "source": [
    "#Using loop to access keys\n",
    "studentsScores = {\"Juma\": 34.56, \"George\": 67.5, \"Charles\": 89}\n",
    "print(\"Keys from the dictionary are:\")\n",
    "print(\"Name  Marks\")\n",
    "item = 1\n",
    "for key in studentsScores.keys():\n",
    "    print(f\"{item:<6}{key:10}\")\n",
    "    item = item + 1\n",
    "print()\n",
    "\n",
    "#Using loop to access values\n",
    "print(\"Values from the dictionary are:\")\n",
    "print(\"Name  Marks\")\n",
    "item = 1\n",
    "for value in studentsScores.values():\n",
    "    print(f\"{item:<6}{value:5.2f}\")\n",
    "    item = item + 1"
   ]
  },
  {
   "cell_type": "markdown",
   "metadata": {},
   "source": [
    "#### chp04Cex05Dict05"
   ]
  },
  {
   "cell_type": "code",
   "execution_count": null,
   "metadata": {},
   "outputs": [],
   "source": [
    "#Create lists of values and also keys\n",
    "keysList=list(studentsScores.keys())\n",
    "valuesList=list(studentsScores.values())\n",
    "print(f\"List of keys is: {keysList}\")\n",
    "print(f\"List of values is: {valuesList}\")\n"
   ]
  },
  {
   "cell_type": "markdown",
   "metadata": {},
   "source": [
    "#### chp04Cex06Dict06"
   ]
  },
  {
   "cell_type": "code",
   "execution_count": null,
   "metadata": {},
   "outputs": [],
   "source": [
    "# using items() to get keys and values pairs\n",
    "studentsScores = {\"Juma\": 34.56, \"George\": 67.5, \"Charles\": 89}\n",
    "print(f\"Items: {studentsScores.items()}\")\n",
    "print(f\"Type: {type(studentsScores.items())}\")\n",
    "\n",
    "print(\"\\nList of studentsScores.items() is:\")\n",
    "lst= list(studentsScores.items())\n",
    "print(lst)\n",
    "print(\"\\nItems in the list are:\")\n",
    "for item in lst:\n",
    "    print(item)\n",
    "print()\n",
    "print(\"Can print the items using a loop without converting to list\")\n",
    "for item in studentsScores.items(): \n",
    "    print(item)"
   ]
  },
  {
   "cell_type": "markdown",
   "metadata": {},
   "source": [
    "#### chp04Cex07Dict07 - Get keys and values using items() and loop"
   ]
  },
  {
   "cell_type": "code",
   "execution_count": null,
   "metadata": {},
   "outputs": [],
   "source": [
    "# using items() and loop to get keys and values\n",
    "studentsScores={\"John\":45.5, \"Hamis\":67.5, \"Deo\":89.5}\n",
    "#iterators: 1st is key, 2nd is value\n",
    "print(\"Name    Marks\")\n",
    "for key,value in studentsScores.items():\n",
    "    print(f\"{key:7} {value:5.2f}\")\n",
    "\n",
    "print('\\nAlternatively, use the key to get the value')\n",
    "print(\"Name    Marks\")\n",
    "for key in studentsScores.keys():\n",
    "    print(f\"{key:7} {studentsScores[key]:5.2f}\")"
   ]
  },
  {
   "cell_type": "markdown",
   "metadata": {},
   "source": [
    "#### chp04Cex08Dict08 - len(), in and add item"
   ]
  },
  {
   "cell_type": "code",
   "execution_count": null,
   "metadata": {},
   "outputs": [],
   "source": [
    "studentsScores={\"Juma\":34.56, \"George\":67.5, \"Charles\":89}\n",
    "name=input(\"Enter name to search: \")\n",
    "if name in studentsScores.keys(): #if name in studentsScores:\n",
    "    print(f\"{name} exists in the dictionary\")\n",
    "else:\n",
    "    print(f\"{name} does not exists in the dictionary\")"
   ]
  },
  {
   "cell_type": "code",
   "execution_count": null,
   "metadata": {},
   "outputs": [],
   "source": [
    "# Determine the length of the dictionary\n",
    "print(f\"There are {len(studentsScores)} key-value pairs in the dictionary\")"
   ]
  },
  {
   "cell_type": "code",
   "execution_count": null,
   "metadata": {},
   "outputs": [],
   "source": [
    "#Add a new pair in the dictionary\n",
    "newName=input(\"Enter new Name: \")\n",
    "newMark=float(input(f\"Enter marks for {newName}: \"))\n",
    "#add an item to the dictionary\n",
    "studentsScores[newName]=newMark\n",
    "print(\"\\nNew Dictionary is:\")\n",
    "print(studentsScores)\n",
    "print(\"\\nDisplay each pair on its own line\")\n",
    "for item in studentsScores.items():\n",
    "    print(item)"
   ]
  },
  {
   "cell_type": "markdown",
   "metadata": {},
   "source": [
    "#### Chp04Cex09Dict09 - Sorting dictionary using sorted keys"
   ]
  },
  {
   "cell_type": "code",
   "execution_count": null,
   "metadata": {},
   "outputs": [],
   "source": [
    "studentsScores={\"John\":45.5, \"Hamis\":67.5, \"Deo\":89.5}\n",
    "print(f\"sorted keys: {sorted(studentsScores.keys())}\")"
   ]
  },
  {
   "cell_type": "code",
   "execution_count": null,
   "metadata": {},
   "outputs": [],
   "source": [
    "studentsScores={\"John\":45.5, \"Hamis\":67.5, \"Deo\":89.5}\n",
    "print('Sort in ascending')\n",
    "print(\"Name    Marks\")\n",
    "for key in sorted(studentsScores.keys()):\n",
    "    print(f\"{key:7} {studentsScores[key]:5.2f}\")\n",
    "\n",
    "print('\\nSort in descending')\n",
    "print(\"Name    Marks\")\n",
    "for key in sorted(studentsScores.keys(),reverse=True):\n",
    "    print(f\"{key:7} {studentsScores[key]:5.2f}\")"
   ]
  },
  {
   "cell_type": "markdown",
   "metadata": {},
   "source": [
    "#### Chp04Cex10Dict10 - sorting a dictionary using items()"
   ]
  },
  {
   "cell_type": "code",
   "execution_count": null,
   "metadata": {},
   "outputs": [],
   "source": [
    "#Sorting dictionary using sorted items\n",
    "studentsScores={\"John\":45.5, \"Hamis\":67.5, \"Deo\":89.5}\n",
    "print(f\"sorted items: {sorted(studentsScores.items())}\")"
   ]
  },
  {
   "cell_type": "code",
   "execution_count": null,
   "metadata": {},
   "outputs": [],
   "source": [
    "studentsScores={\"John\":45.5, \"Hamis\":67.5, \"Deo\":89.5}\n",
    "print('Sort in ascending')\n",
    "print(\"Name    Marks\")\n",
    "for key,value in sorted(studentsScores.items()):\n",
    "    print(f\"{key:7} {value:5.2f}\")\n",
    "\n",
    "print('\\nSort in descending')\n",
    "print(\"Name    Marks\")\n",
    "for key,value in sorted(studentsScores.items(),reverse=True):\n",
    "    print(f\"{key:7} {value:5.2f}\")"
   ]
  },
  {
   "cell_type": "markdown",
   "metadata": {},
   "source": [
    "#### Chp04Cex11Dict11\n",
    "###### Using pop method without default"
   ]
  },
  {
   "cell_type": "code",
   "execution_count": null,
   "metadata": {},
   "outputs": [],
   "source": [
    "studentsScores={'Juma': 34.56, 'George': 67.5, 'Charles': 89, 'Francis': 78.5}\n",
    "print(f\"Original dict is:\\n {studentsScores}\")\n",
    "#Check if the key exists before pop()\n",
    "name=input(\"Enter name to remove: \")\n",
    "if name in studentsScores:\n",
    "    studentsScores.pop(name)\n",
    "    print(f\"Specified item with key {name}  has been Removed\")\n",
    "    print(f\"Updated dictionary is:\\n {studentsScores}\")\n",
    "else:\n",
    "    print(f\"Did not find a key with the name of {name}\")"
   ]
  },
  {
   "cell_type": "markdown",
   "metadata": {},
   "source": [
    "###### Using pop method with default"
   ]
  },
  {
   "cell_type": "code",
   "execution_count": 86,
   "metadata": {},
   "outputs": [
    {
     "name": "stdout",
     "output_type": "stream",
     "text": [
      "Original dict is:\n",
      " {'Juma': 34.56, 'George': 67.5, 'Charles': 89, 'Francis': 78.5}\n",
      "Enter name to remove: George\n",
      "Specified item with key George  has been Removed\n",
      "Updated dictionary is:\n",
      " {'Juma': 34.56, 'Charles': 89, 'Francis': 78.5}\n"
     ]
    }
   ],
   "source": [
    "studentsScores={'Juma': 34.56, 'George': 67.5, 'Charles': 89, 'Francis': 78.5}\n",
    "print(f\"Original dict is:\\n {studentsScores}\")\n",
    "name=input(\"Enter name to remove: \")\n",
    "value=studentsScores.pop(name,'not found')\n",
    "if value!='not found': # key was found\n",
    "    print(f\"Specified item with key {name}  has been Removed\")\n",
    "    print(f\"Updated dictionary is:\\n {studentsScores}\")\n",
    "else:\n",
    "    print(f\"Did not find a key with the name of {name}\")"
   ]
  },
  {
   "cell_type": "code",
   "execution_count": null,
   "metadata": {},
   "outputs": [],
   "source": []
  },
  {
   "cell_type": "markdown",
   "metadata": {},
   "source": [
    "###### Using popitem to delete an item"
   ]
  },
  {
   "cell_type": "code",
   "execution_count": null,
   "metadata": {},
   "outputs": [],
   "source": [
    "studentsScores={'Juma': 34.56, 'George': 67.5, 'Charles': 89, 'Francis': 78.5}\n",
    "print(f\"Original dict is:\\n {studentsScores}\")\n",
    "if len(studentsScores)>0:\n",
    "    item=studentsScores.popitem() # deletes the last item\n",
    "    print(f\"Deleted item is: {item}\")\n",
    "    print(f\"Updated dictionary is:\\n {studentsScores}\")\n",
    "else:\n",
    "    print(\"Nothing deleted as the dictionary is empty\")"
   ]
  },
  {
   "cell_type": "markdown",
   "metadata": {},
   "source": [
    "###### Using del to delete an item"
   ]
  },
  {
   "cell_type": "code",
   "execution_count": null,
   "metadata": {},
   "outputs": [],
   "source": [
    "studentsScores={'Juma': 34.56, 'George': 67.5, 'Charles': 89, 'Francis': 78.5}\n",
    "print(f\"Original dict is:\\n {studentsScores}\")\n",
    "name=input(\"Enter name to delete: \")\n",
    "if name in studentsScores:\n",
    "    del studentsScores[name]\n",
    "    print(f\"Specified item with key {name} has been Removed\")\n",
    "    print(f\"Updated dictionary is:\\n {studentsScores}\")\n",
    "else:\n",
    "    print(f\"Did not find a key with the name of {name}\")"
   ]
  },
  {
   "cell_type": "markdown",
   "metadata": {},
   "source": [
    "###### Clear/empty the dictionary items"
   ]
  },
  {
   "cell_type": "code",
   "execution_count": null,
   "metadata": {},
   "outputs": [],
   "source": [
    "studentsScores={'Juma': 34.56, 'George': 67.5, 'Charles': 89, 'Francis': 78.5}\n",
    "print(f\"Original dict is:\\n {studentsScores}\")\n",
    "studentsScores.clear()\n",
    "print(\"New dictionary after clear is empty dictionary\")\n",
    "print(studentsScores)"
   ]
  },
  {
   "cell_type": "markdown",
   "metadata": {},
   "source": [
    "###### Delete the dictionary completely"
   ]
  },
  {
   "cell_type": "code",
   "execution_count": null,
   "metadata": {},
   "outputs": [],
   "source": [
    "studentsScores={'Juma': 34.56, 'George': 67.5, 'Charles': 89, 'Francis': 78.5}\n",
    "del studentsScores\n",
    "#print(studentsScores)  # error msg as studentsScores does not exist"
   ]
  },
  {
   "cell_type": "markdown",
   "metadata": {},
   "source": [
    "#### Chp04Cex12Dict12 - copy of a dictionary"
   ]
  },
  {
   "cell_type": "code",
   "execution_count": null,
   "metadata": {},
   "outputs": [],
   "source": [
    "studentsScores={\"Juma\":34.56, \"George\":67.5, \"Charles\":89}\n",
    "print(studentsScores)\n",
    "print(f\"id of studentsScores is {id(studentsScores)} \")\n",
    "\n",
    "print(\"\\nstudentsScoresCopy1 using copy method\")\n",
    "studentsScoresCopy1=studentsScores.copy()\n",
    "print(studentsScoresCopy1)\n",
    "print(f\"id of studentsScoresCopy1 is {id(studentsScoresCopy1)}\")\n",
    "\n",
    "print(\"\\nstudentsScoresCopy2 using dict constructor\")\n",
    "studentsScoresCopy2=dict(studentsScores)\n",
    "print(studentsScoresCopy2)\n",
    "print(f\"id of studentsScoresCopy2 is {id(studentsScoresCopy2)}\")"
   ]
  },
  {
   "cell_type": "markdown",
   "metadata": {},
   "source": [
    "#### Chp04Cex13Dict13 - merge two dictionaries using update()"
   ]
  },
  {
   "cell_type": "code",
   "execution_count": null,
   "metadata": {},
   "outputs": [],
   "source": [
    "#update()\n",
    "studentsScores={\"Juma\":34.56, \"George\":67.5}\n",
    "dict2={\"Charles\":89, \"Fatuma\":67,\"Kennedy\":56.5}\n",
    "print(f\"studentsScores Dictionary is:\\n {studentsScores}\")\n",
    "print(\"\\ndict2 Dictionary is:\\n {dict2}\")\n",
    "studentsScores.update(dict2)\n",
    "print(f\"\\nstudentsScores.update(dict2) results:\\n {studentsScores}\")"
   ]
  },
  {
   "cell_type": "markdown",
   "metadata": {},
   "source": [
    "#### chp04Cex14MergeDict01 - merge two dictionaries using **"
   ]
  },
  {
   "cell_type": "code",
   "execution_count": null,
   "metadata": {},
   "outputs": [],
   "source": [
    "dict1={\"Juma\":34.56, \"George\":67.5}\n",
    "dict2={\"Charles\":89, \"Fatuma\":67}\n",
    "print(f\"Dict1: {dict1}\")\n",
    "print(f\"Dict2: {dict2}\")\n",
    "dict3=dict(**dict1, **dict2)\n",
    "print(f\"\\ndict3=dict(**dict1, **dict2)\\n {dict3}\")\n",
    "print(\"\\ndict4={**dict1, **dict2}  #alternative way\")\n",
    "dict4={**dict1, **dict2}  #alternative way\n",
    "print(dict4)"
   ]
  },
  {
   "cell_type": "code",
   "execution_count": null,
   "metadata": {},
   "outputs": [],
   "source": []
  },
  {
   "cell_type": "markdown",
   "metadata": {},
   "source": [
    "#### chp04Cex15MergeDict02 - merge two dictionaries using | operator (Python 3.9+)"
   ]
  },
  {
   "cell_type": "code",
   "execution_count": 84,
   "metadata": {},
   "outputs": [
    {
     "name": "stdout",
     "output_type": "stream",
     "text": [
      "Dict1: {'Juma': 34.56, 'George': 67.5}\n",
      "Dict2: {'Charles': 89, 'Fatuma': 67}\n",
      "\n",
      "dict3=dict1 | dict2\n",
      " {'Juma': 34.56, 'George': 67.5, 'Charles': 89, 'Fatuma': 67}\n",
      "\n",
      "Merging in place\n",
      "\n",
      "dict1 |= dict2 \n",
      " dict1: {'Juma': 34.56, 'George': 67.5, 'Charles': 89, 'Fatuma': 67}\n"
     ]
    }
   ],
   "source": [
    "#applicatble from python 3.9+\n",
    "dict1={\"Juma\":34.56, \"George\":67.5}\n",
    "dict2={\"Charles\":89, \"Fatuma\":67}\n",
    "print(f\"Dict1: {dict1}\")\n",
    "print(f\"Dict2: {dict2}\")\n",
    "dict3=dict1 | dict2\n",
    "print(f\"\\ndict3=dict1 | dict2\\n {dict3}\")\n",
    "\n",
    "print('\\nMerging in place')\n",
    "dict1 |=dict2\n",
    "print(f\"\\ndict1 |= dict2 \\n dict1: {dict1}\")\n"
   ]
  },
  {
   "cell_type": "markdown",
   "metadata": {},
   "source": [
    "#### chp04Cex16Zip - creating a dictionary using zip function"
   ]
  },
  {
   "cell_type": "code",
   "execution_count": null,
   "metadata": {},
   "outputs": [],
   "source": [
    "names = ['Juma', 'George', 'Charles']\n",
    "marks = [34.56, 67.5, 89]\n",
    "newList=list(zip(names,marks))\n",
    "print(newList)\n",
    "\n",
    "print(\"\\nConstructing dictionaries from lists\")\n",
    "names = ['Juma', 'George', 'Charles']\n",
    "marks = [34.56, 67.5, 89]\n",
    "new_dict_from_lists=dict(zip(names,marks))\n",
    "print(\"new_dict_from_lists=dict(zip(names,marks))\")\n",
    "print(f\"new_dict= {new_dict_from_lists}\")\n",
    "\n",
    "print(\"\\nConstructing dictionaries from tuples\")\n",
    "names = ('Juma', 'George', 'Charles')\n",
    "marks = (34.56, 67.5, 89)\n",
    "new_dict_from_tuples=dict(zip(names,marks))\n",
    "print(\"new_dict_from_tuples=dict(zip(names,marks))\")\n",
    "print(f\"new_dict= {new_dict_from_tuples}\")"
   ]
  },
  {
   "cell_type": "markdown",
   "metadata": {},
   "source": [
    "#### chp04Cex17ImportVars \n",
    "###### Importing variables from a .py file"
   ]
  },
  {
   "cell_type": "code",
   "execution_count": 1,
   "metadata": {},
   "outputs": [
    {
     "name": "stdout",
     "output_type": "stream",
     "text": [
      "Data from list1:\n",
      " ['Kimario', 'Hamis', 'George']\n",
      "\n",
      "Data from tuple1:\n",
      " ('Tanzania', 'Kenya', 'Uganda', 'Rwanda')\n",
      "\n",
      "Data from dict1:\n",
      " {'Juma': 34.56, 'George': 67.5, 'Charles': 89}\n"
     ]
    }
   ],
   "source": [
    "#file: importvars.py is provided and exists in the path\n",
    "# where there is this notebook\n",
    "from importvars import list1, tuple1, dict1\n",
    "# do not specify extension of the file (i.e. .py)\n",
    "#Display data from the imported variables\n",
    "print(f\"Data from list1:\\n\",list1)\n",
    "print(f\"\\nData from tuple1:\\n\",tuple1)\n",
    "print(f\"\\nData from dict1:\\n\",dict1)\n",
    "\n",
    "#Now you can continue to process data from these three variables\n",
    "#This technique will be used in the assignment"
   ]
  },
  {
   "cell_type": "code",
   "execution_count": null,
   "metadata": {},
   "outputs": [],
   "source": []
  }
 ],
 "metadata": {
  "kernelspec": {
   "display_name": "Python 3",
   "language": "python",
   "name": "python3"
  },
  "language_info": {
   "codemirror_mode": {
    "name": "ipython",
    "version": 3
   },
   "file_extension": ".py",
   "mimetype": "text/x-python",
   "name": "python",
   "nbconvert_exporter": "python",
   "pygments_lexer": "ipython3",
   "version": "3.9.0"
  }
 },
 "nbformat": 4,
 "nbformat_minor": 2
}
