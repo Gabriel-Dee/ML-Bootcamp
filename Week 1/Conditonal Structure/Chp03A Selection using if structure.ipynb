{
 "cells": [
  {
   "cell_type": "markdown",
   "metadata": {},
   "source": [
    "## Chp3A if Structure Examples"
   ]
  },
  {
   "cell_type": "markdown",
   "metadata": {},
   "source": [
    "#### chp03Aex00ARelationalOperators"
   ]
  },
  {
   "cell_type": "code",
   "execution_count": null,
   "metadata": {},
   "outputs": [],
   "source": [
    "print(type(True))\n",
    "print(type(False))\n",
    "\n",
    "x=6; y=5; z=5\n",
    "print(\"x={}; y={}; z={}\".format(x,y,z))\n",
    "print(\"{}=={}:{}\".format(x,y, x==y))\n",
    "print(\"{}>{}:{}\".format(x,y, x>y))\n",
    "print(\"{}<{}:{}\".format(x,y, x<y))\n",
    "print(\"{}>={}:{}\".format(x,y, x>=y))\n",
    "print(\"{}>={}:{}\".format(y,x, y>=x))\n",
    "print(\"{}!={}:{}\".format(x,y, x!=y))"
   ]
  },
  {
   "cell_type": "markdown",
   "metadata": {},
   "source": [
    "#### chp03Aex00BLogicalOperators"
   ]
  },
  {
   "cell_type": "code",
   "execution_count": null,
   "metadata": {},
   "outputs": [],
   "source": [
    "x=6\n",
    "print(\"x={}\".format(x))\n",
    "print(\"x>5 and x<10: {}\".format(x>5 and x<10))\n",
    "print(\"x<5 and x<10: {}\".format(x<5 and x<10))\n",
    "print(\"x%2==0: {}\".format(x%2==0))\n",
    "print(\"x%2==1: {}\".format(x%2==1))"
   ]
  },
  {
   "cell_type": "markdown",
   "metadata": {},
   "source": [
    "#### chp03Aex01SimpleIf01"
   ]
  },
  {
   "cell_type": "code",
   "execution_count": null,
   "metadata": {},
   "outputs": [],
   "source": [
    "marks = float(input(\"Enter marks: \"))\n",
    "if marks >= 70:\n",
    "    print(\"Grade is A\")\n",
    "    print(\"Remark is pass\")\n",
    "print(\"This is outside the block\")"
   ]
  },
  {
   "cell_type": "code",
   "execution_count": null,
   "metadata": {},
   "outputs": [],
   "source": []
  },
  {
   "cell_type": "markdown",
   "metadata": {},
   "source": [
    "#### chp03Aex02SimpleIf02"
   ]
  },
  {
   "cell_type": "code",
   "execution_count": null,
   "metadata": {},
   "outputs": [],
   "source": [
    "marks=float(input(\"Enter marks: \")) \n",
    "if marks>=70: print(\"Grade is A, Remark is pass\") \n",
    "print(\"This is outside the block\")\n"
   ]
  },
  {
   "cell_type": "markdown",
   "metadata": {},
   "source": [
    "#### chp03Aex03IfElse01"
   ]
  },
  {
   "cell_type": "code",
   "execution_count": null,
   "metadata": {},
   "outputs": [],
   "source": [
    "marks = float(input(\"Enter marks: \"))\n",
    "if marks >= 50:\n",
    "    print(\"Grade is B or above\")\n",
    "    print(\"Remark is pass\")\n",
    "else:\n",
    "    print(\"Grade is below B\")\n",
    "    print(\"Remark is Fail\")\n",
    "print(\"This is outside the block\")"
   ]
  },
  {
   "cell_type": "markdown",
   "metadata": {},
   "source": [
    "#### chp03Aex04ifelifelse01"
   ]
  },
  {
   "cell_type": "code",
   "execution_count": null,
   "metadata": {},
   "outputs": [],
   "source": [
    "# Grading system for UDSM\n",
    "# assume entered marks is within the range (0..100)\n",
    "\n",
    "marks = float(input(\"Enter marks 0-100 : \"))\n",
    "if marks>100:\n",
    "    grade=\"Invalid\"\n",
    "elif marks >= 70:\n",
    "    grade = \"A\"\n",
    "elif marks >= 60:\n",
    "    grade = \"B+\"\n",
    "elif marks >= 50:\n",
    "    grade = \"B\"\n",
    "elif marks >= 40:\n",
    "    grade = \"C\"\n",
    "elif marks >= 35:\n",
    "    grade = \"D\"\n",
    "elif marks >= 0:  \n",
    "    grade = \"E\"\n",
    "elif marks < 0:  \n",
    "    grade = \"invalid\"\n",
    "   \n",
    "print(f\"marks is {marks:.2f} and Grade is {grade:s}\")\n"
   ]
  },
  {
   "cell_type": "markdown",
   "metadata": {},
   "source": [
    "#### chp03Aex05ifelifelse02"
   ]
  },
  {
   "cell_type": "code",
   "execution_count": 1,
   "metadata": {},
   "outputs": [
    {
     "name": "stdout",
     "output_type": "stream",
     "text": [
      "Enter marks 0-100 : 123\n",
      "marks is 123.00 and is outside the range\n"
     ]
    }
   ],
   "source": [
    "# Grading system for UDSM\n",
    "# Capture entries outside the range\n",
    "marks = float(input(\"Enter marks 0-100 : \"))\n",
    "if marks < 0 or marks > 100:  # using logical operator\n",
    "    grade = \"invalid\"\n",
    "elif marks >= 70:\n",
    "    grade = \"A\"\n",
    "elif marks >= 60:\n",
    "    grade = \"B+\"\n",
    "elif marks >= 50:\n",
    "    grade = \"B\"\n",
    "elif marks >= 40:\n",
    "    grade = \"C\"\n",
    "elif marks >= 35:\n",
    "    grade = \"D\"\n",
    "elif marks >= 0:\n",
    "    grade = \"E\"\n",
    "\n",
    "if grade==\"invalid\":\n",
    "    print(f\"marks is {marks:.2f} and is outside the range\")\n",
    "else:\n",
    "    print(f\"Marks is {marks:.2f} and Grade is {grade}\")\n"
   ]
  },
  {
   "cell_type": "markdown",
   "metadata": {},
   "source": [
    "#### chp03Aex06ifelifelse03"
   ]
  },
  {
   "cell_type": "code",
   "execution_count": null,
   "metadata": {},
   "outputs": [],
   "source": [
    "# uses \"and\" logical operator\n",
    "marks = float(input(\"Enter marks 0-100 : \"))\n",
    "if marks >= 70 and marks <= 100:\n",
    "    grade = \"A\"\n",
    "elif marks >= 60 and marks < 70:\n",
    "    grade = \"B+\"\n",
    "elif marks >= 50 and marks < 60:\n",
    "    grade = \"B\"\n",
    "elif marks >= 40 and marks < 50:\n",
    "    grade = \"C\"\n",
    "elif marks >= 35 and marks < 40:\n",
    "    grade = \"D\"\n",
    "elif marks >=0 and marks < 35:\n",
    "    grade = \"E\"\n",
    "\n",
    "if marks >= 0 and marks <=100:\n",
    "    print(f\"Marks is {marks:.2f} and Grade is {grade}\")\n",
    "else:\n",
    "    print(f\"Marks is {marks:.2f} and is outside the range\")\n",
    "        "
   ]
  },
  {
   "cell_type": "markdown",
   "metadata": {},
   "source": [
    "#### chp03Aex07nestedIf01"
   ]
  },
  {
   "cell_type": "code",
   "execution_count": null,
   "metadata": {},
   "outputs": [],
   "source": [
    "x = int(input(\"Enter value of x: \"))\n",
    "if x > 1 : \n",
    "     if x < 100 : \n",
    "        print(\"x is greater than 1 and Less than 100\")\n",
    "     else:\n",
    "        print(\"x is greater than 1 and greater than 100\")\n",
    "else:\n",
    "    print(\"x is less or equal to 1\")\n",
    "print('All done')\n"
   ]
  },
  {
   "cell_type": "markdown",
   "metadata": {},
   "source": [
    "#### chp03Aex08ifelseonestatement"
   ]
  },
  {
   "cell_type": "code",
   "execution_count": null,
   "metadata": {},
   "outputs": [],
   "source": [
    "marks = float(input(\"Enter marks: \"))\n",
    "if marks >= 50:\n",
    "    print(\"Grade is B or above\")\n",
    "else:\n",
    "    print(\"Grade is below B\")\n",
    "\n",
    "# above can be written as (readability??)\n",
    "print(\"Grade is B or above\" if marks >= 50 else \"Grade is below B\")\n"
   ]
  },
  {
   "cell_type": "code",
   "execution_count": null,
   "metadata": {},
   "outputs": [],
   "source": []
  }
 ],
 "metadata": {
  "kernelspec": {
   "display_name": "Python 3",
   "language": "python",
   "name": "python3"
  },
  "language_info": {
   "codemirror_mode": {
    "name": "ipython",
    "version": 3
   },
   "file_extension": ".py",
   "mimetype": "text/x-python",
   "name": "python",
   "nbconvert_exporter": "python",
   "pygments_lexer": "ipython3",
   "version": "3.9.0"
  }
 },
 "nbformat": 4,
 "nbformat_minor": 2
}
