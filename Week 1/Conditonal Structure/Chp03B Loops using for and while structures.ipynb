{
 "cells": [
  {
   "cell_type": "markdown",
   "metadata": {},
   "source": [
    "## Chp3B Loops"
   ]
  },
  {
   "cell_type": "markdown",
   "metadata": {},
   "source": [
    "### while loop Examples"
   ]
  },
  {
   "cell_type": "markdown",
   "metadata": {},
   "source": [
    "#### chp03Bex01while01A"
   ]
  },
  {
   "cell_type": "code",
   "execution_count": null,
   "metadata": {},
   "outputs": [],
   "source": [
    "#Display 1,2,3,...10. \n",
    "number=1\n",
    "while number<=10:\n",
    "    print(number,end=\",\")\n",
    "    number=number+1"
   ]
  },
  {
   "cell_type": "markdown",
   "metadata": {},
   "source": [
    "#### chp03Bex02while01B"
   ]
  },
  {
   "cell_type": "code",
   "execution_count": null,
   "metadata": {},
   "outputs": [],
   "source": [
    "#Display 1,2,3,...10 BUT omit last comma after 10 \n",
    "number=1\n",
    "while number<=10:\n",
    "    if number<=9:\n",
    "        print(number,end=\",\")\n",
    "    else:\n",
    "        print(number)\n",
    "    number=number+1"
   ]
  },
  {
   "cell_type": "markdown",
   "metadata": {},
   "source": [
    "#### chp03Bex03while02"
   ]
  },
  {
   "cell_type": "code",
   "execution_count": null,
   "metadata": {},
   "outputs": [],
   "source": [
    "number=1\n",
    "sum=0\n",
    "while number<=10:\n",
    "    sum=sum+number\n",
    "    number=number+1  #number +=1\n",
    "average=sum/10\n",
    "print(f\"The sum is {sum} and average is {average:.2f}\")\n",
    "\n",
    "#The sum is 55 and average is 5.50 "
   ]
  },
  {
   "cell_type": "markdown",
   "metadata": {},
   "source": [
    "#### chp03Bex04while03"
   ]
  },
  {
   "cell_type": "code",
   "execution_count": null,
   "metadata": {},
   "outputs": [],
   "source": [
    "number=1\n",
    "while number<5:\n",
    "    print (f\"{number} is  less than 5\")\n",
    "    number = number + 1\n",
    "else:\n",
    "   print (f\"{number} is not less than 5\")"
   ]
  },
  {
   "cell_type": "markdown",
   "metadata": {},
   "source": [
    "## for loop Examples"
   ]
  },
  {
   "cell_type": "markdown",
   "metadata": {},
   "source": [
    "#### chp03Bex05for01"
   ]
  },
  {
   "cell_type": "code",
   "execution_count": null,
   "metadata": {},
   "outputs": [],
   "source": [
    "#iterate through a string\n",
    "str=\"Python\"\n",
    "for letter in str:\n",
    "    print(letter)\n",
    "else: \n",
    "    print(\"All characters displayed\")"
   ]
  },
  {
   "cell_type": "markdown",
   "metadata": {},
   "source": [
    "#### chp03Bex06break"
   ]
  },
  {
   "cell_type": "code",
   "execution_count": null,
   "metadata": {},
   "outputs": [],
   "source": [
    "number=1\n",
    "while number<5:\n",
    "    print(number)\n",
    "    if number==3:\n",
    "        break\n",
    "    number=number+1"
   ]
  },
  {
   "cell_type": "code",
   "execution_count": null,
   "metadata": {},
   "outputs": [],
   "source": [
    "str=\"Python\"\n",
    "for letter in str:\n",
    "    print(letter)\n",
    "    if letter==\"h\":\n",
    "        break"
   ]
  },
  {
   "cell_type": "code",
   "execution_count": null,
   "metadata": {},
   "outputs": [],
   "source": [
    "number=1\n",
    "while number<5:\n",
    "    print (number)\n",
    "    if number==3:\n",
    "        break\n",
    "    number=number+1\n",
    "\n",
    "print()  # insert blank line\n",
    "str=\"Python\"\n",
    "for letter in str:\n",
    "    print(letter,end=\"\")\n",
    "    if letter==\"h\":\n",
    "        break"
   ]
  },
  {
   "cell_type": "markdown",
   "metadata": {},
   "source": [
    "#### chp03Bex07continue"
   ]
  },
  {
   "cell_type": "code",
   "execution_count": null,
   "metadata": {},
   "outputs": [],
   "source": [
    "str=\"Python\"\n",
    "for letter in str:\n",
    "    if letter==\"h\":  # skips letter \"h\"\n",
    "        continue\n",
    "    print(letter,end=\"\")"
   ]
  },
  {
   "cell_type": "markdown",
   "metadata": {},
   "source": [
    "### Using range function"
   ]
  },
  {
   "cell_type": "markdown",
   "metadata": {},
   "source": [
    "#### chp03Bex08range01"
   ]
  },
  {
   "cell_type": "code",
   "execution_count": null,
   "metadata": {},
   "outputs": [],
   "source": [
    "print(\"range(6):\",end=\" \")\n",
    "for x in range(6):\n",
    "  print(x, end=\" \")\n",
    "\n",
    "print(\"\\nrange(1,6):\",end=\" \")\n",
    "for x in range(1,6):\n",
    "  print(x, end=\" \")\n",
    "\n",
    "print(\"\\nrange(1,6,2):\", end=\" \")\n",
    "for x in range(1,6,2):\n",
    "  print(x, end=\" \")\n",
    "\n",
    "print(\"\\nrange(1,7,2):\", end=\" \")\n",
    "for x in range(1,7,2):\n",
    "  print(x, end=\" \")"
   ]
  },
  {
   "cell_type": "markdown",
   "metadata": {},
   "source": [
    "#### chp03Bex09range02"
   ]
  },
  {
   "cell_type": "code",
   "execution_count": null,
   "metadata": {},
   "outputs": [],
   "source": [
    "#print vowels in a string and Number of vowels\n",
    "str=\"Python is a High Level Programming Language\"\n",
    "counter=0\n",
    "for x in range(len(str)):\n",
    "    str2=str[x].lower()\n",
    "    if str2==\"a\" or str2==\"e\" or str2==\"i\" or str2==\"o\" or str2==\"u\":\n",
    "        counter +=1\n",
    "        print(str[x], end=\"\")\n",
    "print(\"\\nThere are {} vowels in str\".format(counter))"
   ]
  },
  {
   "cell_type": "markdown",
   "metadata": {},
   "source": [
    "#### chp03Bex10range03"
   ]
  },
  {
   "cell_type": "code",
   "execution_count": null,
   "metadata": {},
   "outputs": [],
   "source": [
    "#Alternative solution\n",
    "#print vowels in a string and Number of vowels\n",
    "str=\"Python is a High Level Programming Language\"\n",
    "strLower=str.lower()\n",
    "counter=0\n",
    "print(\"Vowels in str are:\")\n",
    "for x in range(len(strLower)):\n",
    "    char=strLower[x]\n",
    "    if char==\"a\" or char==\"e\" or char==\"i\" or char==\"o\" or char==\"u\":\n",
    "        counter +=1\n",
    "        print(char, end=\"\")\n",
    "print(\"\\nThere are {} vowels in str\".format(counter))\n",
    "        "
   ]
  },
  {
   "cell_type": "markdown",
   "metadata": {},
   "source": [
    "#### chp03Bex11nestedloop"
   ]
  },
  {
   "cell_type": "code",
   "execution_count": null,
   "metadata": {},
   "outputs": [],
   "source": [
    "# 3x3 Multiplication table\n",
    "for outer in range(1,4):\n",
    "  print(f\" {outer:2d}\",end=\"\")\n",
    "print()\n",
    "print(f\"  {'-'*8}\")\n",
    "      \n",
    "for outer in range(1,4):   # outer loop\n",
    "  print(outer,end=\" \")\n",
    "  for inner in range(1,4):  # inner loop\n",
    "    print(f\"{outer*inner:2d}\", end=\" \")\n",
    "  print()"
   ]
  },
  {
   "cell_type": "markdown",
   "metadata": {},
   "source": [
    "#### chp03Bex12doWhile"
   ]
  },
  {
   "cell_type": "code",
   "execution_count": null,
   "metadata": {},
   "outputs": [],
   "source": [
    "while True:\n",
    "    marks=float(input(\"Enter marks (0..100) \"))\n",
    "    if marks>=0 and marks<=100: # if 0<=marks<=100\n",
    "        break\n",
    "    else:\n",
    "        print(f\"Entered marks {marks:.2f} is outside the range, Try again\")\n",
    "\n",
    "print(f\"Entered marks {marks:.2f} is valid\")"
   ]
  },
  {
   "cell_type": "code",
   "execution_count": null,
   "metadata": {},
   "outputs": [],
   "source": []
  },
  {
   "cell_type": "markdown",
   "metadata": {},
   "source": [
    "#### chp03Bex13doWhile_alternative1"
   ]
  },
  {
   "cell_type": "code",
   "execution_count": null,
   "metadata": {},
   "outputs": [],
   "source": [
    "#alternative of do..while using a flag\n",
    "validMarks=False\n",
    "while validMarks==False:\n",
    "    marks=float(input(\"Enter marks (0..100) \"))\n",
    "    if marks>=0 and marks<=100: # if 0<=marks<=100\n",
    "        validMarks=True\n",
    "    else:\n",
    "        print(f\"Entered marks {marks:.2f} is outside the range, Try again\")\n",
    "\n",
    "print(f\"Entered marks {marks:.2f} is valid\")"
   ]
  },
  {
   "cell_type": "markdown",
   "metadata": {},
   "source": [
    "#### chp03Bex14doWhile_alternative2"
   ]
  },
  {
   "cell_type": "code",
   "execution_count": null,
   "metadata": {},
   "outputs": [],
   "source": [
    "#alternative of do..while using while\n",
    "marks=float(input(\"Enter marks (0..100) \"))\n",
    "while marks<0 or marks>100:\n",
    "    print(f\"Entered marks {marks:.2f} is outside the range, Try again\")\n",
    "    marks=float(input(\"Enter marks (0..100) \"))\n",
    "\n",
    "print(f\"Entered marks {marks:.2f} is valid\")"
   ]
  }
 ],
 "metadata": {
  "kernelspec": {
   "display_name": "Python 3",
   "language": "python",
   "name": "python3"
  },
  "language_info": {
   "codemirror_mode": {
    "name": "ipython",
    "version": 3
   },
   "file_extension": ".py",
   "mimetype": "text/x-python",
   "name": "python",
   "nbconvert_exporter": "python",
   "pygments_lexer": "ipython3",
   "version": "3.9.0"
  }
 },
 "nbformat": 4,
 "nbformat_minor": 2
}
